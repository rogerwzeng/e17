{
  "nbformat": 4,
  "nbformat_minor": 0,
  "metadata": {
    "colab": {
      "provenance": [],
      "include_colab_link": true
    },
    "kernelspec": {
      "name": "python3",
      "display_name": "Python 3"
    },
    "language_info": {
      "name": "python"
    }
  },
  "cells": [
    {
      "cell_type": "markdown",
      "metadata": {
        "id": "view-in-github",
        "colab_type": "text"
      },
      "source": [
        "<a href=\"https://colab.research.google.com/github/rogerwzeng/e17/blob/main/13_Lecture_13_A_Star_Algorithm.ipynb\" target=\"_parent\"><img src=\"https://colab.research.google.com/assets/colab-badge.svg\" alt=\"Open In Colab\"/></a>"
      ]
    },
    {
      "cell_type": "code",
      "source": [
        "# import libraries\n",
        "import numpy as np\n",
        "from typing import Callable, Dict, List, Tuple, Union"
      ],
      "metadata": {
        "id": "8-Cmi1Z56iKy"
      },
      "execution_count": 1,
      "outputs": []
    },
    {
      "cell_type": "code",
      "execution_count": 2,
      "metadata": {
        "id": "pDMnRwIltFvc"
      },
      "outputs": [],
      "source": [
        "# create graph with adjacency list\n",
        "G0 = {\n",
        "    \"S\": {\n",
        "        \"neighbors\" : [(\"B\", 18), (\"C\", 12), (\"D\", 30)],\n",
        "        \"coords\"    : (5.00, 5.00)\n",
        "    },\n",
        "    \"A\": {\n",
        "        \"neighbors\" : [(\"B\", 27), (\"G\", 10)],\n",
        "        \"coords\"    : (19.40, 18.63)\n",
        "    },\n",
        "    \"B\": {\n",
        "        \"neighbors\" : [(\"A\", 27), (\"G\", 15), (\"S\", 18)],\n",
        "        \"coords\"    : (17.20, 16.99)\n",
        "    },\n",
        "    \"C\": {\n",
        "        \"neighbors\" : [(\"D\", 8), (\"G\", 20), (\"S\", 12)],\n",
        "        \"coords\"    : (15.92, 4.65)\n",
        "    },\n",
        "    \"D\": {\n",
        "        \"neighbors\" : [(\"C\", 8), (\"G\", 10), (\"S\", 30)],\n",
        "        \"coords\"    : (20.12, 0.95)\n",
        "    },\n",
        "    \"G\": {\n",
        "        \"neighbors\" : [(\"A\", 10), (\"B\", 15), (\"C\", 20), (\"D\", 10)],\n",
        "        \"coords\"    : (24.36, 10.01)\n",
        "    },\n",
        "}"
      ]
    },
    {
      "cell_type": "code",
      "source": [
        "# create graph with adjacency list\n",
        "G = {\n",
        "    \"S\": {\n",
        "        \"neighbors\" : [(\"A\", 15), (\"B\", 29), (\"D\", 11)],\n",
        "        \"coords\"    : (6, 6)\n",
        "    },\n",
        "    \"A\": {\n",
        "        \"neighbors\" : [(\"D\", 19), (\"E\", 12), (\"G\", 35), (\"S\", 15)],\n",
        "        \"coords\"    : (10, 12)\n",
        "    },\n",
        "    \"B\": {\n",
        "        \"neighbors\" : [(\"C\", 13), (\"S\", 29)],\n",
        "        \"coords\"    : (11, 18)\n",
        "    },\n",
        "    \"C\": {\n",
        "        \"neighbors\" : [(\"B\", 13), (\"G\", 12)],\n",
        "        \"coords\"    : (16, 17)\n",
        "    },\n",
        "    \"D\": {\n",
        "        \"neighbors\" : [(\"A\", 19), (\"E\", 23), (\"F\", 36), (\"S\", 11)],\n",
        "        \"coords\"    : (14, 5)\n",
        "    },\n",
        "    \"E\": {\n",
        "        \"neighbors\" : [(\"A\", 12), (\"D\", 23), (\"F\", 10)],\n",
        "        \"coords\"    : (19, 9)\n",
        "    },\n",
        "    \"F\": {\n",
        "        \"neighbors\" : [(\"D\", 36), (\"E\", 10), (\"G\", 9)],\n",
        "        \"coords\"    : (22, 1)\n",
        "    },\n",
        "    \"G\": {\n",
        "        \"neighbors\" : [(\"A\", 35), (\"C\", 12), (\"F\", 9)],\n",
        "        \"coords\"    : (25, 13)\n",
        "    },\n",
        "}"
      ],
      "metadata": {
        "id": "EwiCvOeWkEsz"
      },
      "execution_count": 2,
      "outputs": []
    },
    {
      "cell_type": "code",
      "source": [
        "# Euclidean Distance Function (serves as heuristic)\n",
        "def euclidean_distance(\n",
        "    coords1: Tuple[float, float],\n",
        "    coords2: Tuple[float, float]) -> float:\n",
        "    \"\"\"\n",
        "    Determines the Euclidean distance between two points\n",
        "    \"\"\"\n",
        "    x1, y1 = coords1\n",
        "    x2, y2 = coords2\n",
        "    return np.sqrt((x2 - x1)**2 + (y2 - y1)**2)\n",
        "\n",
        "# test Euclidean distance\n",
        "assert euclidean_distance((0, 0), (3,4)) == 5"
      ],
      "metadata": {
        "id": "TnVIbyCx5asV"
      },
      "execution_count": 3,
      "outputs": []
    },
    {
      "cell_type": "code",
      "source": [
        "# A* algorithm\n",
        "def a_star_algorithm(\n",
        "    G: Dict[str, Dict[str, Union[List[str], Tuple[float, float]]]],\n",
        "    start_node: str, goal_node: str,\n",
        "    heuristic_fn: Callable = lambda x, y: 0):\n",
        "    \"\"\"\n",
        "    Finds optimal path for a Graph G using the A* algorithm\n",
        "\n",
        "    Inputs:\n",
        "        - `G`: graph represented as an adjaceny list stored with neighbors and\n",
        "            coordinates (assumes structure from above)\n",
        "        - `start_node`: starting node\n",
        "        - `goal_node`: goal node\n",
        "        - `heuristic_fn`: heuristic function; default heuristic is to return 0\n",
        "\n",
        "    Output:\n",
        "        - Optimal path determined by A* algorithm and associated cost\n",
        "    \"\"\"\n",
        "    ### INPUT CHECKS ###\n",
        "    # check if `start_node` in G\n",
        "    if start_node not in G.keys():\n",
        "        raise ValueError(f\"Start node {start_node} not found in Graph with keys: {G.keys()}\")\n",
        "\n",
        "    # check if `goal_node` in G\n",
        "    if goal_node not in G.keys():\n",
        "        raise ValueError(f\"Start node {goal_node} not found in Graph with keys: {G.keys()}\")\n",
        "\n",
        "    ### A* Algorithm ###\n",
        "    # initialize table with path cost, heuristic value, and parent node\n",
        "    # default path cost is infinity\n",
        "    # initialize heuristic value with `heuristic_fn`\n",
        "    # default parent node is `None`\n",
        "    a_star_table = {n: {\n",
        "        \"path_cost\"             : np.inf,\n",
        "        \"heuristic\"             : heuristic_fn(\n",
        "            G[n][\"coords\"],\n",
        "            G[goal_node][\"coords\"]),\n",
        "        \"parent_node\"           : None,\n",
        "    } for n in G.keys()}\n",
        "\n",
        "    # update start node path cost to zero\n",
        "    a_star_table[start_node][\"path_cost\"] = 0\n",
        "\n",
        "    # initialize open set with starting node\n",
        "    open = [(start_node, a_star_table[start_node][\"path_cost\"] + a_star_table[start_node][\"heuristic\"])]\n",
        "\n",
        "    # initialize empty closed set\n",
        "    close = []\n",
        "\n",
        "    # iterate until open set is empty\n",
        "    while len(open) != 0:\n",
        "        # get curr element and cost\n",
        "        curr, curr_cost = open.pop(0)\n",
        "        # add to the close list\n",
        "        close.append(curr)\n",
        "\n",
        "        if curr == goal_node:\n",
        "            # found goal node; recursively form the path\n",
        "            # print(a_star_table)\n",
        "            path = []\n",
        "            parent_node = goal_node\n",
        "            while parent_node != None:\n",
        "                path.append(parent_node)\n",
        "                parent_node = a_star_table[parent_node][\"parent_node\"]\n",
        "\n",
        "            return path[::-1], a_star_table[curr][\"path_cost\"]\n",
        "        else:\n",
        "            # check the neighbors and update table\n",
        "            for neighbor in G[curr][\"neighbors\"]:\n",
        "                # calculate the tentative_path_cost\n",
        "                neighbor_node, neighor_cost = neighbor\n",
        "                tentative_path_cost = a_star_table[curr][\"path_cost\"] + neighor_cost\n",
        "\n",
        "                # update if tentative_path_cost is smaller than current path cost\n",
        "                if tentative_path_cost < a_star_table[neighbor_node][\"path_cost\"]:\n",
        "                    a_star_table[neighbor_node][\"path_cost\"] = tentative_path_cost\n",
        "                    a_star_table[neighbor_node][\"parent_node\"] = curr\n",
        "\n",
        "                    # add to open set - two case, new element or already present\n",
        "                    nodes_in_open = [n for n, _ in open]\n",
        "                    node_to_add = (neighbor_node,\n",
        "                                   a_star_table[neighbor_node][\"path_cost\"] +\n",
        "                                   a_star_table[neighbor_node][\"heuristic\"])\n",
        "                    if neighbor in nodes_in_open:\n",
        "                        open[nodes_in_open.index(neighbor)] = node_to_add\n",
        "                    else:\n",
        "                        open.append(node_to_add)\n",
        "\n",
        "                    # sort open list\n",
        "                    open = sorted(open, key = lambda x: x[1])\n",
        "\n",
        "\n",
        "    print(\"Couldn't find path using A* star algorithm\")\n",
        "    return False\n",
        "\n",
        "a_star_algorithm(G, \"S\", \"G\", euclidean_distance)"
      ],
      "metadata": {
        "colab": {
          "base_uri": "https://localhost:8080/"
        },
        "id": "-YfwiDrj6d1P",
        "outputId": "d2795319-c411-4fe6-f4c3-1c8a536ca191"
      },
      "execution_count": 7,
      "outputs": [
        {
          "output_type": "stream",
          "name": "stdout",
          "text": [
            "{'S': {'path_cost': 0, 'heuristic': 20.248456731316587, 'parent_node': None}, 'A': {'path_cost': 15, 'heuristic': 15.033296378372908, 'parent_node': 'S'}, 'B': {'path_cost': 29, 'heuristic': 14.866068747318506, 'parent_node': 'S'}, 'C': {'path_cost': 42, 'heuristic': 9.848857801796104, 'parent_node': 'B'}, 'D': {'path_cost': 11, 'heuristic': 13.601470508735444, 'parent_node': 'S'}, 'E': {'path_cost': 27, 'heuristic': 7.211102550927978, 'parent_node': 'A'}, 'F': {'path_cost': 37, 'heuristic': 12.36931687685298, 'parent_node': 'E'}, 'G': {'path_cost': 46, 'heuristic': 0.0, 'parent_node': 'F'}}\n"
          ]
        },
        {
          "output_type": "execute_result",
          "data": {
            "text/plain": [
              "(['S', 'A', 'E', 'F', 'G'], 46)"
            ]
          },
          "metadata": {},
          "execution_count": 7
        }
      ]
    }
  ]
}