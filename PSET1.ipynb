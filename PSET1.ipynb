{
  "nbformat": 4,
  "nbformat_minor": 0,
  "metadata": {
    "colab": {
      "provenance": [],
      "include_colab_link": true
    },
    "kernelspec": {
      "name": "python3",
      "display_name": "Python 3"
    },
    "language_info": {
      "name": "python"
    }
  },
  "cells": [
    {
      "cell_type": "markdown",
      "metadata": {
        "id": "view-in-github",
        "colab_type": "text"
      },
      "source": [
        "<a href=\"https://colab.research.google.com/github/rogerwzeng/e17/blob/main/PSET1.ipynb\" target=\"_parent\"><img src=\"https://colab.research.google.com/assets/colab-badge.svg\" alt=\"Open In Colab\"/></a>"
      ]
    },
    {
      "cell_type": "markdown",
      "source": [
        "# Problem Set 1 (65 pts)\n"
      ],
      "metadata": {
        "id": "uw_cVnNRtH-8"
      }
    },
    {
      "cell_type": "markdown",
      "source": [
        "In this problem set, you'll explore Jupyter Notebook and review Python / Math."
      ],
      "metadata": {
        "id": "Yjam-9frtR2T"
      }
    },
    {
      "cell_type": "code",
      "source": [
        "### DO NOT CHANGE ###\n",
        "# importing the libraries (do not remove or add libraries)\n",
        "from typing import List, Set, Dict, Tuple, Optional"
      ],
      "metadata": {
        "id": "nr_DK4nxvAaR"
      },
      "execution_count": null,
      "outputs": []
    },
    {
      "cell_type": "markdown",
      "source": [
        "## Intro Survey (21 pts)"
      ],
      "metadata": {
        "id": "DbKs1YEltXCu"
      }
    },
    {
      "cell_type": "markdown",
      "source": [
        "In this section, you'll fill out a course survey. You'll be graded for completion - the only requirement is satisfying the type / format / specifications for your answers."
      ],
      "metadata": {
        "id": "PtJzqw0LtYpm"
      }
    },
    {
      "cell_type": "code",
      "source": [
        "#@title Full Name\n",
        "\n",
        "#@markdown `full_name` (1 pt): What is your full name (as it appears on your official records on your transcript / student profile / canvas)?\n",
        "full_name = \"Roger Weigang Zeng\" #@param {type:\"string\"}"
      ],
      "metadata": {
        "id": "V1VJ7_ABtTAS",
        "cellView": "form"
      },
      "execution_count": null,
      "outputs": []
    },
    {
      "cell_type": "code",
      "source": [
        "#@title Preferred Name\n",
        "\n",
        "#@markdown `preferred_name` (1 pt): What is your preferred name (i.e., what would you prefer to be called)? If it's the same as your full name, please enter your full name.\n",
        "preferred_name = \"Roger\" #@param {type:\"string\"}"
      ],
      "metadata": {
        "cellView": "form",
        "id": "ve4qWsjROMbg"
      },
      "execution_count": null,
      "outputs": []
    },
    {
      "cell_type": "code",
      "source": [
        "#@title Name Pronunciation\n",
        "\n",
        "#@markdown `name_pronunciation` (1 pt): How should one pronounce your preferred name? Please provide phonetics or other relevant information to help someone properly pronounce your first and last name.\n",
        "name_pronunciation = \"[ROJ]+[UH]\" #@param {type:\"string\"}"
      ],
      "metadata": {
        "cellView": "form",
        "id": "dxKKGdDkOZRl"
      },
      "execution_count": null,
      "outputs": []
    },
    {
      "cell_type": "code",
      "source": [
        "#@title Harvard University ID (HUID)\n",
        "\n",
        "#@markdown `HUID` (1 pt): What is your HUID? Every student has an HUID (otherwise, they aren't able to access / take Harvard classes). If you don't know your HUID, please email Harvard Summer support email (inquiry@summer.harvard.edu ).\n",
        "HUID = \"51566696\" #@param {type:\"string\"}"
      ],
      "metadata": {
        "cellView": "form",
        "id": "JEWSobhQOnuR"
      },
      "execution_count": null,
      "outputs": []
    },
    {
      "cell_type": "code",
      "source": [
        "#@title Graduate Version\n",
        "#@markdown `graduate_version` (1 pt): Set the `graduate_version` to `True` if you are taking the graduate version of the course. Otherwise, set it to `False`.\n",
        "graduate_version = \"True\" #@param [\"\", \"True\", \"False\"]\n"
      ],
      "metadata": {
        "id": "744CIagAO2kb",
        "cellView": "form"
      },
      "execution_count": null,
      "outputs": []
    },
    {
      "cell_type": "code",
      "source": [
        "#@title Harvard Email\n",
        "#@markdown `harvard_email` (1 pt): What is your Harvard email? If you don't have one, please update the `harvard_email` variable to `not applicable`.\n",
        "harvard_email = \"roz333@g.harvard.edu\" #@param {type:\"string\"}"
      ],
      "metadata": {
        "cellView": "form",
        "id": "yfSrGUgfPHaS"
      },
      "execution_count": null,
      "outputs": []
    },
    {
      "cell_type": "code",
      "source": [
        "#@title Personal Email\n",
        "#@markdown `personal_email` (1 pt): What is your personal email? This should be the best email to reach out to after the course and should not be a Harvard or `.edu` email.\n",
        "personal_email = \"rogerwzeng@gmail.com\" #@param {type:\"string\"}"
      ],
      "metadata": {
        "cellView": "form",
        "id": "T7Tfye2wPUbO"
      },
      "execution_count": null,
      "outputs": []
    },
    {
      "cell_type": "code",
      "source": [
        "#@title LinkedIn\n",
        "#@markdown `linkedin` (1 pt): What is your LinkedIn? Please provide a URL link. If you do not have one, please update `linkedin` to `not applicable`.\n",
        "linkedin = \"https://www.linkedin.com/in/rogerzeng/\" #@param {type:\"string\"}"
      ],
      "metadata": {
        "cellView": "form",
        "id": "5EfAx1nYPiY1"
      },
      "execution_count": null,
      "outputs": []
    },
    {
      "cell_type": "code",
      "source": [
        "#@title Previous Classes\n",
        "#@markdown `previous_classes` (1 pt): List your previous Harvard classes with the course code and title separated by commas. For example, `previous_classes: CS50: Intro to Computer Science, Math21A: Multivariable Calculus`. If you haven't taken a previous Harvard course, please update to `None`.\n",
        "previous_classes = \"CSCI S-101: Foundations of Data Science and Engineering, CSCI E-116: Dynamic Modeling in Big Data, CSCI E-11: Big Data, IoT, Cybersecurity, CSCI  E-63C: Elements of Data Science and Statistical Learning with R\" #@param {type:\"string\"}"
      ],
      "metadata": {
        "cellView": "form",
        "id": "UKbP9BBdPxJr"
      },
      "execution_count": null,
      "outputs": []
    },
    {
      "cell_type": "code",
      "source": [
        "#@title Highest Education\n",
        "#@markdown `highest_education` (1 pt): What is your highest education. Select the option that best applies.\n",
        "highest_education = \"Currently in Master's/Professional Degree/PhD program\" #@param [\"\", \"In high school\", \"Completed high school\", \"In college\", \"Completed Bachelor's\", \"Completed Master's\", \"Completed Professional Degree (MD, MBA, EdD, JD, etc.)\", \"Completed PhD\", \"Currently in Master's/Professional Degree/PhD program\"]"
      ],
      "metadata": {
        "cellView": "form",
        "id": "jT7Xoz-OQfx_"
      },
      "execution_count": null,
      "outputs": []
    },
    {
      "cell_type": "code",
      "source": [
        "#@title Current Occupation\n",
        "#@markdown `current_occupation` (1 pt): What is your current occupation?\n",
        "current_occupation = \"Manager\" #@param {type:\"string\"}"
      ],
      "metadata": {
        "cellView": "form",
        "id": "BAiE2WEhRBk3"
      },
      "execution_count": null,
      "outputs": []
    },
    {
      "cell_type": "code",
      "source": [
        "#@title Near Harvard\n",
        "#@markdown `near_harvard` (1 pt): Are you near Harvard's campus / in Cambridge or Boston area? If yes, set to `True`. If not, set to `False`.\n",
        "near_harvard = \"False\" #@param [\"\", \"True\", \"False\"]"
      ],
      "metadata": {
        "cellView": "form",
        "id": "DAd9lN9PRLta"
      },
      "execution_count": null,
      "outputs": []
    },
    {
      "cell_type": "code",
      "source": [
        "#@title Based in the USA\n",
        "#@markdown `based_in_USA` (1 pt): Are you based in the USA?\n",
        "based_in_USA = \"True\" #@param [\"\", \"True\", \"False\"]"
      ],
      "metadata": {
        "cellView": "form",
        "id": "QqDudtpPRVwn"
      },
      "execution_count": null,
      "outputs": []
    },
    {
      "cell_type": "code",
      "source": [
        "#@title Current City\n",
        "#@markdown `current_city` (1 pt): What is your current city and state if in the US. If not in the US, what is your current city and home country?\n",
        "current_city = \"Alhambra, CA\" #@param {type:\"string\"}"
      ],
      "metadata": {
        "cellView": "form",
        "id": "W2UV9uVGRd14"
      },
      "execution_count": null,
      "outputs": []
    },
    {
      "cell_type": "code",
      "source": [
        "#@title GMT Timezone\n",
        "#@markdown `timezone` (1 pt): What timezone are you in? Please refer to this [table](http://www.healthstream.com/hlchelp/Administrator/Classes/HLC_Time_Zone_Abbreviations.htm) on different timezone windows.\n",
        "timezone = \"Pacific Standard Time\" #@param [\"\", \"Eastern Standard Time\", \"Central Standard Time\", \"Mountain Standard Time\", \"Pacific Standard Time\", \"Alaskan Standard Time\", \"Hawaiian Standard Time\", \"Mountain Standard Time\", \"Atlantic Standard Time\", \"Morocco Standard Time\", \"UTC\", \"GMT Standard Time\", \"Greenwich Standard Time\", \"West Europe Standard Time\", \"Central Europe Standard Time\", \"Romance Standard Time\", \"Central European Standard Time\", \"W. Central Africa Standard Time\", \"Jordan Standard Time\", \"GTB Standard Time\", \"Middle East Standard Time\", \"Egypt Standard Time\", \"Syria Standard Time\", \"South Africa Standard Time\", \"FLE Standard Time\", \"Israel Standard Time\", \"E. Europe Standard Time\", \"Namibia Standard Time\", \"Arabic Standard Time\", \"Arab Standard Time\", \"Russian Standard Time\", \"E. Africa Standard Time\", \"Iran Standard Time\", \"Arabian Standard Time\", \"Azerbaijan Standard Time\", \"Mauritius Standard Time\", \"Georgian Standard Time\", \"Caucasus Standard Time\", \"Afghanistan Standard Time\", \"Ekaterinburg Standard Time\", \"Pakistan Standard Time\", \"West Asia Standard Time\", \"India Standard Time\", \"Sri Lanka Standard Time\", \"Nepal Standard Time\", \"Central Asia Standard Time\", \"Bangladesh Standard Time\", \"N. Central Asia Standard Time\", \"Myanmar Standard Time\", \"SE Asia Standard Time\", \"North Asia Standard Time\", \"China Standard Time\", \"North Asia East Standard Time\", \"Singapore Standard Time\", \"W. Australia Standard Time\", \"Taipei Standard Time\", \"Ulaanbaatar Standard Time\", \"Tokyo Standard Time\", \"Korea Standard Time\", \"Yakutsk Standard Time\", \"Cen. Australia Standard Time\", \"AUS Central Standard Time\", \"E. Australia Standard Time\", \"AUS Eastern Standard Time\", \"West Pacific Standard Time\", \"Tasmania Standard Time\", \"Vladivostok Standard Time\", \"Central Pacific Standard Time\", \"New Zealand Standard Time\", \"UTC+12\", \"Fiji Standard Time\", \"Kamchatka Standard Time\", \"Tonga Standard Time\", \"Azores Standard Time\", \"Cape Verde Standard Time\", \"E. South America Standard Time\", \"Argentina Standard Time\", \"SA Eastern Standard Time\", \"Greenland Standard Time\", \"Montevideo Standard Time\", \"Newfoundland Standard Time\", \"Paraguay Standard Time\", \"Central Brazilian Standard Time\", \"SA Western Standard Time\", \"Pacific SA Standard Time\", \"Venezuela Standard Time\", \"SA Pacific Standard Time\", \"US Eastern Standard Time\", \"Central America Standard Time\", \"Central Standard Time (Mexico)\", \"Canada Central Standard Time\", \"Mountain Standard Time (Mexico)\", \"Pacific Standard Time (Mexico)\", \"Samoa Standard Time\", \"Dateline Standard Time\"]\n"
      ],
      "metadata": {
        "cellView": "form",
        "id": "W4Tm38HaRl-g"
      },
      "execution_count": null,
      "outputs": []
    },
    {
      "cell_type": "code",
      "source": [
        "#@title Hardware Experience\n",
        "#@markdown `hardware_experience` (1 pt): Please describe any previous experience with hardware. This can be classes, personal projects, work, etc.\n",
        "hardware_experience = \"No experience working with programmable hardware\" #@param {type:\"string\"}"
      ],
      "metadata": {
        "cellView": "form",
        "id": "iYgcxnuzUEcP"
      },
      "execution_count": null,
      "outputs": []
    },
    {
      "cell_type": "code",
      "source": [
        "#@title Software Experience\n",
        "#@markdown `software_experience` (1 pt): Please describe any previous experience with programming and all programming languages you have experience with.\n",
        "software_experience = \"8 years software development experience, current languages are Python and R\" #@param {type:\"string\"}"
      ],
      "metadata": {
        "cellView": "form",
        "id": "dnCEh-JUUOTw"
      },
      "execution_count": null,
      "outputs": []
    },
    {
      "cell_type": "code",
      "source": [
        "#@title Experience\n",
        "#@markdown `experience` (1 pt): Check all the boxes you are comfortable or had previous experience with topic. Note: not all these topics are required for this course - this question is to gauge students' background.\n",
        "algebra = True #@param {type:\"boolean\"}\n",
        "geometry = True #@param {type:\"boolean\"}\n",
        "trigonometry = True #@param {type:\"boolean\"}\n",
        "calculus = True #@param {type:\"boolean\"}\n",
        "multi_variable_calculus = False #@param {type:\"boolean\"}\n",
        "linear_algebra = True #@param {type:\"boolean\"}\n",
        "vector_calculus = False #@param {type:\"boolean\"}\n",
        "advanced_math = True #@param {type:\"boolean\"}\n",
        "programming = True #@param {type:\"boolean\"}\n",
        "python = True #@param {type:\"boolean\"}\n",
        "java = False #@param {type:\"boolean\"}\n",
        "C = False #@param {type:\"boolean\"}\n",
        "C_plus_plus = False #@param {type:\"boolean\"}\n",
        "other_programming_langauges = True #@param {type:\"boolean\"}\n",
        "data_structures_and_algorithms = False #@param {type:\"boolean\"}\n",
        "arduino = False #@param {type:\"boolean\"}\n",
        "raspberry_pi = False #@param {type:\"boolean\"}\n",
        "robotics = False #@param {type:\"boolean\"}\n",
        "probability = True #@param {type:\"boolean\"}\n",
        "statistics = True #@param {type:\"boolean\"}\n",
        "statistical_analysis_and_modelling = True #@param {type:\"boolean\"}\n",
        "machine_learning = True #@param {type:\"boolean\"}\n",
        "natural_language_processing = False #@param {type:\"boolean\"}\n",
        "computer_vision = False #@param {type:\"boolean\"}\n",
        "wearable_devices = False #@param {type:\"boolean\"}\n",
        "deep_learning = False #@param {type:\"boolean\"}\n",
        "reinforcement_learning = False #@param {type:\"boolean\"}"
      ],
      "metadata": {
        "cellView": "form",
        "id": "cfABp8rOUXzv"
      },
      "execution_count": null,
      "outputs": []
    },
    {
      "cell_type": "code",
      "source": [
        "#@title Why this Course\n",
        "#@markdown `why_this_course` (1 pt): Why are you taking this course?\n",
        "why_this_course = \"I have been learning stats and machine learning since 2020, and want to apply what I have learned in real world applications for business and for fun.\" #@param {type:\"string\"}"
      ],
      "metadata": {
        "cellView": "form",
        "id": "ntg416X6VDSt"
      },
      "execution_count": null,
      "outputs": []
    },
    {
      "cell_type": "code",
      "source": [
        "#@title Interest in Hardware\n",
        "#@markdown `interested_in_hardware` (1 pt): There is no hardware requirement for this course, but hardware can be explored in final project. Are you interested in pursuing a hardware based final project (set to `True` if yes, otherwise `False`)? This will help for project matching (students who have an interest in hardware may be paired together). Note: hardware is not subsidized by the course.\n",
        "interested_in_hardware = \"True\" #@param [\"\", \"True\", \"False\"]"
      ],
      "metadata": {
        "cellView": "form",
        "id": "0S6Sp3y3VeH-"
      },
      "execution_count": null,
      "outputs": []
    },
    {
      "cell_type": "code",
      "source": [
        "#@title Circumstances\n",
        "#@markdown `circumstances` (1 pt): Are there any extenuating circumstances that might affect your performance in the class (please share as much as you are comfortable). If you believe it will be an outstanding issue, it is recommended to reach out to the Accessibility Office. If there is nothing to share, update to `not applicable`.\n",
        "circumstances = \"I will be in Asia for the next four months, so potential timezone issues.\" #@param {type:\"string\"}"
      ],
      "metadata": {
        "cellView": "form",
        "id": "zCyaNCdaVpn8"
      },
      "execution_count": null,
      "outputs": []
    },
    {
      "cell_type": "code",
      "source": [
        "#@title Other Comments\n",
        "#@markdown `other_comments` (0 pts): If there's anything else you'd like to share, please share it here!\n",
        "other_comments = \"\" #@param {type:\"string\"}"
      ],
      "metadata": {
        "cellView": "form",
        "id": "x1RA1jZ9Vykk"
      },
      "execution_count": null,
      "outputs": []
    },
    {
      "cell_type": "markdown",
      "source": [
        "## Course Check (5 pts)"
      ],
      "metadata": {
        "id": "hKTLIKovMlA7"
      }
    },
    {
      "cell_type": "markdown",
      "source": [
        "In this section, you'll complete some exercises to ensure that you are set up with the course tools (Ed Discussion, GradeScope, and Medium). Each question is worth 1 pt."
      ],
      "metadata": {
        "id": "prd9qyoiMpsH"
      }
    },
    {
      "cell_type": "markdown",
      "source": [
        "### Ed Discussion"
      ],
      "metadata": {
        "id": "pPl6JwdjNEkc"
      }
    },
    {
      "cell_type": "markdown",
      "source": [
        "The course uses Ed Discussion as a platform for sharing ideas and questions. For all class or content related concerns, they should be asked on Ed Discussion (i.e., questions about lecture, assignments, projects, etc.). The reason for using Ed Discussion board is that it features organizational tools, has robust formatting options (i.e., can handle math symbols, code snippets, and images), and cultivates a sense of community.\n",
        "\n",
        "To get up to speed with Ed Discussion and create a class community, please make an Ed Discussion post titled `<YOUR NAME> Introduction` (e.g., for example, if your name is John Smith, your Ed Discussion post should be titled `John Smith Introduction`). You can find the Ed Discussion platform from canvas on the sidebar. Please use the `Community` tag for your post.\n",
        "\n",
        "In your post, please provide some information about yourself for others to know. This can include:\n",
        "\n",
        "\n",
        "*   Where you are from?\n",
        "*   What you do currently?\n",
        "*   What your interests are?\n",
        "*   Motivation for the course?\n",
        "*   If you already have ideas, what you might want to do for the final project?\n",
        "*   Any fun facts or hobbies.\n",
        "\n",
        "After you are done with your post, please update the following variable to `True`"
      ],
      "metadata": {
        "id": "ESMCGRRONHxy"
      }
    },
    {
      "cell_type": "code",
      "source": [
        "#@title Explored Ed Discussion\n",
        "explored_ed_discussion = \"True\" #@param [\"\", \"True\", \"False\"]"
      ],
      "metadata": {
        "cellView": "form",
        "id": "cHKsyOkPV-dx"
      },
      "execution_count": null,
      "outputs": []
    },
    {
      "cell_type": "markdown",
      "source": [
        "### GradeScope"
      ],
      "metadata": {
        "id": "wS6F-frUOk4m"
      }
    },
    {
      "cell_type": "markdown",
      "source": [
        "GradeScope is the platform for submitting your problem sets and exams. The reason for using GradeScope is that it is equipped with diagnostic tools. From a student perspective, you can submit your assignments as many times as you like before the due date and get some feedback from gradescope. Some examples of feedback might be that your file doesn't work, your code has some error, and/or you're failing a specific part. To prevent guessing and checking or hardcoding solutions, some feedback will not be available until after the submission deadline. Based on the feedback, you can edit your submission and keep re-submitting until the deadline.\n",
        "\n",
        "**Note**: when it comes to gradescope, the diagnostic tools are meant to help and don't necessarily signal correctness or your final grade. All submissions are reviewed by course staff for correctness after the submission deadline and your final grade will be viewable after the assignments have been graded.\n",
        "\n",
        "Please check and see if you can access and submit on to gradescope. If you can, please update the variable to `True`. If not, please reach out to course staff via Ed Discussion immediately to resolve the issue. Once the issue is resolved, set the variable to `True`."
      ],
      "metadata": {
        "id": "54sbe5cjOnQu"
      }
    },
    {
      "cell_type": "code",
      "source": [
        "#@title Explored Gradescope\n",
        "explored_gradescope = \"True\" #@param [\"\", \"True\", \"False\"]"
      ],
      "metadata": {
        "id": "TGRZoPjTOtS9",
        "cellView": "form"
      },
      "execution_count": null,
      "outputs": []
    },
    {
      "cell_type": "markdown",
      "source": [
        "### Medium"
      ],
      "metadata": {
        "id": "xc0mK8c3Os5o"
      }
    },
    {
      "cell_type": "markdown",
      "source": [
        "Medium is the platform for course participation. Readings will be read on Medium and participations will involve answering prompts as comments on the article. We use Medium because it has a simple and fast user-interface, is mobile friendly and can be accessed anywhere (even after completing the course), and lets you engage with the broader community (see responses from students in the past and discovery related topics).\n",
        "\n",
        "In order to complete the participation assignments:\n",
        "\n",
        "1. You will need to make a [Medium](https://medium.com/) account (feel free to use any email).\n",
        "2. After you make an account, please update the variables below so your account can be tracked.\n",
        "    * `medium_email`: the email associated with your Medium account\n",
        "    * `medium_username`: the username associated with your Medium account\n",
        "    * `medium_display_name`: the display name associated with your Medium account\n",
        "\n",
        "If you need help finding this information after creating your account, click on your profile icon, select `Settings`, and look at the `Account` tab: `medium_email` corresponds to your account's email address, `medium_display_name` corresponds to your account's profile information, and `medium_username` corresponds to your account's Username and subdomain (see [screenshot](https://drive.google.com/file/d/1yr-S-x_sBD-Q93FrgU0--Os_xcUaN4ZW/view?usp=sharing)).\n",
        "\n",
        "![](https://drive.google.com/uc?export=view&id=1yr-S-x_sBD-Q93FrgU0--Os_xcUaN4ZW)\n"
      ],
      "metadata": {
        "id": "vjbDdrv6PZcH"
      }
    },
    {
      "cell_type": "code",
      "source": [
        "#@title Medium Information\n",
        "medium_email = \"rogerwzeng@gmail.com\" #@param {type:\"string\"}\n",
        "medium_username = \"rogerwzeng\" #@param {type:\"string\"}\n",
        "medium_display_name = \"Roger Zen\" #@param {type:\"string\"}"
      ],
      "metadata": {
        "cellView": "form",
        "id": "v2eZeimtX-nj"
      },
      "execution_count": null,
      "outputs": []
    },
    {
      "cell_type": "markdown",
      "source": [
        "## Python Exercises (20 pts)"
      ],
      "metadata": {
        "id": "D8qaSi882Kce"
      }
    },
    {
      "cell_type": "markdown",
      "source": [
        "In this section, you will complete several python exercises.\n",
        "\n",
        "In this course, most problem set assignments will be a variable assignment (like in the intro survey) or wrapped in a python function that expects a *certain input* and then returns a *certain output* (like in the below problems).\n",
        "\n",
        "To avoid any confusion and enable efficient grading, the function name with the inputs will be given as part of the distribution code (i.e., initial scaffolding code for you to fill out). Please **do not** change the function name as it will cause errors with gradescope. Each function will have `pass` which should be removed/replaced once the function is completed.\n",
        "\n",
        "The functions given as part of the distribution code will have [type hinting](https://realpython.com/lessons/type-hinting/). Type hinting helps programmers know exactly what data-types the inputs and outputs have (helping to reduce ambiguity). To implement robust type hinting, the [typing](https://mypy.readthedocs.io/en/stable/cheat_sheet_py3.html) library will be used.\n",
        "\n",
        "Lastly, in order to get points, please make sure the values are **returned**. Printing the values are not sufficient for credit (however you may use it to debug). For more on `print` vs `return`, please read [this](https://pythonprinciples.com/blog/print-vs-return/).\n",
        "\n",
        "Additionally, it maybe helpful to review Python built-in datatypes and functions. Here are links to relevant documentation/tutorals on Python's built-in datatypes and functions:\n",
        "\n",
        "- [Python Numbers\n",
        "](https://www.programiz.com/python-programming/numbers)\n",
        "\n",
        "- [Python List](https://www.programiz.com/python-programming/list)\n",
        "\n",
        "- [Python Tuple](https://www.programiz.com/python-programming/tuple)\n",
        "\n",
        "- [Python String](https://www.programiz.com/python-programming/string)\n",
        "\n",
        "- [Python Set](https://www.programiz.com/python-programming/set)\n",
        "\n",
        "- [Python Dictionary](https://www.programiz.com/python-programming/dictionary)\n",
        "\n",
        "- [Python Function](https://www.programiz.com/python-programming/function)"
      ],
      "metadata": {
        "id": "FEcmrEHX2OuT"
      }
    },
    {
      "cell_type": "markdown",
      "source": [
        "### Functions (8 pts)"
      ],
      "metadata": {
        "id": "zLnfB-ztiwqS"
      }
    },
    {
      "cell_type": "markdown",
      "source": [
        "`signal_threshold` (1 pt): This function returns `True` if the value of `signal` is greater than 75, else it returns `False`."
      ],
      "metadata": {
        "id": "ZAdPL6ZXqncH"
      }
    },
    {
      "cell_type": "code",
      "source": [
        "def signal_threshold(signal: float) -> bool:\n",
        "    if signal > 75:\n",
        "        return True\n",
        "    else:\n",
        "        return False"
      ],
      "metadata": {
        "id": "CNBj8OHjnZoD"
      },
      "execution_count": null,
      "outputs": []
    },
    {
      "cell_type": "markdown",
      "source": [
        "`array_prod` (3 pts): The function takes two non-empty arrays of integers, multiplies each element of `lst1` with the corresponding element of `lst2` (by matching on the position in the array), and then sums all numbers. Mathematically, we can express this as:\n",
        "</br></br>\n",
        "\\begin{align}\n",
        "\\text{lst}_1&=[a_1, a_2, ...] \\\\\n",
        "\\text{lst}_2&=[b_1, b_2, ...] \\\\\n",
        "\\text{array_prod}(\\text{lst}_1, \\text{lst}_2) &= a_1*b_1 + a_2*b_2 + ...\n",
        "\\end{align}\n",
        "</br>\n",
        "For those familiar with linear algebra/vectors, this operation is also called a dot product.\n",
        "\n",
        "**Note**: this function should return `None` if the two lists have different lengths. (Hence, the type hinting for the return value for the function is `Optional[int]` because it can return an `int` or `None` depending on the inputs). For future problems, edge cases may not be explicitly given so you should always consider reading the problem specification carefully to determine what edge cases a problem may have.\n",
        "\n",
        "**Hint**: There are multiple ways of completing this function. One way is to have an `if` statement to check for the lengths of the array, then using a `for` loop over both lists ranging over the length of the lists and using indices to access both lists to add to a counter outside the loop. Another (more succinct) way is to use list comprehension with the `sum` and `zip` functions."
      ],
      "metadata": {
        "id": "h5pibK0Gq0-C"
      }
    },
    {
      "cell_type": "code",
      "source": [
        "def array_prod(lst1: List[int], lst2: List[int]) -> Optional[int]:\n",
        "  if len(lst1) == len(lst2):\n",
        "    return sum([x * y for x, y in zip(lst1, lst2)])\n",
        "  else:\n",
        "    return None"
      ],
      "metadata": {
        "id": "3N9Kx7Igq12A"
      },
      "execution_count": null,
      "outputs": []
    },
    {
      "cell_type": "markdown",
      "source": [
        "`collatz_steps` (4 pt). For some context, there's a famous (unproven) conjecture in number theory called *collatz conjecture*. The conjecture repeatedly applies the following rule to any number, `x`:</br>\n",
        "\\begin{align}\n",
        "\\text{If x is even, then do: } &\\frac{x}{2}\\\\\n",
        "\\text{If x is odd, then do: } &3x+1\n",
        "\\end{align}</br>\n",
        "The conjecture states that after enough iterations, `x` will go to one. The function `collatz_steps` takes a positive integer (e.g., greater than 0) and returns the number of steps needed for the number to arrive to 1 from applying the above rules (example cases: if `x=1`, then the function returns `0`; if `x=16`, then the function returns `4` because it will be `16->8->4->2->1`). For those more curious, here's an interesting [video](https://www.youtube.com/watch?v=094y1Z2wpJg) on the subject. **Hint**: use a `while` loop and the mod operator `%`."
      ],
      "metadata": {
        "id": "tSpKbVHdq2aE"
      }
    },
    {
      "cell_type": "code",
      "source": [
        "def collatz_steps(x: int) -> int:\n",
        "  step = 0\n",
        "  while (x != 1):\n",
        "    if x % 2 == 0:\n",
        "      x = x / 2\n",
        "    else:\n",
        "      x = 3 * x + 1\n",
        "    step += 1\n",
        "  return step"
      ],
      "metadata": {
        "id": "VQzSh1Xgq27z"
      },
      "execution_count": null,
      "outputs": []
    },
    {
      "cell_type": "markdown",
      "source": [
        "### Classes (12 pts)"
      ],
      "metadata": {
        "id": "5WK8cD3bC2JL"
      }
    },
    {
      "cell_type": "markdown",
      "source": [
        "In this section, you'll be building out two classes. For more context on classes, check out these articles:\n",
        "\n",
        "\n",
        "*   [What is Object Oriented Programming (OOP)?](https://medium.com/@nahmed3536/what-is-object-oriented-programming-oop-8cce77c33d7b)\n",
        "*   [A Python Example of Object Oriented Programming (OOP)](https://medium.com/@nahmed3536/a-python-example-of-object-oriented-programming-oop-6516c0ae2caf)\n",
        "*   [Python Objects and Classes](https://www.programiz.com/python-programming/class)\n",
        "\n"
      ],
      "metadata": {
        "id": "j5Hb_v5BC8bB"
      }
    },
    {
      "cell_type": "markdown",
      "source": [
        "`Animal` (6 pts): Build an `Animal` class. This class should be initialized with three attributes: `name`, `color`, and `age` which will be of type `str`, `str`, and `int` respectively. Additionally, create two methods named `generate_id` and `is_older_than`. The method `generate_id` will create an id by combining name, color, and weight with underscores (so for example, an animal with `name = 'Clifford'`, `color = 'red'`, and `age = 5`, it should generate the id `Clifford_red_5`). The method `is_older_than` will take in an input `age` and return `True` if the animal's age is greater than the input `age`."
      ],
      "metadata": {
        "id": "LKHUWVVvPS0p"
      }
    },
    {
      "cell_type": "code",
      "source": [
        "class Animal:\n",
        "    def __init__(self, name: str, color: str, age: int) -> None:\n",
        "      self.name = name\n",
        "      self.color = color\n",
        "      assert age > 0, \"age must be greater than 0\"\n",
        "      self.age = age\n",
        "\n",
        "    def generate_id(self) -> str:\n",
        "      return self.name + \"_\" + self.color + \"_\" + str(self.age)\n",
        "\n",
        "    def is_older_than(self, age: int) -> bool:\n",
        "      return self.age > age"
      ],
      "metadata": {
        "id": "3VC2_ut9BzJZ"
      },
      "execution_count": null,
      "outputs": []
    },
    {
      "cell_type": "markdown",
      "source": [
        "`Tiger` (6 pts): Build a `Tiger` class. This class should inherit from the `Animal` and adds a new attribute called `top_speed : int`. It also has a new method called `age_speed_ratio` that returns the ratio of age to top speed. For this problem, there intentionally is minimal scaffolding code. Refer to the above links to learn about class inheritance."
      ],
      "metadata": {
        "id": "YRZtnbaRVJlj"
      }
    },
    {
      "cell_type": "code",
      "source": [
        "class Tiger(Animal):\n",
        "  def __init__(self, name: str, color: str, age: int, top_speed: int) -> None:\n",
        "    super().__init__(name, color, age)\n",
        "    self.top_speed = top_speed\n",
        "\n",
        "  def age_speed_ratio(self) -> float:\n",
        "    assert self.top_speed > 0, \"top_speed must be greater than 0\"\n",
        "    return self.age / self.top_speed\n"
      ],
      "metadata": {
        "id": "rt29japv8tqM"
      },
      "execution_count": null,
      "outputs": []
    },
    {
      "cell_type": "markdown",
      "source": [
        "## Math Exercises (14 pts)"
      ],
      "metadata": {
        "id": "OE9Li2Bv9ARp"
      }
    },
    {
      "cell_type": "markdown",
      "source": [
        "In this section, you'll explore some math concepts. (Note: the numbers used may not reflect real-world numbers / dynamics. Furthermore, the dynamics of the situation maybe simplified.)"
      ],
      "metadata": {
        "id": "9Tuv5WPv9ARq"
      }
    },
    {
      "cell_type": "markdown",
      "source": [
        "`number_of_RPM` (4 pts): The vertical speed for a rotor based drone is based on the number of Rotations Per Minute (RPM) that the propellers spin. In order to take-off or just stay stationary in the air, the propellers need to spin 20 RPM. After that, every additional 5 RPM that the propellers spin adds an extra 1 mile per hour in the vertical speed of the drone. What RPM should the drone propellers spin at to acheive a vertical speed of 5 miles per hour?\n",
        "\n",
        "**Hint**: Find the relationship between RPM and the vertical speed."
      ],
      "metadata": {
        "id": "0bQGkW2xZUMx"
      }
    },
    {
      "cell_type": "code",
      "source": [
        "#@title Number of RPMs\n",
        "#@markdown Please enter a numeric answer (do not include units).\n",
        "number_of_RPM = \"45\" #@param {type:\"string\"}"
      ],
      "metadata": {
        "cellView": "form",
        "id": "2LNF2tAIs8Ky"
      },
      "execution_count": null,
      "outputs": []
    },
    {
      "cell_type": "markdown",
      "source": [
        "`best_RPM` (5 pts). The amount of energy used by the drone is a function of the RPM on the propellers. When the RPM is too low, there's additional drag and resistance the propellers need to overcome since they lack the momentum of the spin, thus more energy is needed. When the RPM is too high, the propellers demand more energy to spin faster. Thus, there's some optimal amount of spin / RPM where the energy needed is minimal. From collecting empirical data on energy usage and propeller RPM, you have determined the function between energy use and RPM is:\n",
        "$$\n",
        "e = 0.5r^2-35r+625\n",
        "$$\n",
        "where $e$ is amount of energy being used and $r$ is the RPM of the propellers. What value of $r$ should we use to minimize the amount of energy being used?\n",
        "\n",
        "**Hint**: There are multiple ways of doing this problem. One way is by graphing, [another is using the properties of a parabola](https://www.onlinemath4all.com/how-to-find-the-minimum-or-maximum-value-of-a-function-in-vertex-form.html), or using the derivative."
      ],
      "metadata": {
        "id": "9ZrXl_IOiL4T"
      }
    },
    {
      "cell_type": "code",
      "source": [
        "#@title Best RPM\n",
        "#@markdown Please enter a numeric answer (do not include units).\n",
        "best_RPM = \"35\" #@param {type:\"string\"}"
      ],
      "metadata": {
        "cellView": "form",
        "id": "167sX9EvtEin"
      },
      "execution_count": null,
      "outputs": []
    },
    {
      "cell_type": "markdown",
      "source": [
        "`closest_point` (5 pts). You have a robot navigating to various points in the room. You model the room as a coordinate plane with the robot at position $S$ at $(4, 6)$. It has to navigate to one of the charge points in the room, which are located at:\n",
        "- A: (8, -2)\n",
        "- B: (10, 1)\n",
        "- C: (-3, 3)\n",
        "- D: (3, -8)\n",
        "- E: (-2, 9)\n",
        "- F: (-1, -2)\n",
        "\n",
        "![](https://drive.google.com/uc?export=view&id=1zqvH0k5LfgxHAL0UyY6rJWz3dkqBca8c)\n",
        "\n",
        "Which point should the robot go to if it wants to travel the least amount of distance? Assume the robot can navigate in the most efficient manner which is going in a straight line from its current position at $S$ to the nearest charging position. Your answer should be a capital string corresponding to one of the points above (so `\"A\"`, `\"B\"`, `\"C\"`, `\"D\"`, `\"E\"`, or `\"F\"`)\n",
        "\n",
        "<graphic>\n",
        "\n",
        "**Hint**: From geometry, the straight line distance between two points, $(x_1, y_1)$ and $(x_2, y_2)$ is $\\sqrt{(x_2-x_1)^2 + (y_2-y_1)^2}$"
      ],
      "metadata": {
        "id": "VWrDvfbPmcF3"
      }
    },
    {
      "cell_type": "code",
      "source": [
        "from math import sqrt\n",
        "\n",
        "A =(8, -2)\n",
        "B =(10, 1)\n",
        "C =(-3, 3)\n",
        "D =(3, -8)\n",
        "E =(-2, 9)\n",
        "F =(-1, -2)\n",
        "\n",
        "distances = {}\n",
        "for point in ['A', 'B', 'C', 'D', 'E', 'F']:\n",
        "    x, y = eval(point)\n",
        "    distances[point] = sqrt((x - 4)**2 + (y - 6)**2)\n",
        "print(distances)"
      ],
      "metadata": {
        "colab": {
          "base_uri": "https://localhost:8080/"
        },
        "id": "PjRzJQqciCLH",
        "outputId": "d2826b64-0ade-431a-a06a-b68d3ead7a8f"
      },
      "execution_count": null,
      "outputs": [
        {
          "output_type": "stream",
          "name": "stdout",
          "text": [
            "{'A': 8.94427190999916, 'B': 7.810249675906654, 'C': 7.615773105863909, 'D': 14.035668847618199, 'E': 6.708203932499369, 'F': 9.433981132056603}\n"
          ]
        }
      ]
    },
    {
      "cell_type": "code",
      "source": [
        "#@title Closest Object\n",
        "closest_object = \"E\" #@param [\"\", \"A\", \"B\", \"C\", \"D\", \"E\", \"F\"]"
      ],
      "metadata": {
        "cellView": "form",
        "id": "cC6VG65DduTh"
      },
      "execution_count": null,
      "outputs": []
    },
    {
      "cell_type": "markdown",
      "metadata": {
        "id": "VNUIkBRl1b-J"
      },
      "source": [
        "## Problem Set Survey (5 pts)"
      ]
    },
    {
      "cell_type": "markdown",
      "source": [
        "Please fill out the survey questions (the first five are each worth 1 point; the last one is optional).\n",
        "\n",
        "\n",
        "1.   `TIME` (1 pt): approximately how many hours did you spend on the problem set? Please use decimals to express partial hours (e.g., a value of `2.5` means two and half hours).\n",
        "2.   `DIFFICULTY` (1 pt): on a scale of 1-10, how difficult was this problem set with 1 being very easy and 10 being very hard?\n",
        "3.   `FAVORITE_PART` (1 pt): What was your favorite topic / learning from the unit (i.e., between the last pset and this pset)? This should contain at least 10 words.\n",
        "4.   `WENT_WELL` (1 pt): What went well? Describe what went well with the course so far (this can be about the lecture, assignments, and/or other course content). This should contain at least 10 words.\n",
        "5.   `CHALLENGING` (1 pt): What was challenging? Describe what was challenging or didn't go well with the course so far (this can be about the lecture, assignments, and/or other course content). This should contain at least 10 words.\n",
        "6.   `COMMENTARY` (0 pt): If there is anything else you'd like to share with course staff, please add it here. If not, no need to change / edit the default string.\n"
      ],
      "metadata": {
        "id": "zWVI_Hb0L-o6"
      }
    },
    {
      "cell_type": "code",
      "source": [
        "#@title Problem Set Survey Questions\n",
        "TIME = \"3.0\" #@param {type:\"string\"}\n",
        "\n",
        "DIFFICULTY = \"2\" #@param [\"\", \"1\", \"2\", \"3\", \"4\", \"5\", \"6\", \"7\", \"8\", \"9\", \"10\"]\n",
        "\n",
        "FAVORITE_PART = \"enthusiasm of the course team was very encourage, look forward to learn a ton from this course.\" #@param {type:\"string\"}\n",
        "\n",
        "WENT_WELL = \"The four main focus areas of the course, sensors, vision, probabilistic states, and reinforcement learning are all areas that greatly interest me.\" #@param {type:\"string\"}\n",
        "\n",
        "CHALLENGING = \"The enrollment this semester seemed rather small. I am concerned if I can find myself a good project team.\" #@param {type:\"string\"}\n",
        "\n",
        "COMMENTARY = \"\" #@param {type:\"string\"}"
      ],
      "metadata": {
        "id": "R9tHfF-sKMZg",
        "cellView": "form"
      },
      "execution_count": null,
      "outputs": []
    },
    {
      "cell_type": "markdown",
      "metadata": {
        "id": "-xSnfJLV43zh"
      },
      "source": [
        "**<font color='red'>To submit, please download as a Python (.py) file and submit on Gradescope (navigate to File > Download > Download .py). Please use the correct file name and comment out any test / extraneous code to avoid any compile and parser issues </font>**"
      ]
    }
  ]
}