{
  "cells": [
    {
      "cell_type": "markdown",
      "metadata": {
        "id": "view-in-github",
        "colab_type": "text"
      },
      "source": [
        "<a href=\"https://colab.research.google.com/github/rogerwzeng/e17/blob/main/DGMD_PSET2.ipynb\" target=\"_parent\"><img src=\"https://colab.research.google.com/assets/colab-badge.svg\" alt=\"Open In Colab\"/></a>"
      ]
    },
    {
      "cell_type": "markdown",
      "metadata": {
        "id": "uw_cVnNRtH-8"
      },
      "source": [
        "# Problem Set 2 (Undergraduate: 55 pts, Graduate: 70 pts)\n"
      ]
    },
    {
      "cell_type": "markdown",
      "metadata": {
        "id": "Yjam-9frtR2T"
      },
      "source": [
        "In this problem set, you'll explore some concepts in linear algebra and the `numpy` library."
      ]
    },
    {
      "cell_type": "code",
      "execution_count": 2,
      "metadata": {
        "id": "nr_DK4nxvAaR"
      },
      "outputs": [],
      "source": [
        "### DO NOT CHANGE ###\n",
        "# importing the libraries (do not remove or add libraries)\n",
        "from typing import List, Set, Dict, Tuple, Optional\n",
        "import numpy as np"
      ]
    },
    {
      "cell_type": "markdown",
      "metadata": {
        "id": "ibimRohVQwcr"
      },
      "source": [
        "## Linear Algebra (10 pts)"
      ]
    },
    {
      "cell_type": "markdown",
      "metadata": {
        "id": "n4dnRVXhQ0_i"
      },
      "source": [
        "Linear algebra is a branch of mathematics that focuses on linear transformations and vector spaces. It is a fundamental area of mathematics with applications in various fields, including computer science, engineering, artificial intelligence, machine learning, computer vision, robotics, drones, autonomous vehicles, and more.\n",
        "\n",
        "In this class, we'll leverage concepts, tools, and notation from linear algebra. In this section, you'll explore some core linear algebra operations: matrix multiplication and matrix-vector multiplication."
      ]
    },
    {
      "cell_type": "markdown",
      "metadata": {
        "id": "e2nt_osKd-L_"
      },
      "source": [
        "Given\n",
        "\n",
        "\\begin{align}\n",
        "A = \\begin{bmatrix}\n",
        "1 & 5  \\\\\n",
        "3 & 2  \\\\\n",
        "6 & 8\n",
        "\\end{bmatrix},\n",
        "B = \\begin{bmatrix}\n",
        "2 & 8 \\\\\n",
        "6 & 4 \\\\\n",
        "\\end{bmatrix},\n",
        "v = \\begin{bmatrix}\n",
        "2 \\\\\n",
        "5 \\\\\n",
        "\\end{bmatrix}\n",
        "\\end{align}\n",
        "\n",
        "Determine / calculate:\n",
        "- `Av` (3 pts): $Av$\n",
        "- `AB` (3 pts): $AB$\n",
        "- `ABv` (4 pts): $ABv$\n",
        "\n",
        "Your answer for each should be a list of lists. For reference, here's how we would express each of the above in Python as a list of lists:\n",
        "```\n",
        "A : List[List[float]] = [\n",
        "    [1, 5],\n",
        "    [3, 2],\n",
        "    [6, 8]\n",
        "]\n",
        "B : List[List[float]] = [\n",
        "    [2, 8],\n",
        "    [6, 4]\n",
        "]\n",
        "v : List[List[float]] = [\n",
        "    [2],\n",
        "    [5]\n",
        "]\n",
        "```\n",
        "For reference on how to do matrix / vector multiplication, please refer to these resources:\n",
        "- [How to Multiply Matrices](https://www.mathsisfun.com/algebra/matrix-multiplying.html)\n",
        "- [Matrix Multiplication Walkthrough Video](https://www.youtube.com/watch?v=zAjUyPe-4mI)\n",
        "- [Multiplying Matrices and Vectors](https://mathinsight.org/matrix_vector_multiplication)\n",
        "\n",
        "The spirit of this problem is to do it by hand to get familiar with matrix multiplication and matrix-vector multiplication (even though there are calculators / libraries to do it for us - you can use them to check your answers)."
      ]
    },
    {
      "cell_type": "code",
      "execution_count": 3,
      "metadata": {
        "id": "6RgMq7enmc2E"
      },
      "outputs": [],
      "source": [
        "Av : List[List[float]] = [[27],[16],[52]]"
      ]
    },
    {
      "cell_type": "code",
      "execution_count": 4,
      "metadata": {
        "id": "WXFZvDOxmke2"
      },
      "outputs": [],
      "source": [
        "AB : List[List[float]] = [[32,28],[18,32],[60,80]]"
      ]
    },
    {
      "cell_type": "code",
      "execution_count": 5,
      "metadata": {
        "id": "kLW1G8Qvml0B"
      },
      "outputs": [],
      "source": [
        "ABv : List[List[float]] = [[204],[196],[520]]"
      ]
    },
    {
      "cell_type": "code",
      "execution_count": 6,
      "metadata": {
        "id": "HKS-0wZ-3WPL",
        "colab": {
          "base_uri": "https://localhost:8080/"
        },
        "outputId": "afd01bbc-69b7-4b7f-c05d-8b6850f49e8a"
      },
      "outputs": [
        {
          "output_type": "stream",
          "name": "stdout",
          "text": [
            "Av = [[27], [16], [52]]\n",
            "AB = [[32, 28], [18, 32], [60, 80]]\n",
            "ABv = [[204], [196], [520]]\n"
          ]
        }
      ],
      "source": [
        "print(f\"Av = {Av}\")\n",
        "print(f\"AB = {AB}\")\n",
        "print(f\"ABv = {ABv}\")"
      ]
    },
    {
      "cell_type": "markdown",
      "metadata": {
        "id": "ZX9A_JfyApzQ"
      },
      "source": [
        "## NumPy Core (40 pts)"
      ]
    },
    {
      "cell_type": "markdown",
      "metadata": {
        "id": "1PaTx3gnApzR"
      },
      "source": [
        "NumPy is the core library for scientific computing in Python. It provides a high-performance multidimensional array object, and tools for working with these arrays. It is also the bedrock for many other popular libraries that build on and use `numpy` underneath the hood. In this class, the `numpy` library will be integral.\n",
        "\n",
        "This section will explore some of the core functionalities within the NumPy library."
      ]
    },
    {
      "cell_type": "markdown",
      "metadata": {
        "id": "CV-pxjxyRt-J"
      },
      "source": [
        "### NumPy Functions (9 pts)"
      ]
    },
    {
      "cell_type": "markdown",
      "metadata": {
        "id": "uiN3T8xqApzR"
      },
      "source": [
        "The NumPy library provides tools for various mathematical functions. Implement the following functions using the NumPy library (each 3 pts).\n",
        "\n",
        "\n",
        "*   `function1` (3 pt): $4\\sin(\\pi x)+2$\n",
        "*   `function2` (3 pt): $\\log_2(x)+2\\log_{10}(x^2)$\n",
        "*   `function3` (3 pt): $4e^x + 9x^2$\n",
        "\n",
        "**Hint**: documentation on [`np.sin`](https://numpy.org/doc/stable/reference/generated/numpy.sin.html), [`np.log2`](https://numpy.org/doc/stable/reference/generated/numpy.log2.html), [`np.log10`](https://numpy.org/doc/stable/reference/generated/numpy.log10.html), [`np.exp`](https://numpy.org/doc/stable/reference/generated/numpy.exp.html), and [python math operations](https://www.programiz.com/python-programming/operators) will be helpful."
      ]
    },
    {
      "cell_type": "code",
      "execution_count": 7,
      "metadata": {
        "id": "vv3Lp6ftaHyE"
      },
      "outputs": [],
      "source": [
        "def function1(x: float) -> np.float64:\n",
        "    return 4*np.sin(np.pi*x)+2\n",
        "\n",
        "def function2(x: float) -> np.float64:\n",
        "    return np.log2(x) + 2* np.log10(x*x)\n",
        "\n",
        "def function3(x: float) -> np.float64:\n",
        "    return 4*np.exp(x) + 9*x*x"
      ]
    },
    {
      "cell_type": "markdown",
      "metadata": {
        "id": "FbHpsyHZRxu8"
      },
      "source": [
        "### Dot Product (5 pts)"
      ]
    },
    {
      "cell_type": "markdown",
      "metadata": {
        "id": "xcAwmqdSApzS"
      },
      "source": [
        "`dot_product` (5 pts): Given two numeric numpy arrays, `v1` and `v2`, return the dot product. If the two arrays are the wrong dimension or size, return `None` instead. **Hint**: Documentation on [`np.ndarray.ndim`](https://numpy.org/doc/stable/reference/generated/numpy.ndarray.ndim.html), [`np.ndarray.shape`](https://numpy.org/doc/stable/reference/generated/numpy.ndarray.shape.html), and [`np.dot`](https://numpy.org/doc/stable/reference/generated/numpy.dot.html) will be helpful. **Notice**: this question is very similar to `array_prod` from a previous pset."
      ]
    },
    {
      "cell_type": "code",
      "execution_count": 8,
      "metadata": {
        "id": "fCrBmdUOApzS"
      },
      "outputs": [],
      "source": [
        "def dot_product(v1: np.ndarray, v2: np.ndarray) -> Optional[np.float64]:\n",
        "    if v1.shape[-1] != v2.shape[0]:\n",
        "        return None\n",
        "    try:\n",
        "        return np.dot(v1, v2)\n",
        "    except ValueError:\n",
        "        return None"
      ]
    },
    {
      "cell_type": "markdown",
      "metadata": {
        "id": "utU4dsIBR0Y2"
      },
      "source": [
        "### Calculate Sigma Metric (5 pts)"
      ]
    },
    {
      "cell_type": "markdown",
      "metadata": {
        "id": "RWFkY2aEApzS"
      },
      "source": [
        "`calculate_sigma_metric` (5 pts): Assume the values for `x` and `y` will be 1-dimensional numeric numpy arrays of the same length and dimension. Complete the function `calculate_metric` that calculates this metric defined below:\n",
        "\n",
        "\\begin{align}\n",
        "x &= [x_1, x_2, ..., x_n]\\\\\n",
        "y &= [y_1, y_2, ..., y_n]\\\\\n",
        "M &= \\sum_{i=0}^n (x_i - y_i)^2\n",
        "\\end{align}\n",
        "\n",
        "**Hint**: Documention on [numpy operations](https://www.pluralsight.com/guides/overview-basic-numpy-operations), [`np.power`](https://numpy.org/doc/stable/reference/generated/numpy.power.html), and [`np.sum`](https://numpy.org/doc/stable/reference/generated/numpy.sum.html) will be helpful. Additionally, here's a [resource](https://www.mathsisfun.com/algebra/sigma-notation.html) on the $\\sum$ (sigma) operator.\n",
        "\n",
        "**Note**: The above metric is often used to represent the total sum of squared error (SSE) in many statistical and machine learning models."
      ]
    },
    {
      "cell_type": "code",
      "execution_count": 9,
      "metadata": {
        "id": "ljw6hzxUApzS"
      },
      "outputs": [],
      "source": [
        "def calculate_sigma_metric(x: np.ndarray, y: np.ndarray) -> np.float64:\n",
        "    if len(x) != len(y):\n",
        "        print(\"Arrays are of different lengths.\")\n",
        "    else:\n",
        "        return np.sum((x - y) ** 2)"
      ]
    },
    {
      "cell_type": "markdown",
      "metadata": {
        "id": "WIQ7DuAPR3Os"
      },
      "source": [
        "### Matrix Splice (15 pts)"
      ]
    },
    {
      "cell_type": "markdown",
      "metadata": {
        "id": "ySlqWBc3ApzS"
      },
      "source": [
        "NumPy offers a very powerful and expressive indexing scheme, letting use slice and dice matrices faster and more efficiently. The next problem will get you familiar with it's indexing capabilities.\n",
        "\n",
        "`matrix_splice` (15 pts): Given a 2D numeric numpy matrix `A`, a row index `r`, and a column index `c`, return the sum of the row vector of `A` at index `r` and the column vector of `A` at index `c` (following python indexing rules, i.e., starts at zero and supports positive and negative indexing). Edge cases to handle are invalid index values for the matrix `A` and summing vectors of different size (this happens when the width and height of the matrix are different) - the return value for these cases should be `None`.\n",
        "\n",
        "**Example 1**:\n",
        "\n",
        "```python\n",
        "A = np.array([\n",
        "    [1, 2, 3],\n",
        "    [4, 5, 6],\n",
        "    [7, 8, 9],\n",
        "])\n",
        "r = 1\n",
        "c = 1\n",
        "\n",
        "matrix_splice(A, r, c) = [6, 10, 14]\n",
        "```\n",
        "Explanation: Get the row at index 1, which is `[4, 5, 6]`, get the column at index 1, which is `[2, 5, 8]`, and sum the vectors (i.e., along each component), so `[4 + 2, 5 + 5, 6 + 8]`, which is `[6, 10, 14]`\n",
        "\n",
        "**Example 2**:\n",
        "\n",
        "```python\n",
        "A = np.array([\n",
        "    [1, 2, 3],\n",
        "    [4, 5, 6],\n",
        "])\n",
        "r = 1\n",
        "c = 1\n",
        "\n",
        "matrix_splice(A, r, c) = None\n",
        "```\n",
        "Explanation: Get the row at index 1, which is `[4, 5, 6]` and get the column at index 1, which is `[2, 5]`. The dimensions of the resulting vectors are different so we can't add them together. Thus, we return `None`.\n",
        "\n",
        "**Example 3**:\n",
        "\n",
        "```python\n",
        "A = np.array([\n",
        "    [1, 2, 3],\n",
        "    [4, 5, 6],\n",
        "    [7, 8, 9],\n",
        "])\n",
        "r = 3\n",
        "c = 1\n",
        "\n",
        "matrix_splice(A, r, c) = None\n",
        "```\n",
        "Explanation: There's no row at index 3, as the positive index range for matrix `A` is 0 to 2. Thus, we have an invalid value for `r` and will return `None`.\n",
        "\n",
        "**Example 4**:\n",
        "\n",
        "```python\n",
        "A = np.array([\n",
        "    [1, 2, 3],\n",
        "    [4, 5, 6],\n",
        "    [7, 8, 9],\n",
        "])\n",
        "r = -4\n",
        "c = 1\n",
        "\n",
        "matrix_splice(A, r, c) = None\n",
        "```\n",
        "Explanation: There's no row at index -4, as the negative index range for matrix `A` is -1 to -3. Thus, we have an invalid value for `r` and will return `None`.\n",
        "\n",
        "**Hint**: Documentation on [numpy operations](https://www.pluralsight.com/guides/overview-basic-numpy-operations), [numpy array splicing](https://machinelearningmastery.com/index-slice-reshape-numpy-arrays-machine-learning-python/), [`np.transpose`](https://numpy.org/doc/stable/reference/generated/numpy.transpose.html), [`np.ndarray.ndim`](https://numpy.org/doc/stable/reference/generated/numpy.ndarray.ndim.html), and [`np.ndarray.shape`](https://numpy.org/doc/stable/reference/generated/numpy.ndarray.shape.html) will be helpful. The syntax for indexing with numpy is different from normal Python.\n",
        "\n"
      ]
    },
    {
      "cell_type": "code",
      "execution_count": 10,
      "metadata": {
        "id": "41t0p4h7ApzS"
      },
      "outputs": [],
      "source": [
        "def matrix_splice(A: np.ndarray, r: int, c: int) -> Optional[np.ndarray]:\n",
        "    if (0 <= r < A.shape[0]) and (0 <= c < A.shape[1]):\n",
        "        row_vector = A[r, :]\n",
        "        col_vector = A[:, c]\n",
        "\n",
        "        # If the row vector and the column vector are of the same length\n",
        "        if row_vector.shape[0] == col_vector.shape[0]:\n",
        "            return row_vector + col_vector\n",
        "        else:\n",
        "            return None\n",
        "    else:\n",
        "        # Return None if the indices are out of range\n",
        "        return None"
      ]
    },
    {
      "cell_type": "markdown",
      "metadata": {
        "id": "ziXloqPdR575"
      },
      "source": [
        "### Matrix Rotation (6 pts)"
      ]
    },
    {
      "cell_type": "markdown",
      "metadata": {
        "id": "EYa0P5GdApzS"
      },
      "source": [
        "`matrix_rotation` (6 pts): Given a matrix `A`, rotate it by $-90^{\\circ}$ (i.e., 90 degrees counter-clockwise). **Hint**: this can be done with indexing and / or the transpose function.\n",
        "\n",
        "**Example 1**:\n",
        "\n",
        "```python\n",
        "A = np.array([\n",
        "    [1, 2, 3],\n",
        "    [4, 5, 6],\n",
        "    [7, 8, 9],\n",
        "])\n",
        "\n",
        "matrix_rotation(A) = np.array([\n",
        "    [3, 6, 9],\n",
        "    [2, 5, 8],\n",
        "    [1, 4, 7],\n",
        "])\n",
        "```\n",
        "\n",
        "**Example 2**:\n",
        "\n",
        "```python\n",
        "A = np.array([\n",
        "    [1, 2, 3, 4],\n",
        "    [5, 6, 7, 8]\n",
        "])\n",
        "\n",
        "matrix_rotation(A) = np.array([\n",
        "    [4, 8],\n",
        "    [3, 7],\n",
        "    [2, 6],\n",
        "    [1, 5]\n",
        "])\n",
        "```\n",
        "\n",
        "**Note**: we often represent images as a matrix of numbers where each number represents a light / color intensity (see [example](https://i.stack.imgur.com/z4SLa.jpg)).\n",
        "\n",
        "<center><img src=\"https://i.stack.imgur.com/z4SLa.jpg\"></center>\n",
        "\n",
        "When we want to rotate or flip an image, that is equivalent to rotating or flipping the matrix. If you utilize the above function for an image, it produces a new image rotated 90 degrees counter-clockwise."
      ]
    },
    {
      "cell_type": "code",
      "execution_count": null,
      "metadata": {
        "id": "0f5yzmDcApzT"
      },
      "outputs": [],
      "source": [
        "def matrix_rotation(A: np.ndarray) -> np.ndarray:\n",
        "    return np.flip(A.T, axis=0)"
      ]
    },
    {
      "cell_type": "markdown",
      "metadata": {
        "id": "d9QsHvcHG7Q-"
      },
      "source": [
        "## Graduate Problems (15 pts)"
      ]
    },
    {
      "cell_type": "markdown",
      "metadata": {
        "id": "ZIPiINTeHHBs"
      },
      "source": [
        "This section is intended for graduate students. Undergraduate students may complete this section for extra credit points.\n",
        "\n",
        "**Graduate students should check the box below to receive credit for the graduate problems**. Undergraduate who are attempting the graduate problems for extra credit should also check the box. If you're an undergraduate not doing the graduate problems, leave the box unchecked."
      ]
    },
    {
      "cell_type": "code",
      "execution_count": null,
      "metadata": {
        "cellView": "form",
        "id": "WQX0rvK4P9c9"
      },
      "outputs": [],
      "source": [
        "#@title Graduate Problem Toggle\n",
        "\n",
        "#@markdown Will you be completing the graduate problems?\n",
        "graduate_problem_toggle = True # @param {type:\"boolean\"}"
      ]
    },
    {
      "cell_type": "markdown",
      "metadata": {
        "id": "FW7pxavtR9SG"
      },
      "source": [
        "### System Cardinality (5 pts)"
      ]
    },
    {
      "cell_type": "markdown",
      "metadata": {
        "id": "aOCd_Q-8HUKt"
      },
      "source": [
        "When faced with a new (engineering) problem, we often create a mathematical model that represents the situation or process. This mathematical model can then be analyzed, manipulated, and used to gain insights, make predictions, or solve the problem. A common pattern or structure for this mathematical model is to create a system of equations that capture the dynamics of the situation.\n",
        "\n",
        "In particular, we often construct the model as a linear system of equations. The reasons why for we use a linear system of equations are:\n",
        "- it easy to construct and understand\n",
        "- we have software and algorithms to solve linear systems efficiently (e.g., `numpy`, MATLAB, linear algebra)\n",
        "- it can work well enough, even in non-linear situations (e.g., Talyor series expansion)\n",
        "\n",
        "For this problem, we'll focus specifically on linear systems of equations with 2 equations and 2 variables:\n",
        "\n",
        "\\begin{align}\n",
        "a_1 x_1 + b_1 x_2 &= c_1 \\\\\n",
        "a_2 x_1 + b_2 x_2 &= c_2\n",
        "\\end{align}\n",
        "\n",
        "where $x_1$ and $x_2$ are the 2 variables, and $a_1, b_1, c_1, a_2, b_2$, and $c_2$ are constants or coefficients.\n",
        "\n",
        "When solving a linear systems of equations with 2 equations and 2 variables, there are three possible scenarios for the solution set for values $x_1$ and $x_2$:\n",
        "- The solution set contains zero elements\n",
        "- The solution set contains exactly one element\n",
        "- The solution set contains an infinite number of elements\n",
        "\n",
        "`system_cardinality` (5 pts): Given $a_1, b_1, c_1, a_2, b_2$, and $c_2$, return `0` if the solution set contains zero elements, `1` if the solution set contains exactly one element, or `np.inf` if the solution set contains an infinite number of elements.\n",
        "\n",
        "**Example 1**\n",
        "```python\n",
        "a1, b1, c1, a2, b2, c2 = 2.5, 3.5, 2, 1.25, 1.75, 1.5\n",
        "system_cardinality(a1, b1, c1, a2, b2, c2) = 0\n",
        "```\n",
        "Explanation: There is no value of $x_1$ and $x_2$ that satisfies both  equations simultaneously\n",
        "\n",
        "**Example 2**\n",
        "```python\n",
        "a1, b1, c1, a2, b2, c2 = 3, 4, 2, 5, 7, 6\n",
        "system_cardinality(a1, b1, c1, a2, b2, c2) = 1\n",
        "```\n",
        "Explanation: There is only 1 value of $x_1$ and $x_2$ that satisfies both  equations simultaneously: $x_1 = -10$ and $x_2 = 8$\n",
        "\n",
        "**Example 3**\n",
        "```python\n",
        "a1, b1, c1, a2, b2, c2 = 1, 7, 8, 0.5, 3.5, 4\n",
        "system_cardinality(a1, b1, c1, a2, b2, c2) = np.inf\n",
        "```\n",
        "Explanation: Any value of $x_1$ and $x_2$ that satisfies one of the equations will also satisfy the other equation\n",
        "\n",
        "**Hint**: Documentation on [`np.linalg.solve`](https://numpy.org/doc/stable/reference/generated/numpy.linalg.solve.html) will be helpful."
      ]
    },
    {
      "cell_type": "code",
      "execution_count": null,
      "metadata": {
        "id": "bmfRMNlJ3al7"
      },
      "outputs": [],
      "source": [
        "def system_cardinality(a1: float, b1: float, c1: float,\n",
        "                       a2: float, b2: float, c2: float) -> float:\n",
        "    # Coefficients matrix and constant matrix\n",
        "    A = np.array([[a1, b1], [a2, b2]])\n",
        "    C = np.array([c1, c2])\n",
        "\n",
        "    try:\n",
        "        X = np.linalg.solve(A, C)\n",
        "        return 1\n",
        "    except np.linalg.LinAlgError:\n",
        "        return 0 if np.linalg.matrix_rank(A) < np.linalg.matrix_rank(np.column_stack((A, C))) else np.inf"
      ]
    },
    {
      "cell_type": "markdown",
      "metadata": {
        "id": "oM9YmbFFR__F"
      },
      "source": [
        "### Sensor Stream (10 pts)"
      ]
    },
    {
      "cell_type": "markdown",
      "metadata": {
        "id": "Nsp8aWWvSkb2"
      },
      "source": [
        "Sensors take measurements of our environment. For example, a temperature sensor captures the temperature of the environment. We often collect multiple measurements from a sensor over a period of time (how frequently a sensor can capture measurement is called the sensor's sampling rate or frequency). For sensors that capture a single value measurement, like temperature, over some period of time, we can represent that data as a list of numbers ordered by the time the measurement was captured. In the below example, we have 5 measurements from a temperature sensor stored as a list.\n",
        "\n",
        "```python\n",
        "data = [60, 59, 57, 62, 61]\n",
        "```\n",
        "\n",
        "When we collect data from sensors, a common operation we want to perform is to calculate some summary statistics, such as the mean and standard deviation of the sensor data. If we have the entirety of the sensor data, we can load it all into memory and then calculate the relevant summary statistics, like in the example below.\n",
        "\n",
        "```python\n",
        "# all the measurements are loaded in memory\n",
        "data = [60, 59, 57, 62, 61]\n",
        "\n",
        "# calculating the mean\n",
        "np.mean(data) # 59.8\n",
        "\n",
        "# calculating the standard deviation\n",
        "np.std(data) # ~1.72\n",
        "```\n",
        "\n",
        "The above approach works great! But we can only calculate these summary statistics after all the data has been collected. While the sensor data is being actively collected, we can't actually do the above as we don't have the complete set of data. There are scenarios where we would be collecting sensor data for a very long time or indefinitely (i.e., the sensor always needs to be on and collecting, such as in an autonomous vehicle). In these scenarios, we would represent the data as a stream of number, where we would calculate the summary statistics as new measurements were collected.\n",
        "\n",
        "`SensorStream` (10 pts): Implement the `SensorStream` class which will calculate the mean and standard deviation of the sensor data as new measurements are received. The constraints for your implementation are:\n",
        "- The SensorStream class should have no instance variables (i.e., should be instantiate with just `SensorStream()`)\n",
        "- It should have the three methods that come with the base template implemented with the following functionality:\n",
        "    - `mean`: returns the mean value of the data provided so far; has no input parameter\n",
        "    - `standard_deviation`: returns the standard deviation of the data provided so far; has no input parameter\n",
        "    - `new_measurement`: intake a new measurements; has one input paramater, `m`, which is the new measurement\n",
        "- It should be memory efficient and be less than $O(n)$ memory where $n$ is the number of sensor data points seen up to that point (**Note**: for those curious, you can implement this with $O(1)$ memory usage)\n",
        "- You can add as many attributes or additional methods needed into the class for the implementation\n",
        "\n",
        "**Example**\n",
        "```python\n",
        "# make a SensorStream object\n",
        "stream = SensorStream()\n",
        "\n",
        "# add a new measurement and calculate mean and standard deviation\n",
        "stream.new_measurement(60)\n",
        "stream.mean()               # 60\n",
        "stream.standard_deviation() # 0\n",
        "\n",
        "# add a new measurement and calculate mean and standard deviation\n",
        "stream.new_measurement(59)\n",
        "stream.mean()               # 59.5\n",
        "stream.standard_deviation() # 0.5\n",
        "\n",
        "# add a new measurement and calculate mean and standard deviation\n",
        "stream.new_measurement(57)\n",
        "stream.mean()               # ~58.66\n",
        "stream.standard_deviation() # ~1.25\n",
        "\n",
        "# add a new measurement and calculate mean and standard deviation\n",
        "stream.new_measurement(62)\n",
        "stream.mean()               # 59.5\n",
        "stream.standard_deviation() # ~1.80\n",
        "\n",
        "# add a new measurement and calculate mean and standard deviation\n",
        "stream.new_measurement(61)\n",
        "stream.mean()               # 59.8\n",
        "stream.standard_deviation() # ~1.72\n",
        "```\n",
        "Explanation: each time a new measurement is added, we have a new mean and standard deviation. The above is the expected class behavior.\n",
        "\n",
        "\n"
      ]
    },
    {
      "cell_type": "code",
      "execution_count": null,
      "metadata": {
        "id": "nxmwt_Ho3hUK"
      },
      "outputs": [],
      "source": [
        "class SensorStream:\n",
        "    def __init__(self) -> None:\n",
        "        self.avg = 0\n",
        "        self.sd = 0\n",
        "        self.n = 0\n",
        "        self.sumxsq = 0\n",
        "\n",
        "    def mean(self) -> float:\n",
        "        return self.avg\n",
        "\n",
        "    def standard_deviation(self) -> float:\n",
        "        return self.sd\n",
        "\n",
        "    def new_measurement(self, data: float) -> None:\n",
        "        if self.n == 0:\n",
        "            self.avg = data\n",
        "            self.n = 1\n",
        "            self.sumxsq = data**2\n",
        "            self.sd = 0\n",
        "        else:\n",
        "            # update standard deviation, mean and measurement count\n",
        "            self.avg = (self.avg * self.n + data)/(self.n + 1)\n",
        "            self.n = self.n + 1\n",
        "            self.sumxsq = self.sumxsq + data**2\n",
        "            self.sd = np.sqrt((self.sumxsq - self.n*(self.avg**2))/self.n)"
      ]
    },
    {
      "cell_type": "markdown",
      "metadata": {
        "id": "VNUIkBRl1b-J"
      },
      "source": [
        "## Problem Set Survey (5 pts)"
      ]
    },
    {
      "cell_type": "markdown",
      "metadata": {
        "id": "zWVI_Hb0L-o6"
      },
      "source": [
        "Please fill out the survey questions (the first five are each worth 1 point; the last one is optional).\n",
        "\n",
        "\n",
        "1.   `TIME` (1 pt): approximately how many hours did you spend on the problem set? Please use decimals to express partial hours (e.g., a value of `2.5` means two and half hours).\n",
        "2.   `DIFFICULTY` (1 pt): on a scale of 1-10, how difficult was this problem set with 1 being very easy and 10 being very hard?\n",
        "3.   `FAVORITE_PART` (1 pt): What was your favorite topic / learning from the unit (i.e., between the last pset and this pset)? This should contain at least 10 words.\n",
        "4.   `WENT_WELL` (1 pt): What went well? Describe what went well with the course so far (this can be about the lecture, assignments, and/or other course content). This should contain at least 10 words.\n",
        "5.   `CHALLENGING` (1 pt): What was challenging? Describe what was challenging or didn't go well with the course so far (this can be about the lecture, assignments, and/or other course content). This should contain at least 10 words.\n",
        "6.   `COMMENTARY` (0 pt): If there is anything else you'd like to share with course staff, please add it here. If not, no need to change / edit the default string.\n"
      ]
    },
    {
      "cell_type": "code",
      "execution_count": null,
      "metadata": {
        "cellView": "form",
        "id": "R9tHfF-sKMZg"
      },
      "outputs": [],
      "source": [
        "#@title Problem Set Survey Questions\n",
        "TIME = \"4.5\" #@param {type:\"string\"}\n",
        "\n",
        "DIFFICULTY = \"4\" #@param [\"\", \"1\", \"2\", \"3\", \"4\", \"5\", \"6\", \"7\", \"8\", \"9\", \"10\"]\n",
        "\n",
        "FAVORITE_PART = \"It was tricky to update the variance in the last question with a new observation.\" #@param {type:\"string\"}\n",
        "\n",
        "WENT_WELL = \"a refresher on NumPy with matrix operations and a good introduction to handling streaming data\" #@param {type:\"string\"}\n",
        "\n",
        "CHALLENGING = \"Updating variance of streaming data with O(1) complexity didn't work until I did some more research on MathStackExchange\" #@param {type:\"string\"}\n",
        "\n",
        "COMMENTARY = \"\" #@param {type:\"string\"}"
      ]
    },
    {
      "cell_type": "markdown",
      "metadata": {
        "id": "-xSnfJLV43zh"
      },
      "source": [
        "**<font color='red'>To submit, please download as a Python (.py) file and submit on Gradescope (navigate to File > Download > Download .py). Please use the correct file name and comment out any test / extraneous code to avoid any compile and parser issues </font>**"
      ]
    }
  ],
  "metadata": {
    "colab": {
      "provenance": [],
      "include_colab_link": true
    },
    "kernelspec": {
      "display_name": "Python 3 (ipykernel)",
      "language": "python",
      "name": "python3"
    },
    "language_info": {
      "codemirror_mode": {
        "name": "ipython",
        "version": 3
      },
      "file_extension": ".py",
      "mimetype": "text/x-python",
      "name": "python",
      "nbconvert_exporter": "python",
      "pygments_lexer": "ipython3",
      "version": "3.11.5"
    }
  },
  "nbformat": 4,
  "nbformat_minor": 0
}