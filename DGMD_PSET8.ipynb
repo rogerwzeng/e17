{
  "nbformat": 4,
  "nbformat_minor": 0,
  "metadata": {
    "colab": {
      "provenance": [],
      "include_colab_link": true
    },
    "kernelspec": {
      "name": "python3",
      "display_name": "Python 3"
    },
    "language_info": {
      "name": "python"
    }
  },
  "cells": [
    {
      "cell_type": "markdown",
      "metadata": {
        "id": "view-in-github",
        "colab_type": "text"
      },
      "source": [
        "<a href=\"https://colab.research.google.com/github/rogerwzeng/e17/blob/main/DGMD_PSET8.ipynb\" target=\"_parent\"><img src=\"https://colab.research.google.com/assets/colab-badge.svg\" alt=\"Open In Colab\"/></a>"
      ]
    },
    {
      "cell_type": "markdown",
      "source": [
        "# PSET8 (50 pts)"
      ],
      "metadata": {
        "id": "X0fPKAnS3KvC"
      }
    },
    {
      "cell_type": "markdown",
      "source": [
        "In this problem set, you'll explore topics in SLAM (Simultaneous Localization & Mapping) with the Kalman Filter. Please read the [Kalman Filter tutorial](https://colab.research.google.com/drive/1RyBZZUthcyUJtocVcOxB7Jl-wi4RhXho?usp=drive_link) - it will explain different parts of the Kalman Filter as well as provide some code to simulate a simple Kalman Filter process for a robot navigating a 2D space at constant speed."
      ],
      "metadata": {
        "id": "MpPw1AhI3g77"
      }
    },
    {
      "cell_type": "markdown",
      "source": [
        "## Concept Questions (15 pts)"
      ],
      "metadata": {
        "id": "L9svllzy58ha"
      }
    },
    {
      "cell_type": "markdown",
      "source": [
        "Each question in this section is 3 pts. It maybe helpful to reference the [Kalman Filter tutorial](https://colab.research.google.com/drive/1RyBZZUthcyUJtocVcOxB7Jl-wi4RhXho?usp=drive_link)."
      ],
      "metadata": {
        "id": "F7KXkjvO58hb"
      }
    },
    {
      "cell_type": "code",
      "source": [
        "#@title Q1-Q5 (15 pts)\n",
        "\n",
        "#@markdown Q1: Which of the following matrices in the Kalman Filter equations have a different shape from the rest?\n",
        "Q1 = \"R\" #@param [\"\", \"P\", \"F\", \"Q\", \"R\"]\n",
        "\n",
        "#@markdown Q2: Our system is being modeled with 5 state variables. Additionally, it has controls and there are 6 inputs, thus the $\\mathbf{u}$ is a 6-dimensional vector. What should be the shape of the control function $\\mathbf{B}$? The first number of the tuple is the number of rows and the second number of the tuple is the number of columns.\n",
        "Q2 = \"(5, 6)\" #@param [\"\", \"(6, 6)\", \"(5, 6)\", \"(6, 5)\", \"(5, 5)\"]\n",
        "\n",
        "#@markdown Q3: We are very confident on our predictions and believe the sensors are very noisy. Which description would best describe the Kalman Gain $\\mathbf{K}$?\n",
        "Q3 = \"The values will be close to zero\" #@param [\"\", \"The values will be close to zero\", \"The magnitude of values will be very large\", \"Only the values we can measure will be close to zero\", \"The values will be negative to decrease the impact of the residuals in determining the state estimate\"]\n",
        "\n",
        "#@markdown Q4: We have a lot of uncertainity in describing the underlying dynamics of the system. Which matrix would be most directly affected?\n",
        "Q4 = \"Q\" #@param [\"\", \"P\", \"F\", \"Q\", \"B\", \"H\", \"R\", \"S\", \"K\", \"I\"]\n",
        "\n",
        "#@markdown Q5: We bought very expensive and precise sensors. Which matrix would be most directly affected?\n",
        "Q5 = \"R\" #@param [\"\", \"P\", \"F\", \"Q\", \"B\", \"H\", \"R\", \"S\", \"K\", \"I\"]"
      ],
      "metadata": {
        "cellView": "form",
        "id": "N5JLj6IS6DYW"
      },
      "execution_count": null,
      "outputs": []
    },
    {
      "cell_type": "markdown",
      "source": [
        "## Calculation Questions (15 pts)"
      ],
      "metadata": {
        "id": "ADTftjgI7Rr7"
      }
    },
    {
      "cell_type": "markdown",
      "source": [
        "Each question in this section is 3 pts. It maybe helpful to reference the [Kalman Filter tutorial](https://colab.research.google.com/drive/1RyBZZUthcyUJtocVcOxB7Jl-wi4RhXho?usp=drive_link)."
      ],
      "metadata": {
        "id": "j5MFsDO57RsC"
      }
    },
    {
      "cell_type": "markdown",
      "source": [
        "In this section, we'll consider the task of evaluating the Kalman Filter's performance for tracking robot motion in 2-dimensions at constant speed (we'll follow the setup as described in the [tutorial](https://colab.research.google.com/drive/1RyBZZUthcyUJtocVcOxB7Jl-wi4RhXho?usp=drive_link)). Let's consider our Kalman Filter is working as intended. We'd expected that the $x$ and $y$ positions estimated by the Kalman Filter are close to the true position of the robot. The deviation away from the true location can be considered error in our Kalman filter. Since we're working with tracking 2-dimensional motion, we can use Euclidean distance / straightline distance to evaluate our Kalman Filter performance.\n",
        "\n",
        "The Euclidean distance for two points, $(x_1, y_1)$ and $(x_2, y_2)$ is $\\sqrt{(x_2-x_1)^2 + (y_2-y_1)^2}$."
      ],
      "metadata": {
        "id": "1drVLoso7RsC"
      }
    },
    {
      "cell_type": "code",
      "source": [
        "#@title Q6-Q7 (6 pts)\n",
        "\n",
        "#@markdown Q6: Suppose the true location of the robot is (4, 3) and the kalman estimate is (3, 5). What is the error in our Kalman filter? Your answer should have 4-decimal point precision.\n",
        "Q6 = \"2.2361\" #@param {type:\"string\"}\n",
        "\n",
        "#@markdown Q7: If the Kalman Filter is properly configured and is working as intend, what value should the error of the Kalman Filter tend to over time?\n",
        "Q7 = \"a positive finite number\" #@param [\"\", \"zero\", \"a positive finite number\", \"infinity\", \"undefined / indeterminate\"]"
      ],
      "metadata": {
        "cellView": "form",
        "id": "rjLj1j4e7RsC"
      },
      "execution_count": null,
      "outputs": []
    },
    {
      "cell_type": "markdown",
      "source": [
        "Now that we defined a metric to determine the error for a single estimate, we can use it to define a metric to evaluate a Kalman Filter. We can gather several estimates from the Kalman Filter, determine the error for each, and calculate the average error.\n",
        "\n",
        "Suppose we observe:\n",
        "\n",
        "True State  | Kalman Filter Estimate\n",
        ":-------------------:|:------------------:\n",
        "(1.00, 1.00)       | (0.50, 0.75)\n",
        "(2.00, 3.00)     | (2.25, 3.10)\n",
        "(3.50, 4.00)       | (3.40, 4.50)\n",
        "(6.00, 5.00)       | (5.50, 5.50)"
      ],
      "metadata": {
        "id": "hJzTh4097RsC"
      }
    },
    {
      "cell_type": "code",
      "source": [
        "#@title Q8 (3 pts)\n",
        "\n",
        "#@markdown Q8: What is the average error for the Kalman Filter described in the above table? Your answer should have 4-decimal point precision.\n",
        "Q8 = \"0.5113\" #@param {type:\"string\"}"
      ],
      "metadata": {
        "cellView": "form",
        "id": "G09OLFTh7RsD"
      },
      "execution_count": null,
      "outputs": []
    },
    {
      "cell_type": "markdown",
      "source": [
        "With a metric to evaluate the Kalman Filter performance, we can use it to compare multiple Kalman Filters. This is useful because often, we may need to experiement with different Kalman Filter configurations to determine the best one.\n",
        "\n",
        "Consider the following data from 4 Kalman Filter experiements you ran:\n"
      ],
      "metadata": {
        "id": "ag_mRFDg7RsD"
      }
    },
    {
      "cell_type": "markdown",
      "source": [
        "True State  | Kalman Filter Estimates A | Kalman Filter Estimates B | Kalman Filter Estimates C | Kalman Filter Estimates D\n",
        ":------:|:-----:|:-----:|:-----:|:-----:\n",
        "(1.00, 1.00)       | (0.50, 0.75) |(0.60, 0.80)|(1.30, 1.00)| (0.90, 0.90)\n",
        "(2.00, 3.00)     | (2.25, 3.10)   |(2.50, 3.30)|(1.25, 3.20)|(2.50, 2.90)\n",
        "(3.50, 4.00)       | (3.40, 4.50) |(3.00, 4.10)|(3.80, 5.00)|(3.25, 3.85)\n",
        "(6.00, 5.00)       | (5.50, 5.50) |(6.10, 6.10)|(5.80, 4.90)|(6.30, 5.05)"
      ],
      "metadata": {
        "id": "GLxrcGsZ7RsD"
      }
    },
    {
      "cell_type": "code",
      "source": [
        "#@title Q9-Q10 (6 pts)\n",
        "\n",
        "#@markdown Q9: Which Kalman Filter is the best performing (i.e., has the lowest average error)?\n",
        "Q9 = \"D\" #@param [\"\", \"A\", \"B\", \"C\", \"D\"]\n",
        "\n",
        "#@markdown Q10: In this section, we explored evaluating our Kalman Filter using Euclidean distance for tracking robot motion in 2-dimensions under constant speed as described in the tutorial. Which of the following is a weakness of using this metric?\n",
        "Q10 = \"All of the above\" #@param [\"\", \"It fails to encapsulate our uncertainity around the estimate\", \"It fails to encapsulate error around the other states that are being tracked\", \"It fails to encapsulates the sequential / time series nature of the data\", \"All of the above\"]\n"
      ],
      "metadata": {
        "cellView": "form",
        "id": "oXiRwAFV7RsD"
      },
      "execution_count": null,
      "outputs": []
    },
    {
      "cell_type": "markdown",
      "source": [
        "## Simulation Questions (15 pts)"
      ],
      "metadata": {
        "id": "GFxkOuMm7jQV"
      }
    },
    {
      "cell_type": "markdown",
      "source": [
        "Each question in this section is 3 pts. It maybe helpful to reference the [Kalman Filter tutorial](https://colab.research.google.com/drive/1RyBZZUthcyUJtocVcOxB7Jl-wi4RhXho?usp=drive_link)."
      ],
      "metadata": {
        "id": "JVENjk1_7jQd"
      }
    },
    {
      "cell_type": "markdown",
      "source": [
        "We'll be investigating the Kalman Filter with the example covered in the [Kalman Filter tutorial](https://colab.research.google.com/drive/1RyBZZUthcyUJtocVcOxB7Jl-wi4RhXho?usp=drive_link), tracking robot motion in 2-dimensions with constant speed. For this section, we'll consider what happens if we change the inputs in to our simulations (found at the bottom of the tutorial). To make sure we are able to relate our changes with its effect, we'll only change one thing at a time to isolate the effect (to be concrete, you'll manipulate the variables under the section commented as `# KALMAN FILTER ESTIMATE #` so lines 48-86 in the last code block).\n",
        "\n",
        "**Note**: make sure to run all the code cells for the simulation to run properly and see a resulting visual. You are free to manipulate other parts of the code, but it may break the simulation."
      ],
      "metadata": {
        "id": "_TQ6OObR7jQe"
      }
    },
    {
      "cell_type": "code",
      "source": [
        "#@title Q11-Q15 (15 pts)\n",
        "\n",
        "#@markdown Q11: Let's explore the role of the intial state guess, keeping everything else in the Kalman Filter simulation the same (i.e., the original settings in the tutorial). Which of the following best describes the behavior of the Kalman filter when the initial guess is very wrong (for example, `x = np.array([[-10, 5, 20, -10]]).T`)?\n",
        "Q11 = \"quickly closes in on the true values (under 10 time steps)\" #@param [\"\", \"drifts away from the true values\", \"closes in the true values after many time steps (greater than 50 time steps)\", \"quickly closes in on the true values (under 10 time steps)\", \"oscillates above and below the true values\"]\n",
        "\n",
        "#@markdown Q12: Let's explore the role of the state transition function $\\mathbf{F}$, keeping everything else in the Kalman Filter simulation the same. Which of the following best describes the behavior of the Kalman filter when the state transition function $\\mathbf{F}$ incorrectly describes the system (for example, we set the coefficient on the $y_{t-1}$ term in the $x_{t}$ transition function to 2, which is equivalent to making $F_{x,y}=2$)?\n",
        "Q12 = \"drifts away from the true values\" #@param [\"\", \"drifts away from the true values\", \"closes in the true values after many time steps (greater than 50 time steps)\", \"quickly closes in on the true values (under 10 time steps)\", \"oscillates above and below the true values\"]\n",
        "\n",
        "#@markdown Q13: Let's explore the example situation in Q12 where we change the state transition function $\\mathbf{F}$ such that $F_{x,y}=2$, keeping everything else in the Kalman Filter simulation the same. Which of the following best explains the dynamics we observe with the incorrect state transition function $\\mathbf{F}$?\n",
        "Q13 = \"our confidence in the process model causes us to drift from the true values\" #@param [\"\", \"our confidence in the process model enables us to converge to the true values\", \"our confidence in the process model causes us to drift from the true values\", \"our confidence in the measurements enables us to overcome the issues from an incorrect state transition function\", \"none of the above\"]\n",
        "\n",
        "#@markdown Q14: Let's explore the example situation in Q12 where we change the state transition function $\\mathbf{F}$ such that $F_{x,y}=2$, keeping everything else in the Kalman Filter simulation the same. Which of the following best explains what happens now if we scale up the values in process noise $\\mathbf{Q}$ (i.e., increase the value for `var_q`; try `var_q = 0.005`, `var_q = 0.05`, and `var_q = 0.5`)?\n",
        "Q14 = \"estimates more closely track the measurement\" #@param [\"\", \"drifts away from the true values\", \"has no affect on the estimates\", \"estimates more closely track the measurement\", \"error keeps decreases as the process noise increases\"]\n",
        "\n",
        "#@markdown Q15: Let's explore the role of the measurement noise $\\mathbf{R}$, keeping everything else in the Kalman Filter simulation the same (i.e., the original settings in the tutorial). Which of the following best describes the behavior of the Kalman filter when the measurement noise $\\mathbf{R}$ is very small (for example, the diagonal values are 0.01)?\n",
        "Q15 = \"estimates more closely track the measurement\" #@param [\"\", \"drifts away from the true values\", \"has no affect on the estimates\", \"estimates more closely track the measurement\", \"error keeps decreases as the measurement noise decreases\"]\n"
      ],
      "metadata": {
        "cellView": "form",
        "id": "PIz1eJ2V7jQe"
      },
      "execution_count": null,
      "outputs": []
    },
    {
      "cell_type": "markdown",
      "metadata": {
        "id": "UrUf-SvShl_X"
      },
      "source": [
        "## Problem Set Survey (5 pts)"
      ]
    },
    {
      "cell_type": "markdown",
      "source": [
        "Please fill out the survey questions (the first five are each worth 1 point; the last one is optional).\n",
        "\n",
        "\n",
        "1.   `TIME` (1 pt): approximately how many hours did you spend on the problem set? Please use decimals to express partial hours (e.g., a value of `2.5` means two and half hours).\n",
        "2.   `DIFFICULTY` (1 pt): on a scale of 1-10, how difficult was this problem set with 1 being very easy and 10 being very hard?\n",
        "3.   `FAVORITE_PART` (1 pt): What was your favorite topic / learning from the unit (i.e., between the last pset and this pset)? This should contain at least 10 words.\n",
        "4.   `WENT_WELL` (1 pt): What went well? Describe what went well with the course so far (this can be about the lecture, assignments, and/or other course content). This should contain at least 10 words.\n",
        "5.   `CHALLENGING` (1 pt): What was challenging? Describe what was challenging or didn't go well with the course so far (this can be about the lecture, assignments, and/or other course content). This should contain at least 10 words.\n",
        "6.   `COMMENTARY` (0 pt): If there is anything else you'd like to share with course staff, please add it here. If not, no need to change / edit the default string.\n"
      ],
      "metadata": {
        "id": "SqfTlz3rhl_l"
      }
    },
    {
      "cell_type": "code",
      "source": [
        "#@title Problem Set Survey Questions\n",
        "TIME = \"3.5\" #@param {type:\"string\"}\n",
        "\n",
        "DIFFICULTY = \"5\" #@param [\"\", \"1\", \"2\", \"3\", \"4\", \"5\", \"6\", \"7\", \"8\", \"9\", \"10\"]\n",
        "\n",
        "FAVORITE_PART = \"The explanation of the each of the matrices and their shapes were very helpful\" #@param {type:\"string\"}\n",
        "\n",
        "WENT_WELL = \"Pretty much all part went well as we were allowed to seek outside tutoring\" #@param {type:\"string\"}\n",
        "\n",
        "CHALLENGING = \"Q12 when the state initial transition function was way off, it was not obvious to me as to how the model recovered from it.\" #@param {type:\"string\"}\n",
        "\n",
        "COMMENTARY = \"\" #@param {type:\"string\"}"
      ],
      "metadata": {
        "id": "dbc1Hxirhl_l"
      },
      "execution_count": null,
      "outputs": []
    },
    {
      "cell_type": "markdown",
      "metadata": {
        "id": "ivAsW6yFhl_l"
      },
      "source": [
        "**<font color='red'>To submit, please download as a Python (.py) file and submit on Gradescope (navigate to File > Download > Download .py). Please use the correct file name and comment out any test / extraneous code to avoid any compile and parser issues </font>**"
      ]
    }
  ]
}