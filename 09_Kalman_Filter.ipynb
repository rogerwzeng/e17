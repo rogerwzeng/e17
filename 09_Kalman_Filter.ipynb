{
  "nbformat": 4,
  "nbformat_minor": 0,
  "metadata": {
    "colab": {
      "provenance": [],
      "include_colab_link": true
    },
    "kernelspec": {
      "name": "python3",
      "display_name": "Python 3"
    },
    "language_info": {
      "name": "python"
    }
  },
  "cells": [
    {
      "cell_type": "markdown",
      "metadata": {
        "id": "view-in-github",
        "colab_type": "text"
      },
      "source": [
        "<a href=\"https://colab.research.google.com/github/rogerwzeng/e17/blob/main/09_Kalman_Filter.ipynb\" target=\"_parent\"><img src=\"https://colab.research.google.com/assets/colab-badge.svg\" alt=\"Open In Colab\"/></a>"
      ]
    },
    {
      "cell_type": "markdown",
      "source": [
        "# Kalman Filter Tutorial"
      ],
      "metadata": {
        "id": "K-xUpQbKQTEo"
      }
    },
    {
      "cell_type": "markdown",
      "source": [
        "This tutorial will explore topics in SLAM (Simultaneous Localization & Mapping) with the Kalman Filter."
      ],
      "metadata": {
        "id": "374m18t7QcwT"
      }
    },
    {
      "cell_type": "markdown",
      "source": [
        "## Context"
      ],
      "metadata": {
        "id": "FM_Bbc1CQohj"
      }
    },
    {
      "cell_type": "markdown",
      "source": [
        "We will explore SLAM with the Kalman Filter for 2D Robot motion (i.e., a robot moving in 2 dimensions). Common situations that can be modeled as 2D Robot motion include robots navigating a warehouse, an autonomous vehicle navigating the streets, or a drone navigating at a constant elevation."
      ],
      "metadata": {
        "id": "HeCTEjMNQwrZ"
      }
    },
    {
      "cell_type": "markdown",
      "source": [
        "Let’s work in the setting where the robot is traveling at a constant speed. We can model the system dynamics as Newtonian motion. The key equations describing motion from physics are:\n",
        "\n",
        "\\begin{align}\n",
        "v &= v_0 + at \\\\\n",
        "x &= x_0 + v_0t + 0.5at^2\n",
        "\\end{align}\n",
        "\n",
        "where:\n",
        "- $t$: time\n",
        "- $a$: acceleration\n",
        "- $v$: velocity\n",
        "- $v_0$: velocity at time $t = 0$\n",
        "- $x$: position\n",
        "- $x_0$: position at time $t = 0$\n",
        "\n",
        "Since our robot is at constant speed, the acceleration term is zero, so our equations simplify to:\n",
        "\n",
        "\\begin{align}\n",
        "v &= v_0 \\\\\n",
        "x &= x_0 + v_0 t\n",
        "\\end{align}\n"
      ],
      "metadata": {
        "id": "S_oW5xUdQ-Sj"
      }
    },
    {
      "cell_type": "markdown",
      "source": [
        "Let’s also work in the setting where we have access to a GPS sensor that can provide measurements on the position of the robot."
      ],
      "metadata": {
        "id": "FqsIde4aS5hX"
      }
    },
    {
      "cell_type": "markdown",
      "source": [
        "Using the state dynamics as described by Newtonian motion and measurements from our sensors, we want to effectively combine them to accurate estimate the state of our robot. To achieve this, we’ll use the Kalman Filter."
      ],
      "metadata": {
        "id": "cMzsHYkeStg2"
      }
    },
    {
      "cell_type": "markdown",
      "source": [
        "## Kalman Filter"
      ],
      "metadata": {
        "id": "F08MgyZYS--0"
      }
    },
    {
      "cell_type": "markdown",
      "source": [
        "The Kalman filter is an iterative process where we make predictions of the state, collect measurements, and update our estimate based on our confidence of the prediction and measurements. More formally, the Kalman filter is described by the following:\n",
        "\n",
        "Prediction:\n",
        "\\begin{align}\n",
        "\\mathbf{\\bar{x}} &= \\mathbf{Fx} + \\mathbf{Bu} \\\\\n",
        "\\mathbf{\\bar{P}} &= \\mathbf{FPF}^T + \\mathbf{Q}\n",
        "\\end{align}\n",
        "\n",
        "Update:\n",
        "\\begin{align}\n",
        "\\mathbf{y} &= \\mathbf{z} - \\mathbf{H\\bar{x}}\\\\\n",
        "\\mathbf{S} &= \\mathbf{H}\\mathbf{\\bar{P}}\\mathbf{H}^T+\\mathbf{R}\\\\\n",
        "\\mathbf{K} &= \\mathbf{\\bar{P}H}^T\\mathbf{S}^{-1}\\\\\n",
        "\\mathbf{x} &= \\mathbf{\\bar{x}} + \\mathbf{Ky}\\\\\n",
        "\\mathbf{P} &= (\\mathbf{I} - \\mathbf{KH})\\mathbf{\\bar{P}}\\\\\n",
        "\\end{align}\n",
        "\n",
        "where:\n",
        "- $\\textbf{x}$: state\n",
        "- $\\textbf{P}$: state noise\n",
        "- $\\bar{\\textbf{x}}$: prediction\n",
        "- $\\bar{\\textbf{P}}$: prediction noise\n",
        "- $\\textbf{F}$: state transition function\n",
        "- $\\textbf{Q}$: process noise\n",
        "- $\\textbf{B}$: control function\n",
        "- $\\textbf{u}$: control input\n",
        "- $\\textbf{z}$: measurement\n",
        "- $\\textbf{H}$: measurement function\n",
        "- $\\textbf{R}$: measurement noise\n",
        "- $\\textbf{y}$: residual\n",
        "- $\\textbf{S}$: system / residual uncertainity\n",
        "- $\\textbf{K}$: kalman gain\n",
        "- $\\textbf{I}$: identity matrix\n"
      ],
      "metadata": {
        "id": "m7usFJeBTBWX"
      }
    },
    {
      "cell_type": "markdown",
      "source": [
        "To use the Kalman Filter, we need to explicitly design and define the vectors and matrices. Properly selecting what values the components of the Kalman filter should take **is not trivial** - often it can be very difficult to select the appropriate values and involves leveraging ideas from various engineering domains as well as iterating / fine tuning. It’s important to select the right values for the Kalman filter to ensure it estimates correctly because the Kalman filter can confidently converge on the wrong values (i.e., be a smug filter)."
      ],
      "metadata": {
        "id": "tP1Z5N95WojU"
      }
    },
    {
      "cell_type": "markdown",
      "source": [
        "### State: $\\mathbf{x}$"
      ],
      "metadata": {
        "id": "lLpwCdZYWunm"
      }
    },
    {
      "cell_type": "markdown",
      "source": [
        "We need to define our state variables. The Kalman filter will track and update the state variables. In the Kalman filter equations, the state variables are encapsulated by the $\\mathbf{x}$ vectors.\n",
        "\n",
        "In theory, we can have as few (at least one) or as many state variables as desirable. If we have too few state variables, we won’t properly describe our system. If we have too many state variables, it can be too complex or unyielding to properly encapsulate the system. Furthermore, when there are too many state variables, it can become computational unstable and / or infeasible. Beyond the number of state variables, we also want to select the **right** state variables, meaning that we can reasonable model and measure them. Understanding the system process and available sensors / measurements can inform thoughtful design of the state space."
      ],
      "metadata": {
        "id": "lRGftht7W6yM"
      }
    },
    {
      "cell_type": "markdown",
      "source": [
        "We're tracking robot motion in 2 dimensions described by Newtonian motion under constant speed and have a GPS sensor available that provides measurements on location. Thus, for this system, an appropraite set of state variables are:\n",
        "- $x$: x-coordinate position\n",
        "- $y$: y-coordinate position\n",
        "- $v_x$: velocity in the x-direction\n",
        "- $y_x$: velocity in the y-direction\n",
        "\n"
      ],
      "metadata": {
        "id": "IpH65MjeXCCs"
      }
    },
    {
      "cell_type": "markdown",
      "source": [
        "As an aside, there are alternative sets of state variables we can use.\n",
        "\n",
        "For example, we can consider the set of state variables that are the just the position (so $x$ and $y$ only). Since we're tracking for the location of the robot, the velocity may not be significantly relevant. Furthermore, we don't have any sensors that measure velocity so including them may result in extra noise.\n",
        "\n",
        "Another alternative is to add more state variables, such as acceleration or jerk. Perhaps the more information we track at a time, the better our filter will estimate the robot. However, for this example, we don't have sensors measuring these additional state variables which may actually degrade the performance of our filter.\n",
        "\n",
        "In practice, we'd design multiple Kalman filters with different sets of state variables and evaluate which produces the best results."
      ],
      "metadata": {
        "id": "_t0quBuJcePd"
      }
    },
    {
      "cell_type": "markdown",
      "source": [
        "In terms of implementation, we can express our state variables in any order for the state vector. For example, here are two possible conventions for our state vector using our state variables.\n",
        "\n",
        "$$\n",
        "\\begin{bmatrix}\n",
        "x\\\\y\\\\v_x\\\\v_y\n",
        "\\end{bmatrix} \\text{ or } \\begin{bmatrix}\n",
        "x\\\\v_x\\\\y\\\\v_y\n",
        "\\end{bmatrix}\n",
        "$$\n",
        "\n",
        "We'll get the same results using either as long as we are consistent about which order / orientation throughout the entire Kalman Filter. Typically, it make senses to have the order the state variables by some group.\n",
        "\n",
        "Also, notice that the vectors above are column vectors (i.e., they are tall / skinny with width 1). In many engineering and computer science domains, we typically represent and conceptualize vectors as column vectors. However, using column vectors for communication or in writing can be cumbersome so instead we represent them as the transpose of row vectors. In layman's term, row vectors are wide and have height 1 (i.e., you can think of it as a column vector flipped on its side). The transpose of a vector is that vector flipped on its side, so when you have a transpose of a row vector, it's represents a column vector.\n",
        "\n",
        "For our Kalman filter example, our state vector will be oriented as:\n",
        "\n",
        "$$\n",
        "\\mathbf{x} = \\begin{bmatrix}\n",
        "x\\\\v_x\\\\y\\\\v_y\n",
        "\\end{bmatrix}\n",
        "$$\n",
        "\n",
        "We can also express our state vector as a row vector: $[x, v_x, y, v_y]^T$. Moving forward, we'll be expressing vectors in row-vector form."
      ],
      "metadata": {
        "id": "e2JOUHb3e4BS"
      }
    },
    {
      "cell_type": "markdown",
      "source": [
        "### State Noise: $\\mathbf{P}$"
      ],
      "metadata": {
        "id": "29o6lyEqeCso"
      }
    },
    {
      "cell_type": "markdown",
      "source": [
        "The state noise matrix $\\mathbf{P}$ expresses our confidence in our state vector $\\mathbf{x}$. It captures the noise / variance for each state variable along the diagonal values and the covariances between states on the off-diagonal values. Similar to our state vector $\\mathbf{x}$, the Kalman filter tracks and updates the state noise matrix $\\mathbf{P}$. The ideal behavior is for the values in state noise matrix $\\mathbf{P}$ to reduce as we get more confident in our state estimates. The shape of the state noise matrix $\\mathbf{P}$ is $(|\\mathbf{x}|, |\\mathbf{x}|)$ where $|\\mathbf{x}|$ is the number of states and the order of the rows (top to bottom) and columns (left to right) should match the order of the state vector $\\mathbf{x}$."
      ],
      "metadata": {
        "id": "H3EADYTaeGwP"
      }
    },
    {
      "cell_type": "markdown",
      "source": [
        "Given our state vector $\\mathbf{x} = [x, v_x, y, v_y]^T$, our state noise matrix $\\mathbf{P}$ would look like:\n",
        "\n",
        "\n",
        "$$\n",
        "\\mathbf{P} = \\begin{bmatrix}\n",
        "\\sigma^2_{x} & \\sigma^2_{x,v_x} & \\sigma^2_{x,y} & \\sigma^2_{x,v_y} \\\\\n",
        "\\sigma^2_{v_x,x} & \\sigma^2_{v_x} & \\sigma^2_{v_x,y} & \\sigma^2_{v_x,v_y} \\\\\n",
        "\\sigma^2_{y,x} & \\sigma^2_{y,v_x} & \\sigma^2_{y} & \\sigma^2_{y,v_y}  \\\\\n",
        "\\sigma^2_{v_y,x} & \\sigma^2_{v_y,v_x} & \\sigma^2_{v_y,y} & \\sigma^2_{v_y} \\\\\n",
        "\\end{bmatrix}\n",
        "$$\n",
        "\n",
        "\n",
        "Note that this matrix is symmetric (along the diagonal) as $\\sigma^2_{a,b}$ = $\\sigma^2_{b,a}$."
      ],
      "metadata": {
        "id": "efyjpwz6fFxB"
      }
    },
    {
      "cell_type": "markdown",
      "source": [
        "### Prediciton: $\\bar{\\textbf{x}}$"
      ],
      "metadata": {
        "id": "fjWxgV8Dpjel"
      }
    },
    {
      "cell_type": "markdown",
      "source": [
        "The Kalman filter makes prediction for the state, $\\mathbf{\\bar{x}}$, using information about the previous values for the state, the state transition function, $\\mathbf{F}$, and the control function, $\\mathbf{B}$, and input, $\\mathbf{u}$. The shape for the prediction and order for the values is the same as our state vector $\\mathbf{x} = [x, v_x, y, v_y]^T$. For the Kalman filter, the prediction, $\\mathbf{\\bar{x}}$, is calculated as part of the process and we don't need to provide it as input."
      ],
      "metadata": {
        "id": "iM9JL1Kdp4YA"
      }
    },
    {
      "cell_type": "markdown",
      "source": [
        "For our system, the prediction, $\\mathbf{\\bar{x}}$, will predict our new $x$ position, new $y$ position, new velocity in the $x$ direction, and new velocity in the $y$ direction."
      ],
      "metadata": {
        "id": "znyTlkrPrNem"
      }
    },
    {
      "cell_type": "markdown",
      "source": [
        "### Prediciton Noise: $\\bar{\\textbf{P}}$"
      ],
      "metadata": {
        "id": "tQMvg1vxpj7n"
      }
    },
    {
      "cell_type": "markdown",
      "source": [
        "When we make a prediction, $\\mathbf{\\bar{x}}$, we also need the noise associated with it. To do this, we adjust our previous state noise by scaling with it the state transition function (hence the term $\\mathbf{FPF}^T$) and adding the process noise ($\\mathbf{Q}$) which can be viewed as the noise associated with our state transition function. The prediction noise $\\mathbf{\\bar{P}}$ tells us how confident we should be with the prediction. The shape of prediction noise $\\mathbf{\\bar{P}}$ is the same as $\\mathbf{P}$. For the Kalman filter, the prediction noise, $\\mathbf{\\bar{P}}$, is calculated as part of the process and we don't need to provide it as input."
      ],
      "metadata": {
        "id": "-ATbE-wXrlkn"
      }
    },
    {
      "cell_type": "markdown",
      "source": [
        "For our system, the prediction noise $\\mathbf{\\bar{P}}$ informs us of how confident we are about the predicted $x$ position, $y$ position, velocity in the $x$ direction, and velocity in the $y$ direction are."
      ],
      "metadata": {
        "id": "0qieKqvAtdKm"
      }
    },
    {
      "cell_type": "markdown",
      "source": [
        "### State Transition Function: $\\mathbf{F}$"
      ],
      "metadata": {
        "id": "zX_1SRJ3ptOh"
      }
    },
    {
      "cell_type": "markdown",
      "source": [
        "The state transition function is a matrix that describes how we transition from states at time step $t$ to time step $t+1$. It used to make predictions. An assumption baked in the Kalman filter is that the states at time $t+1$ is linear function of the states at time $t$."
      ],
      "metadata": {
        "id": "st6QUqcYqeQi"
      }
    },
    {
      "cell_type": "markdown",
      "source": [
        "Determining the state transition function $\\mathbf{F}$ requires understanding and modeling the system dyanmics. In our situation, we're using Newtonian motion so we already have a model to describe the robot. We'd use the equations for Newtonian motion under a constant speed to design our state transition function $\\mathbf{F}$. We need re-express those equations in terms of time steps.\n",
        "\n",
        "For modeling simplicity, we'll assume the motion along the x and y direction are independent. Using the Newtonian equations under a constant speed, we get:\n",
        "\n",
        "\\begin{align}\n",
        "x_t &= x_{t-1} + v_{x,t-1}\\Delta t  \\\\\n",
        "v_{x,t} &= v_{x,t-1} \\\\\n",
        "y_t &= y_{t-1} + v_{y,t-1}\\Delta t  \\\\\n",
        "v_{y,t} &= v_{y,t-1} \\\\\n",
        "\\end{align}\n",
        "\n",
        "Making sense of the above:\n",
        "- the Newtonian dynamics told us that the position at the next time step is the position at the current time step plus the amount that we'll travel, which determined by speed multiplied by the time traveled (e.g., imagine your speed is 4 m/s and you traveled for 2 seconds, then the total amount you traveled is 8 meters so your next position is your old position plus 8 meters)\n",
        "- the Newtonian dynamics told us that the velocity doesn't change so the velocity at the next time step is the velocity at the current time step\n",
        "\n",
        "Now we'll use the above equations to design the state transition function $\\mathbf{F}$ which will have shape $(|\\mathbf{x}|, |\\mathbf{x}|)$ where $|\\mathbf{x}|$ is the number of states. Recall we defined the state vector as $\\mathbf{x} = [x, v_x, y, v_y]^T$, so our the columns (from left to right) and rows (from top to bottom) for matrix $\\mathbf{F}$ will be in that order. One intrepretation of the matrix $\\mathbf{F}$ is that it describes the linear function between states at time $t$ to time $t+1$, so for explicit demonstrative purposes, let's re-express the above equations in terms of the full state space with coefficients in front, bolded in the order of state variables in $\\mathbf{x}$:\n",
        "\n",
        "\\begin{align}\n",
        "x_t &= \\mathbf{1} x_{t-1} + \\mathbf{\\Delta t} v_{x,t-1} + \\mathbf{0} y_{t-1} + \\mathbf{0} v_{y,t-1} \\\\\n",
        "v_{x,t} &= \\mathbf{0} x_{t-1} + \\mathbf{1}v_{x,t-1} + \\mathbf{0} y_{t-1} + \\mathbf{0} v_{y,t-1} \\\\\n",
        "y_t &= \\mathbf{0} x_{t-1} + \\mathbf{0} v_{x,t-1} + \\mathbf{1}y_{t-1} + \\mathbf{\\Delta t} v_{y,t-1} \\\\\n",
        "v_{y,t} &= \\mathbf{0} x_{t-1} + \\mathbf{0} v_{x,t-1} + \\mathbf{0} y_{t-1} + \\mathbf{1} v_{y,t-1} \\\\\n",
        "\\end{align}\n",
        "\n",
        "Thus, our state transition function matrix $\\mathbf{F}$ is:\n",
        "\n",
        "$$\n",
        "\\mathbf{F} = \\begin{bmatrix}\n",
        "1 & \\Delta t & 0 & 0 \\\\\n",
        "0 & 1 & 0 & 0 \\\\\n",
        "0 & 0 & 1 & \\Delta t  \\\\\n",
        "0 & 0 & 0 & 1 \\\\\n",
        "\\end{bmatrix}\n",
        "$$\n",
        "\n",
        "Notice that the matrix $\\mathbf{F}$ has a $\\Delta t$. For our example, $\\Delta t = 1$, meaning we predict every second but we can also predict at different intervals (hence why we have $\\Delta t$ instead of a number)."
      ],
      "metadata": {
        "id": "vTPhjCJj2BNT"
      }
    },
    {
      "cell_type": "markdown",
      "source": [
        "### Process Noise: $\\mathbf{Q}$"
      ],
      "metadata": {
        "id": "26H8KdUp87yh"
      }
    },
    {
      "cell_type": "markdown",
      "source": [
        "The process noise describes our uncertainity with our process model - in this case, with the dynamics of the Newtonian motion under a constant speed. Designing an appropraite process noise matrix $\\mathbf{Q}$ is difficult. It often requires domain expertise or doing experiments to collect data to estimate a reasonable process noise. The shape of the process noise matrix $\\mathbf{Q}$ is $(|\\mathbf{x}|, |\\mathbf{x}|)$ where $|\\mathbf{x}|$ is the number of states and the order of the rows and columns follow the order of the state vector $\\mathbf{x}$.\n",
        "\n",
        "For the sake of simplicity, we'll use a discrete time Wiener process, which is a type of constant noise, to describe the process noise. There are other alternatives such as the Singer model. For those curious on alternative ways to describe the process noise, [please read here](https://apps.dtic.mil/sti/pdfs/AD1103353.pdf).\n",
        "\n",
        "As stated in the state transtion function section, we're assuming that motion in the x and y direction are indepedent, thus the covariance between the x and y state variables should be zero. Our process noise matrix $\\mathbf{Q}$ will be:\n",
        "\n",
        "$$\n",
        "\\mathbf{Q} = \\begin{bmatrix}\n",
        "0 & 1 & 0 & 0 \\\\\n",
        "1 & 1 & 0 & 0 \\\\\n",
        "0 & 0 & 0 & 1  \\\\\n",
        "0 & 0 & 1 & 1 \\\\\n",
        "\\end{bmatrix} \\sigma_q^2\n",
        "$$\n",
        "\n",
        "The $\\sigma_q^2$ is a tunable parameter that describes the variance of the constant white noise. The less confident we are in our process model / state transitions, the larger $\\sigma_q^2$ should be. We can experiement with the value of $\\sigma_q^2$ for the optimal Kalman filter performance. For this example, we'll set $\\sigma_q^2 = 0.005$."
      ],
      "metadata": {
        "id": "mMRWfIap9Fi_"
      }
    },
    {
      "cell_type": "markdown",
      "source": [
        "### Control Function and Control Input: $\\mathbf{B}$, $\\mathbf{u}$"
      ],
      "metadata": {
        "id": "nQNjBGpMBpdl"
      }
    },
    {
      "cell_type": "markdown",
      "source": [
        "In situations where the robot has input (i.e., someone is controlling the robot), we’d have a control function $\\mathbf{B}$ and control input $\\mathbf{u}$. The control input, $\\mathbf{u}$, refers to the commands or directives. The control function, $\\mathbf{B}$, maps the input to the state space. The control input $\\mathbf{u}$ will be a column vector. The control function $\\mathbf{B}$ will be shape $(|\\mathbf{x}|, |\\mathbf{u}|)$ where $|\\mathbf{x}|$ is the number of states (rows) and $|\\mathbf{u}|$ is the number of inputs (columns).\n",
        "\n",
        "We need a control function, $\\mathbf{B}$, as inputs might not directly correspond with the states. For example, the number of inputs maybe different than the number of states - thus the control function, $\\mathbf{B}$, ensures proper matrix shape for the Kalman filter. Moreover, a combination of inputs might affect our states - the control function, $\\mathbf{B}$, can capture how to properly combine the inputs.\n",
        "\n",
        "Consider our current robot tracking situation. We could potentially have inputs for steering (i.e., four values corresponding to left, right, forward, and backward) which is captured by the control input $\\mathbf{u}$. The steering input could affect the position and velocity in different ways, so we need a control function, $\\mathbf{B}$, to transform the inputs to work in the state space. To appropraitely design $\\mathbf{u}$ and $\\mathbf{B}$, we need to consider how the robot inputs work and how they map to the states.\n",
        "\n",
        "For the sake of simplicity, we will assume there is no control input. Thus, the values for $\\mathbf{u}$ and $\\mathbf{B}$ will be the zero vector and zero matrix.\n",
        "\n",
        "\n"
      ],
      "metadata": {
        "id": "snKHpkirBy_L"
      }
    },
    {
      "cell_type": "markdown",
      "source": [
        "### Measurement: $\\mathbf{z}$"
      ],
      "metadata": {
        "id": "FuTKwXjohLRt"
      }
    },
    {
      "cell_type": "markdown",
      "source": [
        "The measurement vector $\\mathbf{z}$ refers to the measurements. The measurements play a key role in the Kalman filter update step. It is combined with prediction state $\\mathbf{\\bar{x}}$ to form our new estimate. Furthermore, we can use the first measurement to inform the initial state $\\mathbf{x}$.\n",
        "\n",
        "In terms of dimensions, the number of values in $\\mathbf{z}$ will correspond to the number of measurements we collect, which may not necessarily be equal to the number of states. The number of measurements available will be based on the sensors we include / use. Furthermore, the measurements may not share the same units or directly correspond to the states, which why we need a measurement function $\\mathbf{H}$ takes our states and translates them into the measurement space."
      ],
      "metadata": {
        "id": "KtSVbM2hh7kK"
      }
    },
    {
      "cell_type": "markdown",
      "source": [
        "For our situatuon, we have a GPS which will provide two measurements, the $x$ position, which we will denote as $z_x$, and the $y$ position, which we will denote as $z_y$. We will express the measurement vector in that order:\n",
        "\n",
        "$$\n",
        "\\mathbf{z} = \\begin{bmatrix}\n",
        "z_x\\\\z_y\n",
        "\\end{bmatrix}\n",
        "$$\n",
        "\n",
        "Note: the particular order of the measurements doesn't matter as long as we are consistent through out."
      ],
      "metadata": {
        "id": "FoqS6umIuwfx"
      }
    },
    {
      "cell_type": "markdown",
      "source": [
        "### Measurement Function: $\\mathbf{H}$"
      ],
      "metadata": {
        "id": "nk4yBrLBFTaO"
      }
    },
    {
      "cell_type": "markdown",
      "source": [
        "Often, our measurements and states might be different spaces. This can happen when:\n",
        "- the units differ between the measurements and states\n",
        "- there are a different number of measurements and states\n",
        "- the measurements are a function of the states\n",
        "\n",
        "The measurement function $\\mathbf{H}$ takes our states and translates them into the measurement space. In designing the matrix $\\mathbf{H}$, we need to consider what measurements we have, what their units are, and how they relate to the states. To make sure the math works, the dimension of our matrix $\\mathbf{H}$ should be $(|\\mathbf{z}|, |\\mathbf{x}|)$ where $|\\mathbf{z}|$ is the number of measurements in the proper order (rows) and $|\\mathbf{x}|$ is the number of states in the proper order (columns)."
      ],
      "metadata": {
        "id": "k5qMYt-rFhHT"
      }
    },
    {
      "cell_type": "markdown",
      "source": [
        "In our situation, we only have a GPS sensor that gives us position data on $x$ and $y$. Let's also say that this GPS sensor provides us measurements in feet but our states are in meters. The conversion is 1 meter is roughly 3.3 feet. Thus, our measurement function $\\mathbf{H}$ is:\n",
        "\n",
        "$$\n",
        "\\mathbf{H} = \\begin{bmatrix}\n",
        "3.3 & 0 & 0 & 0 \\\\\n",
        "0 & 0 & 3.3 & 0 \\\\\n",
        "\\end{bmatrix}\n",
        "$$\n",
        "\n",
        "The order of the rows, from top to bottom, of the measurement function $\\mathbf{H}$ is the measurement for $x$, $z_x$, and the measurement for $y$, $z_y$. The order of the columns, from left to right, correspond to the state vector as $\\mathbf{x} = [x, v_x, y, v_y]^T$. The matrix has zero values for where the states don't relate to or have any measurements.\n",
        "\n",
        "The measurement function $\\mathbf{H}$ converts our states into the measurement space so we can accurate relate them. The measurement function $\\mathbf{H}$ also ensures the proper shape in our operations, such as when calculating the residuals $\\mathbf{y}$, where we are subtracting the measurements from the predicted states.\n"
      ],
      "metadata": {
        "id": "dwV117_kKwIX"
      }
    },
    {
      "cell_type": "markdown",
      "source": [
        "### Measurement Noise: $\\mathbf{R}$"
      ],
      "metadata": {
        "id": "ow-IMzqcTWYy"
      }
    },
    {
      "cell_type": "markdown",
      "source": [
        "The measurement noise matrix $\\mathbf{R}$ captures our confidence in the measurements / sensors. The diagonal values represent the variance in the individual measurements / sensors and the off-diagonal values represent the covariance between the measurements / sensors. The shape of the measurement noise matrix $\\mathbf{R}$ is $(|\\mathbf{z}|, |\\mathbf{z}|)$ where $|\\mathbf{z}|$ is the number of measurements and the order of the rows and columns follow the order of the measurement vector $\\mathbf{z}$.\n",
        "\n",
        "There are several ways to determine the values for the measurement noise matrix $\\mathbf{R}$:\n",
        "- use the specifications on the sensors which will typically include metrics on how reliable / noisy the sensors are\n",
        "- collect measurement data for the situation and empiricial calculate the covariance matrix\n",
        "- make modeling assumptions based on knowledge of the system"
      ],
      "metadata": {
        "id": "uR_5TZB3TfZX"
      }
    },
    {
      "cell_type": "markdown",
      "source": [
        "For our situation, we have GPS sensor that provides a measurement for the $x$ and $y$ position, $z_x$ and $z_y$. The specifications on the GPS sensor informs us the measurement noise follows $ \\mathcal{N}(0, 2)$. As for the covariances, we'll stick with our assumption that the motion in the $x$ and $y$ directions are independent, thus they would be zero. Therefore:\n",
        "\n",
        "$$\n",
        "\\mathbf{R} = \\begin{bmatrix}\n",
        "2 & 0  \\\\\n",
        "0 & 2  \\\\\n",
        "\\end{bmatrix}\n",
        "$$\n",
        "\n",
        "Alternatively, we could have collected data using this GPS sensor and then calculated an empirical covariance matrix to use."
      ],
      "metadata": {
        "id": "OubZBsiqV6_D"
      }
    },
    {
      "cell_type": "markdown",
      "source": [
        "### Residual: $\\mathbf{y}$"
      ],
      "metadata": {
        "id": "LxA7xIA3hHhj"
      }
    },
    {
      "cell_type": "markdown",
      "source": [
        "The residual is the difference between our measurement and prediction. We use the residual, $\\mathbf{y}$, to adjust the prediction, $\\mathbf{\\bar{x}}$, to form our state estimate. The importance of the residual, $\\mathbf{y}$, is described by the Kalman Gain, $\\mathbf{K}$, which encapsulates information about how confident we are about our prediction and measurement. If we're more confident on the prediction, our residual will have a small impact on the estimate. If we're more confident on the measurement, our residual will have a larger impact on the estimate.\n",
        "\n",
        "By the definition of residual, the shape of the residual, $\\mathbf{y}$, should be the same as the shape of our measurement vector, $\\mathbf{z}$, because we want the difference between our measurement and prediction. Our measurement might be in one space and our states might be another, hence why we have the measurement function $\\mathbf{H}$ in the residual formulation to convert the state into the measurement space."
      ],
      "metadata": {
        "id": "g8qfJMmIh5FJ"
      }
    },
    {
      "cell_type": "markdown",
      "source": [
        "For our situation, our residual, $\\mathbf{y}$, will be:\n",
        "\n",
        "$$\n",
        "\\mathbf{y} = \\begin{bmatrix}\n",
        "y_x\\\\y_y\n",
        "\\end{bmatrix}\n",
        "$$\n",
        "\n",
        "where:\n",
        "- $y_x$: the residual between the measurement and prediction for the $x$ position\n",
        "- $y_y$: the residual between the measurement and prediction for the $y$ position\n",
        "\n",
        "Notice that our residual vector doesn't have components for the velocity in the $x$ and $y$ direction because we have no measurements for them and can't calculate residuals. This is expressed in the measurement function $\\mathbf{H}$ where the entries corresponding to those state variabeles are zero.\n"
      ],
      "metadata": {
        "id": "LDGww4BlP1wI"
      }
    },
    {
      "cell_type": "markdown",
      "source": [
        "### System Uncertainity: $\\mathbf{S}$"
      ],
      "metadata": {
        "id": "fGjK0gpEg3Iy"
      }
    },
    {
      "cell_type": "markdown",
      "source": [
        "The system uncertainity $\\mathbf{S}$ describes the noise surrounding the residual. Since the residual formulation is a combination of the prediction and measurement, the system uncertainity is the combination of the prediction noise and measurement noise. Since the space of the prediction and measurement are different, we need to transform the prediction noise with measurement function (hence the $\\mathbf{H}\\mathbf{\\bar{P}}\\mathbf{H}^T$ term). After transforming the prediction noise, we add in the measurement noise ($\\mathbf{R}$). The shape of the system uncertainity $\\mathbf{S}$ is $(|\\mathbf{z}|, |\\mathbf{z}|)$ where $|\\mathbf{z}|$ is the number of measurements and the order of the rows and columns follow the order of the measurement vector $\\mathbf{z}$.\n",
        "\n",
        "The system uncertainity $\\mathbf{S}$ is calculated as part of the Kalman filter and used for determining the Kalman Gain, which is used to weigh the predictions and measurements in determining the state estimate."
      ],
      "metadata": {
        "id": "TU3IW27rh4Ij"
      }
    },
    {
      "cell_type": "markdown",
      "source": [
        "For our situation, the system uncertainity $\\mathbf{S}$ will be:\n",
        "\n",
        "$$\n",
        "\\mathbf{S} = \\begin{bmatrix}\n",
        "\\sigma^2_{y_x} & \\sigma^2_{y_x,y_y}  \\\\\n",
        "\\sigma^2_{y_y,y_x} & \\sigma^2_{y_y}  \\\\\n",
        "\\end{bmatrix}\n",
        "$$\n",
        "\n",
        "Note that this matrix is symmetric (along the diagonal) as $\\sigma^2_{a,b}$ = $\\sigma^2_{b,a}$."
      ],
      "metadata": {
        "id": "lw9qBcyVttOD"
      }
    },
    {
      "cell_type": "markdown",
      "source": [
        "### Kalman Gain: $\\mathbf{K}$"
      ],
      "metadata": {
        "id": "-RxQDHcGg97O"
      }
    },
    {
      "cell_type": "markdown",
      "source": [
        "The Kalman Gain $\\mathbf{K}$ describes we should treat information about the residual in our state estimate. It encapsulates information about how confident we are about our prediction and measurement. If we're more confident on the prediction, the Kalman Gain $\\mathbf{K}$ will reduce the impact / magnitude of the values of the residual. If we're more confident on the measurement, the Kalman Gain $\\mathbf{K}$ will increase the impact / magnitude of the values of the residual. The shape of the Kalman Gain $\\mathbf{K}$ will be $(|\\mathbf{x}|, |\\mathbf{z}|)$ where $|\\mathbf{x}|$ is the number of states in the proper order (rows) and $|\\mathbf{z}|$ is the number of measurements in the proper order (columns)."
      ],
      "metadata": {
        "id": "wWg3MGMLh1dp"
      }
    },
    {
      "cell_type": "markdown",
      "source": [
        "For our situation, the Kalman Gain $\\mathbf{K}$ will be:\n",
        "\n",
        "$$\n",
        "\\mathbf{K} = \\begin{bmatrix}\n",
        "k_{y_x,x} & k_{y_y,x}  \\\\\n",
        "k_{y_x,v_x} & k_{y_y,v_x}  \\\\\n",
        "k_{y_x,y} & k_{y_y,y}  \\\\\n",
        "k_{y_x,v_y} & k_{y_y,v_y}  \\\\\n",
        "\\end{bmatrix}\n",
        "$$\n",
        "\n",
        "where $k_{i,j}$ represents the Kalman Gain on residual $y_i$ for state $x_j$. More concretely, the first column of $\\mathbf{K}$ represents the Kalman Gain on the residual $y_x$ for the states and the second column of $\\mathbf{K}$ represents the Kalman Gain on the residual $y_y$ for the states."
      ],
      "metadata": {
        "id": "OiSzq6Arw89B"
      }
    },
    {
      "cell_type": "markdown",
      "source": [
        "### Identity Matrix: $\\mathbf{I}$"
      ],
      "metadata": {
        "id": "ukIetzoLhLKL"
      }
    },
    {
      "cell_type": "markdown",
      "source": [
        "The identity matrix $\\mathbf{I}$ is a square matrix where all diagonal values are one and all non-daigonal values are zero. There are actually an infinite number of identity matrix $\\mathbf{I}$ since the shape of the identity matrix $\\mathbf{I}$ is $(n, n)$ where $n\\in \\mathbb{Z}^+$ ($n$ can be any positive integers). It's called an identity matrix because when you multiply a square matrix $\\mathbf{A}$ by the appropraite identity matrix (i.e., has the same shape), the resulting matrix is itself $\\mathbf{A}$. Another property of the identity matrix is that when we subtract a matrix $\\mathbf{A}$ from it (i.e., $\\mathbf{I}-\\mathbf{A}$), we get a projection onto the orthogonal complement of the subspace. This second property is why the identity matrix appears in the Kalman Filter equations. At a high level, it is used to transform from the measurement space into the state space. The dimension of identity matrix $\\mathbf{I}$ for the Kalman Filter will be is $(|\\mathbf{x}|, |\\mathbf{x}|)$ where $|\\mathbf{x}|$ is the number of states."
      ],
      "metadata": {
        "id": "N8cU2Z_XiK6e"
      }
    },
    {
      "cell_type": "markdown",
      "source": [
        "For our situation, the identity matrix will be $\\mathbf{I_4}$ (i.e., the identity matrix of dimension 4):\n",
        "\n",
        "$$\n",
        "\\mathbf{I_4} = \\begin{bmatrix}\n",
        "1 & 0 & 0 & 0 \\\\\n",
        "0 & 1 & 0 & 0 \\\\\n",
        "0 & 0 & 1 & 0 \\\\\n",
        "0 & 0 & 0 & 1 \\\\\n",
        "\\end{bmatrix}\n",
        "$$"
      ],
      "metadata": {
        "id": "tE9oNoeD8w0H"
      }
    },
    {
      "cell_type": "markdown",
      "source": [
        "### Initial State Vector & State Noise: $\\mathbf{x}, \\mathbf{P}$"
      ],
      "metadata": {
        "id": "jWFymAYTb6PH"
      }
    },
    {
      "cell_type": "markdown",
      "source": [
        "The initial state vector and state noise is the state values and noise at the start of the Kalman Filter. We need to initialize our filter with these values. Unlike the other matrices and vectors we provide to the Kalman filter, the initial state vector and state noise are only used for the first time-step after which they are updated by the Kalman filter process. The shape of the initial state vector and state noise should correspond to the shape and order of $\\mathbf{x}$ and $\\mathbf{P}$ respectively.\n",
        "\n",
        "One technique to initialize the state vector is to use the initial measurements to inform the values where applicable. Note: since the measurement space and state space might be different, the initial measurement might not have a sufficient amount of information on the state.\n",
        "\n",
        "Another approach is to make a reasonable guess on the state vector. Assuming that the other components of the Kalman Filter are accurate / representative, even if our initial guess is bad, we should expect the Kalman Filter to correct for the mistake.\n",
        "\n",
        "In terms of initializing state noise, we also can make a reasonable guess and assume that our Kalman filter will correct it (given the other components are accurate). Since we're very uncertain about the state at the beginning, since we have no data, observations, or measurements, we typically set the initial state noise to be very high.\n",
        "\n",
        "In general, assuming that our other components are accurate, having bad initial conditions shouldn't affect the long-term performance of our filter. However, we should expect, if our initial conditions are off, that at the beginning, our filter will be very noisy and far from the true state values. Depending on how quickly we want the Kalman filter to converge on the true state values, we can fine-tune on the initial conditions."
      ],
      "metadata": {
        "id": "WN9E0yr2iMzz"
      }
    },
    {
      "cell_type": "markdown",
      "source": [
        "For our situation, let's initialize the position at $(0, 0)$ and the velocity in both the $x$ and $y$ direction as 0. Thus our initial state vector, $\\mathbf{x}$, is:\n",
        "\n",
        "$$\n",
        "\\mathbf{x} = \\begin{bmatrix}\n",
        "0\\\\0\\\\0\\\\0\n",
        "\\end{bmatrix}\n",
        "$$\n",
        "\n",
        "Since we don't know much about the state noise, let's make them large and say the variance on each state is 20. We'll also guess that there is no covariance between the states (which is clearly not the case given our system dynamics, but we should expect the Kalman Filter to correct for it). Thus, our initial state noise, $\\mathbf{P}$, is:\n",
        "\n",
        "$$\n",
        "\\mathbf{P} = \\begin{bmatrix}\n",
        "20 & 0 & 0 & 0 \\\\\n",
        "0 & 20 & 0 & 0 \\\\\n",
        "0 & 0 & 20 & 0 \\\\\n",
        "0 & 0 & 0 & 20 \\\\\n",
        "\\end{bmatrix}\n",
        "$$"
      ],
      "metadata": {
        "id": "Homk0pB4F9uH"
      }
    },
    {
      "cell_type": "markdown",
      "source": [
        "### Takeaways"
      ],
      "metadata": {
        "id": "jp5ZPuouJFeX"
      }
    },
    {
      "cell_type": "markdown",
      "source": [
        "We've explored each component of the Kalman Filter equations and defined / designed the components we need for our example situation. Some key takeaways are:\n",
        "- Beyond the linear algebra, each matrix and vector has some intrepretation in system\n",
        "- Pay attention to shapes - having the wrong shape will results in errors; moreover, the shapes can indicate what space we're working in (i.e., measurement space versus state space)\n",
        "- Pay attention to the order of the rows and columns - the order needs to be consistent across all the components\n",
        "- To use the Kalman Filter properly, we need to accurately represent our system dynamics, capture the measurements we have available, and design the matrices / vectors; often, a great place to start is to see how the Kalman Filter is implemented elsewhere\n"
      ],
      "metadata": {
        "id": "l6-ncfUhJL34"
      }
    },
    {
      "cell_type": "markdown",
      "source": [
        "## Kalman Filter Simulation"
      ],
      "metadata": {
        "id": "Q1Cktvmggkjc"
      }
    },
    {
      "cell_type": "markdown",
      "source": [
        "Let's implement the Kalman Filter for the situation we described above. For this tutorial, we will define the true state evolution. Then, we will simulate measurements around the true state values. Since we know the true state values, we can also compare the estimates from the Kalman filter to evaluate the performance of our filter.\n",
        "\n",
        "In terms of implementation, the mechanics of implementing the Kalman filter is not too difficult, especially with the numpy library. There are libraries for the Kalman Filter which will implement the steps / matrix multiplication for you. With those libraries, you'd only need to specify the inputs for the Kalman Filter, but that where the real challenge of using the Kalman Filter is.\n",
        "\n",
        "It's difficult to determine what the right values should be for all the components in the Kalman Filter. In this tutorial, we're focusing on tracking 2D Robot motion at a constant speed, which is relatively straightforward system with known dynamics. However, the systems involved with robotics, autonomous vehicles, and drones are often much more complex, encompassing many more states, constraints, and components."
      ],
      "metadata": {
        "id": "gNukUbGehbqK"
      }
    },
    {
      "cell_type": "markdown",
      "source": [
        "### Generating True States"
      ],
      "metadata": {
        "id": "btGc26HEOUil"
      }
    },
    {
      "cell_type": "markdown",
      "source": [
        "The first step in our simulation is to define the process for generating the underyling true state of the system. Our system is a robot moving at a constant speed in 2 dimensions. We will simulate the process with the equations of Newtonian motion under a constant speed.\n",
        "\n",
        "\\begin{align}\n",
        "v &= v_0 \\\\\n",
        "x &= x_0 + v_0 t\n",
        "\\end{align}\n",
        "\n",
        "Thus, the parameters for our simulation will be the starting $x$ position, starting $y$ position, the starting velocity in the $x$ direction, $v_x$, and the starting velocity in the $y$ direction, $v_y$. We will also have a time variable $T$ that will define how long our process is. For our tutorial, the base unit for time is in seconds and the units for $T$ will be seconds (i.e., we'll generate $T$ states).\n",
        "\n",
        "Unfortunately, no real world system perfectly follows a set of equations. To mirror real world conditions, we'll also factor in some noise to the true state generation - this can be considered the true underlying process noise (what $\\mathbf{Q}$ represents in the Kalman filter). The noise be normally distributed around zero so we only need to define the covariance matrix."
      ],
      "metadata": {
        "id": "NgeZOsbUOYkO"
      }
    },
    {
      "cell_type": "markdown",
      "source": [
        "### Generating Measurements"
      ],
      "metadata": {
        "id": "rrkgzu1_qZTq"
      }
    },
    {
      "cell_type": "markdown",
      "source": [
        "Given our underlying true states, we can simulate the measurements around the true state values. No measurement tool is perfect so we will include noise around our measurements - this cane be considered the true underlying measurement noise (what $\\mathbf{R}$ represents in the Kalman filter). The noise be normally distributed around zero so we only need to define the covariance matrix.\n",
        "\n",
        "Furthermore, our measurements are in a different space from our states so we should also account for it by converting the states in the measurement space using the measurement function $\\mathbf{H}$."
      ],
      "metadata": {
        "id": "9K17svaNqnIw"
      }
    },
    {
      "cell_type": "markdown",
      "source": [
        "### Generating Kalman Filter Estimates"
      ],
      "metadata": {
        "id": "rTgzvOzxrN4x"
      }
    },
    {
      "cell_type": "markdown",
      "source": [
        "For generating Kalman Filter estimates, we need to implement the predict and update state described by the Kalman Filter equations. Fortunately, the `numpy` library makes matrix operations easy because we have [matrix multiplication](https://numpy.org/doc/stable/reference/generated/numpy.matmul.html), [matrix transpose](https://numpy.org/doc/stable/reference/generated/numpy.matrix.transpose.html), and [matrix inverse](https://numpy.org/doc/stable/reference/generated/numpy.linalg.inv.html) available. The implementation follows closely to the equations.\n",
        "\n",
        "In addition to tracking the Kalman Filter estimates, we'll also track the predictions that are made in the intermediary process. This can be used to better understand what and how the Kalman Filter is working."
      ],
      "metadata": {
        "id": "UsMeoFNOrUWr"
      }
    },
    {
      "cell_type": "markdown",
      "source": [
        "To generate Kalman Filter estimates, we need to explicit provide (i.e., design and define):\n",
        "- $\\mathbf{x}$: the initial guess for the state vector\n",
        "- $\\mathbf{P}$: the initial guess for the state noise matrix\n",
        "- $\\mathbf{F}$: the transition function matrix\n",
        "- $\\mathbf{Q}$: the process noise matrix\n",
        "- $\\mathbf{H}$: the measurement function matrix\n",
        "- $\\mathbf{R}$: the measurement noise matrix\n",
        "\n",
        "Additionally, we need measurements to update the Kalman filter. In real-world settings, the measurement might be coming in one at a time. For this simulation, we will provide all the measurements at once since we know / have them."
      ],
      "metadata": {
        "id": "w_kKyU161fE9"
      }
    },
    {
      "cell_type": "markdown",
      "source": [
        "### Visualizing the Process"
      ],
      "metadata": {
        "id": "2qaUoHzIrRBB"
      }
    },
    {
      "cell_type": "markdown",
      "source": [
        "The Kalman Filter is a very numeric and linear algebra heavy process. Looking and understanding the numbers, vectors, and matrices produced by the Kalman Filter process may not very clear / intuitive. Thus, it's helpful to create visualizations of the process where possible. We'll create a tool to visualize the Kalman Filter process on a 2D graph since the situation is a robot traveling in 2-dimensions.\n",
        "\n",
        "We can only really visualize the location variables, the $x$ and $y$ coordinates, on a 2D graph. For velocity, we unfortunately can't visualize it as easily or intuitively, though it can be inferred via the slope of the motion. In building the visualization tool, we will include a number of flags to help customize the view, isolate different components, and / or focus in on different regions."
      ],
      "metadata": {
        "id": "21N4wME8rUTr"
      }
    },
    {
      "cell_type": "markdown",
      "source": [
        "## Kalman Filter Implementation"
      ],
      "metadata": {
        "id": "RrcuDFRVm255"
      }
    },
    {
      "cell_type": "markdown",
      "source": [
        "The simulation section described the intuition for how to simulate the Kalman filter process. However the implementation in this section may look different from what was described in the simulation section. Notably:\n",
        "- The use of matrices and matrix operations because they are more efficient / compact; for example, in generating the true state, a matrix representation of the Newtonian motion equation was used\n",
        "- Including a seed parameter in generating the true states and measurements for the random number generation for result reproducibility\n",
        "- Including additional parameters and returning additional objects for more customization and analysis (e.g., the visualization function has additional parameters for customizing the visualization)\n",
        "\n",
        "For more information on the implementation, look at the function documentation and code comments."
      ],
      "metadata": {
        "id": "X7j35TC1rbiZ"
      }
    },
    {
      "cell_type": "markdown",
      "source": [
        "### Generation & Visualization Implementation"
      ],
      "metadata": {
        "id": "3NSzs2V0wxUD"
      }
    },
    {
      "cell_type": "markdown",
      "source": [
        "The code in this section has functions to generate true states, measurements, and kalman filter estimates and a visualization function. Feel free to explore but **be careful** in changing the code in this section as it is responsible to simulate the process."
      ],
      "metadata": {
        "id": "ojjNJUjGxAMh"
      }
    },
    {
      "cell_type": "code",
      "source": [
        "#@title Generation & Visualization Functions\n",
        "\n",
        "### LIBRARIES ###\n",
        "import numpy as np\n",
        "import matplotlib.pyplot as plt\n",
        "from typing import Dict, List, Optional, Set, Tuple, Union\n",
        "\n",
        "\n",
        "### VISUALIZATION ###\n",
        "def kalman_visualization(\n",
        "    true_states: Tuple[np.ndarray, int, int] = (np.array([[]]), 0, 0),\n",
        "    initial_state_guess: Tuple[np.ndarray, int, int] = (np.array([[]]), 0, 0),\n",
        "    scaled_measurements: Tuple[np.ndarray, int, int] = (np.array([[]]), 0, 0),\n",
        "    predictions: Tuple[np.ndarray, int, int] = (np.array([[]]), 0, 0),\n",
        "    kf_estimates: Tuple[np.ndarray, int, int] = (np.array([[]]), 0, 0),\n",
        "    true_states_toggle: bool = True,\n",
        "    initial_state_guess_toggle: bool = True,\n",
        "    scaled_measurements_toggle: bool = True,\n",
        "    predictions_toggle: bool = True,\n",
        "    kf_estimates_toggle: bool = True,\n",
        "    figsize: Tuple[float, float] = (8, 4),\n",
        "    base_scatter_setting: Dict[str, Union[float, str]] = {\n",
        "        \"true_states\": {\n",
        "            \"s\": 50,\n",
        "            \"c\": \"black\",\n",
        "            \"marker\": \"o\",\n",
        "            \"label\": \"True State\",\n",
        "        },\n",
        "        \"initial_state_guess\": {\n",
        "            \"s\": 50,\n",
        "            \"c\": \"purple\",\n",
        "            \"marker\": \"d\",\n",
        "            \"label\": \"Initial State Guess\",\n",
        "        },\n",
        "        \"scaled_measurements\": {\n",
        "            \"s\": 50,\n",
        "            \"marker\": \"X\",\n",
        "            \"label\": \"Measurement\",\n",
        "            \"facecolors\": \"none\",\n",
        "            \"edgecolors\": \"b\",\n",
        "            \"linewidths\": 1.5,\n",
        "        },\n",
        "        \"predictions\": {\n",
        "            \"s\": 50,\n",
        "            \"c\": \"orange\",\n",
        "            \"marker\": \"s\",\n",
        "            \"label\": \"Predictions\",\n",
        "        },\n",
        "        \"kf_estimates\": {\n",
        "            \"s\": 50,\n",
        "            \"c\": \"g\",\n",
        "            \"marker\": \"^\",\n",
        "            \"label\": \"Kalman Estimate\",\n",
        "        },\n",
        "    },\n",
        "    additional_scatter_setting: Dict[str, Union[float, str]] = {\n",
        "        \"true_states\": {},\n",
        "        \"initial_state_guess\": {},\n",
        "        \"scaled_measurements\": {},\n",
        "        \"predictions\": {},\n",
        "        \"kf_estimates\": {},\n",
        "    },\n",
        "    window: Tuple[int, int] = (-1, -1),\n",
        "    xticks_frequency: float = 1,\n",
        "    yticks_frequency: float = 1,\n",
        "    visualize: bool = True) -> plt.figure:\n",
        "    \"\"\"\n",
        "    Generates plot for visualizing the Kalman Filter process\n",
        "\n",
        "    Constants / General:\n",
        "        - |x|: number of states\n",
        "        - |z|: number of measurements\n",
        "        - T: number of time steps\n",
        "        - For `true_states`, `initial_state_guess`, `scaled_measurements`, `predictions`, `kf_estimates`,\n",
        "            - the default option is an empty matrix\n",
        "            - the columns are expected to represent the time steps (i.e., have |T| columns) (except for `initial_state_guess`)\n",
        "            - the first number in the tuple represents the row index corresponding to the x coordinate\n",
        "            - the second number in the tuple represents the row index corresponding to the y coordinate\n",
        "        - For the `base_scatter_setting` and `additional_scatter_setting`, it expected to have keys for:\n",
        "            `true_states`, `initial_state_guess`, `scaled_measurements`, `predictions`, `kf_estimates`\n",
        "\n",
        "    Inputs:\n",
        "        - `true_states`: true state matrix with shape (|x|, T)\n",
        "        - `initial_state_guess`: initial state guess with shape (|x|, 1)\n",
        "        - `scaled_measurements`: measurement matrix with shape (|z|, T)\n",
        "        - `predictions`: prediction matrix with shape (|x|, T)\n",
        "        - `kf_estimates`: kalman filter estimate state matrix with shape (|x|, T)\n",
        "        - `true_states_toggle`: toggle to plot `true_states`\n",
        "        - `initial_state_guess_toggle`: toggle to plot `initial_state_guess`\n",
        "        - `scaled_measurements_toggle`: toggle to plot `scaled_measurements`\n",
        "        - `predictions_toggle`: toggle to plot `predictions`\n",
        "        - `kf_estimates_toggle`: toggle to plot `kf_estimates`\n",
        "        - `figsize`: size of the figure\n",
        "        - `base_scatter_setting`: base settings for the scatterplot; some key parameters are:\n",
        "            - `size`: size of the scatter plot dots\n",
        "            - `color`: color of the scatter plot dots\n",
        "            - `marker`: shape / marker of the scatter plot dots\n",
        "        - `additional_scatter_setting`: argument passthrough to matplotlib scatter function\n",
        "            can override the settings in `base_scatter_setting`\n",
        "            use this input to update `base_scatter_setting`\n",
        "        - `window`: specify time period to zoom in on (inclusive)\n",
        "        - `xticks_frequency`: number of tick marks along the x-axis\n",
        "        - `yticks_frequency`: number of tick marks along the y-axis\n",
        "        - `visualize`: flag to visualize the plot\n",
        "\n",
        "    Output:\n",
        "        A matplotlib plot\n",
        "    \"\"\"\n",
        "    # window bounds (inclusive)\n",
        "    if window == (-1, -1):\n",
        "        window_start, window_end = 0, max(true_states[0].shape[1], initial_state_guess[0].shape[1], scaled_measurements[0].shape[1], predictions[0].shape[1], kf_estimates[0].shape[1])\n",
        "    else:\n",
        "        window_start, window_end = window\n",
        "        window_end = window_end + 1\n",
        "\n",
        "    # true states\n",
        "    if true_states_toggle:\n",
        "        true_states_matrix, true_states_x_index, true_states_y_index = true_states\n",
        "        true_states_x = true_states_matrix[true_states_x_index, :]\n",
        "        true_states_y = true_states_matrix[true_states_y_index, :]\n",
        "    else:\n",
        "        true_states_x = []\n",
        "        true_states_y = []\n",
        "\n",
        "    # initial state guess\n",
        "    if initial_state_guess_toggle:\n",
        "        initial_state_guess_matrix, initial_state_guess_x_index, initial_state_guess_y_index = initial_state_guess\n",
        "        initial_state_guess_x = initial_state_guess_matrix[initial_state_guess_x_index, :]\n",
        "        initial_state_guess_y = initial_state_guess_matrix[initial_state_guess_y_index, :]\n",
        "    else:\n",
        "        initial_state_guess_x = []\n",
        "        initial_state_guess_y = []\n",
        "\n",
        "    # scaled measurements\n",
        "    if scaled_measurements_toggle:\n",
        "        scaled_measurements_matrix, scaled_measurements_x_index, scaled_measurements_y_index = scaled_measurements\n",
        "        scaled_measurements_x = scaled_measurements_matrix[scaled_measurements_x_index, :]\n",
        "        scaled_measurements_y = scaled_measurements_matrix[scaled_measurements_y_index, :]\n",
        "    else:\n",
        "        scaled_measurements_x = []\n",
        "        scaled_measurements_y = []\n",
        "\n",
        "    # predictions\n",
        "    if predictions_toggle:\n",
        "        predictions_matrix, predictions_x_index, predictions_y_index = predictions\n",
        "        predictions_x = predictions_matrix[predictions_x_index, :]\n",
        "        predictions_y = predictions_matrix[predictions_y_index, :]\n",
        "    else:\n",
        "        predictions_x = []\n",
        "        predictions_y = []\n",
        "\n",
        "    # kalman filter estimates\n",
        "    if kf_estimates_toggle:\n",
        "        kf_estimates_matrix, kf_estimates_x_index, kf_estimates_y_index = kf_estimates\n",
        "        kf_estimates_x = kf_estimates_matrix[kf_estimates_x_index, :]\n",
        "        kf_estimates_y = kf_estimates_matrix[kf_estimates_y_index, :]\n",
        "    else:\n",
        "        kf_estimates_x = []\n",
        "        kf_estimates_y = []\n",
        "\n",
        "    # create plot\n",
        "    fig, ax = plt.subplots(1, figsize=figsize)\n",
        "    if true_states_toggle:\n",
        "        true_states_kwargs = base_scatter_setting[\"true_states\"]\n",
        "        true_states_kwargs.update(additional_scatter_setting[\"true_states\"])\n",
        "        ax.scatter(true_states_x[window_start:window_end], true_states_y[window_start:window_end], **true_states_kwargs)\n",
        "\n",
        "        # add special marker for starting position\n",
        "        if window_start <= 1:\n",
        "            start_point_kwargs = {}\n",
        "            start_point_kwargs.update(true_states_kwargs)\n",
        "            start_point_kwargs.update({\n",
        "                \"facecolors\": \"none\",\n",
        "                \"edgecolors\": \"r\",\n",
        "                \"linewidths\": 1.5,\n",
        "                \"label\": \"Start State\",\n",
        "            })\n",
        "            plt.scatter(true_states_x[0], true_states_y[0], **start_point_kwargs)\n",
        "\n",
        "    if initial_state_guess_toggle and window_start <= 1:\n",
        "        initial_state_guess_kwargs = base_scatter_setting[\"initial_state_guess\"]\n",
        "        initial_state_guess_kwargs.update(additional_scatter_setting[\"initial_state_guess\"])\n",
        "        ax.scatter(initial_state_guess_x, initial_state_guess_y, **initial_state_guess_kwargs)\n",
        "    if scaled_measurements_toggle:\n",
        "        scaled_measurements_kwargs = base_scatter_setting[\"scaled_measurements\"]\n",
        "        scaled_measurements_kwargs.update(additional_scatter_setting[\"scaled_measurements\"])\n",
        "        ax.scatter(scaled_measurements_x[window_start:window_end], scaled_measurements_y[window_start:window_end], **scaled_measurements_kwargs)\n",
        "    if predictions_toggle:\n",
        "        predictions_kwargs = base_scatter_setting[\"predictions\"]\n",
        "        predictions_kwargs.update(additional_scatter_setting[\"predictions\"])\n",
        "        ax.scatter(predictions_x[window_start:window_end], predictions_y[window_start:window_end], **predictions_kwargs)\n",
        "    if kf_estimates_toggle:\n",
        "        kf_estimates_kwargs = base_scatter_setting[\"kf_estimates\"]\n",
        "        kf_estimates_kwargs.update(additional_scatter_setting[\"kf_estimates\"])\n",
        "        ax.scatter(kf_estimates_x[window_start:window_end], kf_estimates_y[window_start:window_end], **kf_estimates_kwargs)\n",
        "\n",
        "    # useful values for formatting\n",
        "    if window_start <= 1:\n",
        "        x = list(np.hstack([true_states_x[window_start:window_end], scaled_measurements_x[window_start:window_end], predictions_x[window_start:window_end], kf_estimates_x[window_start:window_end], initial_state_guess_x]))\n",
        "        y = list(np.hstack([true_states_y[window_start:window_end], scaled_measurements_y[window_start:window_end], predictions_y[window_start:window_end], kf_estimates_y[window_start:window_end], initial_state_guess_y]))\n",
        "    else:\n",
        "        x = list(np.hstack([true_states_x[window_start:window_end], scaled_measurements_x[window_start:window_end], predictions_x[window_start:window_end], kf_estimates_x[window_start:window_end]]))\n",
        "        y = list(np.hstack([true_states_y[window_start:window_end], scaled_measurements_y[window_start:window_end], predictions_y[window_start:window_end], kf_estimates_y[window_start:window_end]]))\n",
        "    xmin = np.floor(min(x)) if len(x) > 0 else 0\n",
        "    xmax = np.ceil(max(x)) if len(x) > 0 else 0\n",
        "    ymin = np.floor(min(y)) if len(y) > 0 else 0\n",
        "    ymax = np.ceil(max(y)) if len(y) > 0 else 0\n",
        "\n",
        "    # remove top and right spines\n",
        "    ax.spines['top'].set_visible(False)\n",
        "    ax.spines['right'].set_visible(False)\n",
        "\n",
        "    # create custom major ticks to determine position of tick labels\n",
        "    x_ticks = np.arange(xmin, xmax+xticks_frequency, xticks_frequency)\n",
        "    y_ticks = np.arange(ymin, ymax+yticks_frequency, yticks_frequency)\n",
        "    ax.set_xticks(x_ticks)\n",
        "    ax.set_yticks(y_ticks)\n",
        "\n",
        "    # drew major and minor grid lines\n",
        "    ax.grid(which='both', color='grey', linewidth=1, linestyle='-', alpha=0.2)\n",
        "\n",
        "    # add a legend\n",
        "    ax.legend(bbox_to_anchor=(1.05, 1.0), loc='upper left')\n",
        "\n",
        "    # add title\n",
        "    if window != (-1, -1):\n",
        "        plt.title(rf\"Window $t_{{{window_start}}}$ to $t_{{{window_end - 1}}}$\")\n",
        "\n",
        "    # visualize and return\n",
        "    if visualize:\n",
        "        fig.tight_layout()\n",
        "        fig.show()\n",
        "\n",
        "    return fig\n",
        "\n",
        "\n",
        "### GENERATE TRUE STATE VALUES ###\n",
        "def generate_true_states(\n",
        "    true_initial_state: np.ndarray,\n",
        "    true_transition_matrix: np.ndarray,\n",
        "    T: int,\n",
        "    true_Q: Optional[np.ndarray] = None,\n",
        "    seed: int = 17) -> np.ndarray:\n",
        "    \"\"\"\n",
        "    Generates a sequence of T states\n",
        "\n",
        "    Inputs:\n",
        "        - `true_initial_state`: a column vector representing the initial state variables\n",
        "            has shape of (|x|, 1) where |x| is the number of state variables\n",
        "        - `true_transition_matrix`: a matrix with shape (|x|, |x|) describing how to transition between states\n",
        "        - `T`: number of time steps\n",
        "        - `true_Q`: covariance matrix with shape (|x|, |x|) representing the noise of the system\n",
        "        - `seed`: seed for random number generator\n",
        "\n",
        "    Output:\n",
        "        A matrix of shape (|x|, T) where:\n",
        "            - the rows represent the states\n",
        "            - the columns represent each time step\n",
        "    \"\"\"\n",
        "\n",
        "    # define random generator\n",
        "    rng = np.random.default_rng(seed)\n",
        "\n",
        "    # determine constants\n",
        "    num_of_states = true_initial_state.shape[0]\n",
        "\n",
        "    # define default true_Q matrix as the zero matrix if true_Q is none\n",
        "    if true_Q is None:\n",
        "        true_Q = np.zeros((num_of_states, num_of_states))\n",
        "\n",
        "    # determine the states\n",
        "    true_states = np.zeros((num_of_states, T))\n",
        "    true_states[:, [0]] = true_initial_state\n",
        "    for t in range(1, T):\n",
        "        noise = rng.multivariate_normal(np.zeros(num_of_states), true_Q).reshape(num_of_states, -1)\n",
        "        true_states[:, [t]] = true_transition_matrix @ true_states[:, [t - 1]] + noise\n",
        "\n",
        "    return true_states\n",
        "\n",
        "\n",
        "### GENERATE MEASUREMENT VALUES ###\n",
        "def generate_measurement(\n",
        "    true_states: np.ndarray,\n",
        "    true_R: np.ndarray,\n",
        "    H: np.ndarray,\n",
        "    seed: int = 17) -> np.ndarray:\n",
        "    \"\"\"\n",
        "    Generate measurements around the `true_states` with noise `true_R`, scaled by `H`\n",
        "\n",
        "    Constants / General:\n",
        "        - |x|: number of states\n",
        "        - |z|: number of measurements\n",
        "        - T: number of time steps\n",
        "\n",
        "    Inputs:\n",
        "        - `true_states`: true state matrix with shape (|x|, T)\n",
        "        - `true_R`: true measurement noise with shape (|z|, |z|)\n",
        "        - `H`: measurement function with shape (|z|, |x|)\n",
        "        - `seed`: seed for random number generator\n",
        "\n",
        "    Output:\n",
        "        A matrix of shape (|z|, T) where:\n",
        "            - the rows represent the measurements\n",
        "            - the columns represent each time step\n",
        "    \"\"\"\n",
        "\n",
        "    # define random generator\n",
        "    rng = np.random.default_rng(seed)\n",
        "\n",
        "    # determine constants\n",
        "    num_of_states, T = true_states.shape\n",
        "    num_of_measurements = H.shape[0]\n",
        "\n",
        "    # generate measurements\n",
        "    measurements = np.zeros((num_of_measurements, T))\n",
        "    for t in range(T):\n",
        "        noise = rng.multivariate_normal(np.zeros(num_of_measurements), true_R).reshape(num_of_measurements, -1)\n",
        "        measurements[:, [t]] = H @ true_states[:, [t]] + noise\n",
        "\n",
        "    return measurements\n",
        "\n",
        "\n",
        "### GENERATE KALMAN FILTER ESTIMATES VALUES ###\n",
        "def generate_kf_estimates(\n",
        "    x: np.ndarray,\n",
        "    P: np.ndarray,\n",
        "    F: np.ndarray,\n",
        "    Q: np.ndarray,\n",
        "    H: np.ndarray,\n",
        "    R: np.ndarray,\n",
        "    measurements: np.ndarray) -> Tuple[np.ndarray, np.ndarray]:\n",
        "    \"\"\"\n",
        "    Generate kalman filter estimates\n",
        "\n",
        "    Constants / General:\n",
        "        - |x|: number of states\n",
        "        - |z|: number of measurements\n",
        "        - T: number of time steps\n",
        "\n",
        "    Inputs:\n",
        "        - `x`: initial state vector of shape (|x|, 1)\n",
        "        - `P`: initial state noise matrix of shape (|x|, |x|)\n",
        "        - `F`: state transition function matrix of shape (|x|, |x|)\n",
        "        - `Q`: process noise matrix of shape (|x|, |x|)\n",
        "        - `H`: measurement function with shape (|z|, |x|)\n",
        "        - `R`: measurement noise with shape (|z|, |z|)\n",
        "        - `measurements`: measurement at each time interval with shape (|z|, T)\n",
        "\n",
        "    Output:\n",
        "        A matrix of predictions, the prediction noise, and a matrix of kalman\n",
        "            estimates, both shaped (|x|, T) where:\n",
        "                - the rows represent the states\n",
        "                - the columns represent each time step\n",
        "    \"\"\"\n",
        "\n",
        "    # determine constants\n",
        "    num_of_states = x.shape[0]\n",
        "    num_of_steps = measurements.shape[1]\n",
        "\n",
        "    # generate predictions, prediction noise, and kalman estimates\n",
        "    predictions = np.zeros((num_of_states, num_of_steps))\n",
        "    predictions_noise = np.zeros((num_of_steps, num_of_states, num_of_states))\n",
        "    kf_estimates = np.zeros((num_of_states, num_of_steps))\n",
        "    for t in range(num_of_steps):\n",
        "        # predict step\n",
        "        x_bar = F@x\n",
        "        P_bar = F@P@(F.T) + Q\n",
        "        predictions[:, [t]] = x_bar\n",
        "        predictions_noise[t] = P_bar\n",
        "\n",
        "        # update\n",
        "        z = measurements[:, [t]]\n",
        "        y = z - H@x_bar\n",
        "        S = H@P_bar@(H.T) + R\n",
        "        K = P_bar@(H.T)@(np.linalg.inv(S))\n",
        "        x = x_bar + K@y\n",
        "        P = (np.identity(num_of_states) - K@H)@P_bar\n",
        "\n",
        "        # store estimate\n",
        "        kf_estimates[:, [t]] = x\n",
        "\n",
        "    return predictions, predictions_noise, kf_estimates"
      ],
      "metadata": {
        "id": "tW92zdtRxJll"
      },
      "execution_count": null,
      "outputs": []
    },
    {
      "cell_type": "markdown",
      "source": [
        "### Simulation Implementation"
      ],
      "metadata": {
        "id": "ctOaAwoXyf-5"
      }
    },
    {
      "cell_type": "markdown",
      "source": [
        "This section simulates the Kalman Filter process for the situation described in this tutorial. Feel free to change the numbers, vectors, and matrix values to experiement with Kalman filter, however be careful in changing the shape of vectors and matrices. If you do change the shape, make sure those changes are reflected everywhere (i.e., if the state space increases, you need to update several of the vector and matrices).\n",
        "\n",
        "Additionally, feel free to explore the visualization tool to explore different ways of visualizing the Kalman Filter process."
      ],
      "metadata": {
        "id": "N9g76jSk0Ikh"
      }
    },
    {
      "cell_type": "code",
      "source": [
        "### SIMULATE KALMAN FILTER PROCESS ###\n",
        "\n",
        "# GLOBAL SETTINGS #\n",
        "seed = 17\n",
        "T = 10\n",
        "\n",
        "\n",
        "# TRUE STATE GENERATION #\n",
        "true_x0 = 1\n",
        "true_vx0 = 2\n",
        "true_y0 = 1\n",
        "true_vy0 = 1\n",
        "true_initial_state = np.array([[true_x0, true_vx0, true_y0, true_vy0]]).T\n",
        "true_transition_matrix = np.array([\n",
        "        [1, 1, 0, 0],\n",
        "        [0, 1, 0, 0],\n",
        "        [0, 0, 1, 1],\n",
        "        [0, 0, 0, 1],\n",
        "    ])\n",
        "true_Q = 0.02 * np.array([\n",
        "    [1, 0.25, 0.1, 0.05],\n",
        "    [0.25, 0.1, 0.05, 0.05],\n",
        "    [0.1, 0.05, 1, 0.25],\n",
        "    [0.05, 0.05, 0.25, 0.1],\n",
        "])\n",
        "true_states = generate_true_states(\n",
        "    true_initial_state = true_initial_state,\n",
        "    true_transition_matrix = true_transition_matrix,\n",
        "    true_Q = true_Q,\n",
        "    T = T, seed = seed)\n",
        "\n",
        "\n",
        "# MEASUREMENT GENERATION #\n",
        "true_R = np.array([\n",
        "    [2, 0],\n",
        "    [0, 2]\n",
        "])\n",
        "H = np.array([\n",
        "    [3.3, 0, 0, 0],\n",
        "    [0, 0, 3.3, 0]\n",
        "])\n",
        "measurements = generate_measurement(\n",
        "    true_states = true_states,\n",
        "    true_R = true_R,\n",
        "    H = H, seed = seed)\n",
        "\n",
        "\n",
        "# KALMAN FILTER ESTIMATE #\n",
        "delta_t = 1\n",
        "# initial state vector estimate / guess\n",
        "x = np.array([[0,0,0,0]]).T\n",
        "P = np.array([\n",
        "    [20, 0, 0, 0],\n",
        "    [0, 20, 0, 0],\n",
        "    [0, 0, 20, 0],\n",
        "    [0, 0, 0, 20],\n",
        "])\n",
        "\n",
        "# transition function\n",
        "F = np.array([\n",
        "    [1, delta_t, 0, 0],\n",
        "    [0, 1, 0, 0],\n",
        "    [0, 0, 1, delta_t],\n",
        "    [0, 0, 0, 1],\n",
        "])\n",
        "\n",
        "# process noise\n",
        "var_q = 0.005\n",
        "Q = var_q * np.array([\n",
        "    [0, 1, 0, 0],\n",
        "    [1, 1, 0, 0],\n",
        "    [0, 0, 0, 1],\n",
        "    [0, 0, 1, 1],\n",
        "])\n",
        "\n",
        "# measurement funxtion\n",
        "H = np.array([\n",
        "    [3.3, 0, 0, 0],\n",
        "    [0, 0, 3.3, 0]\n",
        "])\n",
        "\n",
        "# measurement noise\n",
        "R = np.array([\n",
        "    [2, 0],\n",
        "    [0, 2]\n",
        "])\n",
        "\n",
        "predictions, predictions_noise, kf_estimates = generate_kf_estimates(x, P, F, Q, H, R, measurements)\n",
        "\n",
        "# VISUALIZATION #\n",
        "scaled_measurements = measurements / 3.3\n",
        "kalman_visualization(true_states = (true_states, 0, 2),\n",
        "                     scaled_measurements = (scaled_measurements, 0, 1),\n",
        "                     predictions = (predictions, 0, 2),\n",
        "                     kf_estimates = (kf_estimates, 0, 2),\n",
        "                     initial_state_guess = (x, 0, 2),\n",
        "                     visualize=False,\n",
        "                     true_states_toggle = True,\n",
        "                     scaled_measurements_toggle = True,\n",
        "                     kf_estimates_toggle = True,\n",
        "                     initial_state_guess_toggle = True,\n",
        "                     xticks_frequency=1, yticks_frequency=1);"
      ],
      "metadata": {
        "colab": {
          "base_uri": "https://localhost:8080/",
          "height": 371
        },
        "id": "RgFd1T0pxJi4",
        "outputId": "b8c7160f-b8fa-41eb-8e55-1fa401c6e1b5"
      },
      "execution_count": null,
      "outputs": [
        {
          "output_type": "display_data",
          "data": {
            "text/plain": [
              "<Figure size 800x400 with 1 Axes>"
            ],
            "image/png": "[encoded data removed]"
          },
          "metadata": {}
        }
      ]
    },
    {
      "cell_type": "markdown",
      "source": [
        "# Kalman Filter Evaluation"
      ],
      "metadata": {
        "id": "Z011xIQ39Wfo"
      }
    },
    {
      "cell_type": "markdown",
      "source": [
        "We may have to iterate on the Kalman Filter (i.e., try different designs and matrix values). To compare across Kalman Filter implementations, we need metrics to define how well our Kalman Filter is working. In a simulated setting, where the true value is known, we can use the Normalized Estimated Error Squared."
      ],
      "metadata": {
        "id": "yQ1DguFGESpm"
      }
    },
    {
      "cell_type": "markdown",
      "source": [
        "## Normalized Estimated Error Squared"
      ],
      "metadata": {
        "id": "ISmUMaP89eYU"
      }
    },
    {
      "cell_type": "markdown",
      "source": [
        "In contexts were we know the true values for state, such as in a simulation setting, we can use the normalized estimated error squared (NEES) as a metric to evaluate the model at a particular time step. The NEES, $𝜀_t$, is defined as:\n",
        "\n",
        "$$\n",
        "𝜀_t = (\\mathbf{x}_t - \\mathbf{\\hat{x}}_t)^T\\mathbf{P}^{-1}_t(\\mathbf{x}_t - \\mathbf{\\hat{x}}_t)\n",
        "$$\n",
        "\n",
        "where:\n",
        "- $\\mathbf{x}_t$: the true state values at time $t$\n",
        "- $\\mathbf{\\hat{x}}_t$: the estimated state values from the Kalman Filter at time $t$\n",
        "- $\\mathbf{\\bar{P}}_t$: the state / prediction noise from the Kalman Filter at time $t$\n"
      ],
      "metadata": {
        "id": "0dMSa4QI9l6O"
      }
    }
  ]
}