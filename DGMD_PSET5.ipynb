{
 "cells": [
  {
   "cell_type": "markdown",
   "metadata": {
    "id": "MQExIzvDKUyI"
   },
   "source": [
    "# Problem Set 5 (85 pts)"
   ]
  },
  {
   "cell_type": "markdown",
   "metadata": {
    "id": "3s2VY-aLKcDr"
   },
   "source": [
    "In this problem set, you'll explore topics in Computer Vision. In particular, you'll work the [Canny Edge Detection algorithm](https://ieeexplore.ieee.org/document/4767851), a foundation computation algorithm for image processing."
   ]
  },
  {
   "cell_type": "code",
   "execution_count": 1,
   "metadata": {
    "id": "tApNkVnXLiPw"
   },
   "outputs": [],
   "source": [
    "### DO NOT CHANGE ###\n",
    "# importing the libraries (do not remove or add libraries)\n",
    "from typing import List, Set, Dict, Tuple, Optional\n",
    "import numpy as np"
   ]
  },
  {
   "cell_type": "markdown",
   "metadata": {
    "id": "WL393qGfLZCR"
   },
   "source": [
    "## Background (0 pts)"
   ]
  },
  {
   "cell_type": "markdown",
   "metadata": {
    "id": "ZggqvuWiAPJ1"
   },
   "source": [
    "In this problem set, you will implement parts of the Canny Edge Detection algorithm from scratch using the NumPy library. Your Canny Edge Detector will take a *grayscale* image and return the image with its edges detected (i.e., apply the canny edge detection algorithm on the image).\n",
    "\n",
    "Note: the reason for the emphasis on *grayscale* is that the original Canny Edge detection is defined for grayscale images. There is research on expanding to color images, such as this paper: [An improved Canny edge detection algorithm for color image](https://ieeexplore.ieee.org/document/6301061)"
   ]
  },
  {
   "cell_type": "markdown",
   "metadata": {
    "id": "Xvra8ddWApAn"
   },
   "source": [
    "There are various versions and nuances on the Canny Edge Detection algorithm, so we'll provide some more, explicit details on the mechanics of the algorithm.\n",
    "\n",
    "At a high level, the steps of the Canny Edge Detection algorithm are:\n",
    "\n",
    "1.   Reduce the noise using a Gaussian Kernel / Convolution (pre-filter on the image)\n",
    "2.   Compute the image gradients (use a gradient approximation operator / kernel / filter)\n",
    "3.   Apply Non-Maximum Suppression (NMS) which filters out noise around the edges / keeps the maxima points\n",
    "4.   Apply 2-stage thresholding to remove disconnected weak edges and connect strong edges with adjacent weak edges (hysteresis)\n",
    "\n",
    "#### Step 1: Noise Reduction with the Gaussian Kernel\n",
    "The gaussian kernel is defined by this function:\n",
    "\n",
    "\\begin{align}\n",
    "G_\\sigma = \\frac{1}{2\\pi\\sigma^2}e^{-\\frac{x^2+y^2}{2\\sigma^2}}\n",
    "\\end{align}\n",
    "\n",
    "The $\\sigma$ parameter is the strength of the Gaussian blur. Additionally, the Gaussian kernel is defined by its size $n$ which dictate it's dimension (the bigger the size, the stronger the Gaussian kernel will be). The value of $n$ is an odd number and indicates that the Gaussian kernel will be size $n \\times n$.\n",
    "\n",
    "After we have our Gaussian kernel, we convolve it with the image. To perserve the original dimensions of the image, we should use padding at the boundaries / edges. To avoid our Canny Edge Detection algorithm from picking up false edges at the boundaries of the image, we will extend the image by using pixels at the image boundary, meaning that the extra pixels we pad to the image will take the value of the pixels from the nearest boundary. For pixels padded to the corner, it will take the value of the nearest corner pixel. By padding our image in this fashion, we avoid creating false spikes in our image pixel data (e.g., consider how zero padding might lead to false edges at the boundary of the image).\n",
    "\n",
    "For your implementation, $\\sigma$ and $n$ will be two parameters (there will be called `s` and `n` in the function signatures, respectively).\n",
    "\n",
    "#### Step 2: Compute the Image Gradients\n",
    "We need gradients of the image to see where edges are because edges are where pixel values rapidly change value (so their rate of change is high). Unfortunately, we can't mathematically define exact gradients for discrete values such as pixel values. However, we can approximate them. For images, this can be done by using filters / operators such as Sobel, Prewitt, and/or Roberts. These filters / operators define kernels to calculate gradients in the $x$ and $y$ directions - with this information, the true gradient magnitude and direction can be determined.\n",
    "\n",
    "It should also be noted that there are different variants of these filters, such as different sizes (e.g., $3 \\times 3$ Sobel vs $5 \\times 5$ Sobel, etc.). For your implementation, you'll work with these variants of the operators.\n",
    "\n",
    "For Sobel,\n",
    "\n",
    "$$\n",
    "G_x = \\begin{bmatrix}\n",
    "    1 & 0 & -1 \\\\\n",
    "    2 & 0 & -2 \\\\\n",
    "    1 & 0 & -1\n",
    "\\end{bmatrix},\n",
    "G_y = \\begin{bmatrix}\n",
    "    1 & 2 & 1 \\\\\n",
    "    0 & 0 & 0 \\\\\n",
    "    -1 & -2 & -1\n",
    "\\end{bmatrix}\n",
    "$$\n",
    "\n",
    "For Prewitt,\n",
    "\n",
    "$$\n",
    "G_x = \\begin{bmatrix}\n",
    "    1 & 0 & -1 \\\\\n",
    "    1 & 0 & -1 \\\\\n",
    "    1 & 0 & -1\n",
    "\\end{bmatrix},\n",
    "G_y = \\begin{bmatrix}\n",
    "    1 & 1 & 1 \\\\\n",
    "    0 & 0 & 0 \\\\\n",
    "    -1 & -1 & -1\n",
    "\\end{bmatrix}\n",
    "$$\n",
    "\n",
    "For Roberts,\n",
    "\n",
    "$$\n",
    "G_x = \\begin{bmatrix}\n",
    "    1 & 0 \\\\\n",
    "    0 & -1\n",
    "\\end{bmatrix},\n",
    "G_y = \\begin{bmatrix}\n",
    "    0 & 1 \\\\\n",
    "    -1 & 0\n",
    "\\end{bmatrix}\n",
    "$$\n",
    "\n",
    "Where $G_x$ is the matrix to approximate gradients in the $x$ direction, and $G_y$ is the matrix to approximate gradients in the $y$ direction. Similar to the Gaussian kernel from step 1, we convolve $G_x$ and $G_y$ with the image. To perserve the original dimensions of the image, we should use padding at the boundaries / edges. We are left with $I_x$ which is the image gradient along the X direction and $I_y$ which is the image gradient along the Y direction. To find the true gradient magnitude and direction, we can use basic trignometry and arrive at:\n",
    "\n",
    "\\begin{align}\n",
    "|\\nabla I| &= \\sqrt{I_x^2+I_y^2} \\\\\n",
    "\\Theta_{\\nabla I} &= \\text{atan2}(I_y, I_x)\n",
    "\\end{align}\n",
    "\n",
    "The first equation is for the magnitude of the gradient and the second equation is for the angle that the gradient is pointing in.\n",
    "\n",
    "For your implementation, `gradient_kernel` will be a parameter. It will be a string flag that will equal `sobel`, `prewitt`, or `roberts` indicating which gradient approximation kernel should be used (i.e., if `gradient_kernel = sobel`, use the sobel operator defined above for gradient calculations).\n",
    "\n",
    "#### Step 3: Non-Maximum Suppression (NMS) for Image Gradients\n",
    "Non-Maximum Suppression (NMS) is a crucial step where we filter away all the noisy gradient values and find the places where the gradients truly represent edges. At a high level, NMS looks along the direction that each pixel's gradient points to, and sees if the point has the maximal gradient value along that direction amongst its neighbors (i.e., nearby pixels). If it is maximal, it stays, otherwise it is suppressed (i.e., zero-ed out).\n",
    "\n",
    "When the gradient points to a neighboring pixel, such as at a $45°$ or $90°$ angle which represents pointing to it's north-east pixel neighbor and it's east pixel neighbor, respectively, it's very clear to which gradient values should be compared. For example, if the gradient points at a $45°$ angle, we would compare the gradient values along that direction, meaning we'd compare gradient values with the north-east pixel and south-west pixel, as those neigboring pixels are along the direction of the gradient. However, when the gradient points in a direction that is between pixels, such as $85°$, then we don't have a direct pixel neighbor to compare with - to resolve this we will either approximate, which means we use the nearest pixel neighbor in that direction, or interpolate what the gradient value would be in that direction.\n",
    "\n",
    "For this implementation, we'll stick with approximating with the nearest neighbor in the direction of the gradient. From the earlier step, we stated that the angle of the gradient can be determined by the $\\text{atan2}$ function. This function returns values between $[-180°, 180°]$.\n",
    "\n",
    "To make the implementation easier, we can exploit the symmetry with angles. We can relate a negative gradient angle with a positive gradient angle. For example, if the gradient angle was $-135°$, it is along the same axis as a gradient with angle $45°$. Thus, to convert our negative gradients to their corresponding positive gradient, we add $180°$. Thus, our new domain after this transformation is $[0°, 180°]$. Note: although this transformation flips the direction for gradients with negative angles, it doesn't really affect the Canny Edge Detection algorithm because the algorithm compares gradient values along the direction axis (so it compares both the positive and negative direction).\n",
    "\n",
    "After the above transformation, we'll take those angle values and round it to a value so that the gradient points in a direction of neighboring pixel:\n",
    "- Gradient angles in $[0°, 22.5°)$ or $[157.5°, 180°]$ will map to $0°$ meaning the gradient points along the east and west direction; thus the gradient value of the pixel should be compared with its east and west neighbor; if it's greater than it's east and west neighbor, it stays, otherwise it's suppressed and it's gradient value goes to zero.\n",
    "- Gradient angles in $[22.5°, 67.5°)$ will map to $45°$ meaning the gradient points along the north-east and south-west direction; thus the gradient value of the pixel should be compared with its north-east and south-west neighbor; if it's greater than it's north-east and south-west neighbor, it stays, otherwise it's suppressed and it's gradient value goes to zero.\n",
    "- Gradient angles in $[67.5°, 112.5°)$ will map to $90°$ meaning the gradient points along the north and south direction; thus the gradient value of the pixel should be compared with its north and south neighbor; if it's greater than it's north and south neighbor, it stays, otherwise it's suppressed and it's gradient value goes to zero.\n",
    "- Gradient angles in $[112.5°, 157.5°)$ will map to $135°$ meaning the gradient points along the north-west and south-east direction; thus the gradient value of the pixel should be compared with its north-west and south-east neighbor; if it's greater than it's north-west and south-east neighbor, it stays, otherwise it's suppressed and it's gradient value goes to zero.\n",
    "\n",
    "Note: in this implementation, when we think about a pixel's neighbors, we are look at the $3 \\times 3$ window about the pixel (where the pixel is in the center). However, we can also implement this by looking at a bigger window of neighbors such as a $5\\times5$ window. For this implementation. we'll only stick with the $3 \\times 3$ window.\n",
    "\n",
    "After this step, a bunch of gradients will go to zero and we'll be left with only gradients that were maximal (in their $3 \\times 3$ neighborhood of pixels).\n",
    "\n",
    "#### Step 4: Two-Stage Hysteresis\n",
    "The remaining gradients will still be noisy. To handle that noise, we'll apply two stage hysteresis / filtering. We'll define a `high_threshold` and `low_threshold` where `high_threshold` > `low_threshold`. If a pixel value's gradient is above `high_threshold`, it's a strong edge and is kept. If a pixel value's gradient is less than the `low_threshold`, then it's suppressed (goes to zero). If a pixel value's is between the `low_threshold` and `high_threshold` inclusive, then it's considered a weak edge. A weak edge will only remain if one of it's adjacent neigbors (for this implementation, it is the $3 \\times 3$ window centered on the pixel) is marked as a strong edge.\n",
    "\n",
    "Since the actual gradient values are arbitary (in the sense that the range of gradient values will be different for different images and gradient approximation kernel), we'll standardize them at this point so that the `high_threshold` and `low_threshold` have a standard range for any image or gradient approximation kernel. Scale the gradient value such that all the gradient values are now numbers between 0 to 1 (where the smallest gradient value mapped to 0 and the largest gradient value mapped to 1). This can be acheived by taking each gradient value, subtracting the smallest gradient value and then dividing by the difference between largest and smallest gradient value (this effectively shifts the gradient range to start at zero and scales it to be between 0 and 1). With this, the `high_threshold` and `low_threshold` parameters will be float numbers between `0` and `1`.\n",
    "\n",
    "The pixel values that correspond to an edge will stay and everything else will go to zero. In the end, we'll be left with a binary map of which pixels correspond to edges.\n",
    "\n",
    "For your implementation, `high_threshold` and `low_threshold` will be parameters.\n",
    "\n",
    "#### Results and Other Notes\n",
    "The return value should be a matrix that is the original dimension as the input image `img`. Furthermore, the matrix should be matrix of `0` and `1` where `0` represents no edge and `1` represents an edge.\n",
    "\n",
    "Some notes:\n",
    "- Be wary of edges / corners - you'll need to have special logic / exceptions to handle them\n",
    "- Pay attention to the shape of the matrices and units (i.e., degrees vs radians)\n",
    "- For numeric stability, a common pre-processing step in computer vision is to normalize our images, such that values fall between 0 and 1. Since pixel values can take on values between 0 to 255 inclusive, a simple way to normalize images is to rescale the pixel values by a factor of $\\frac{1}{255}$"
   ]
  },
  {
   "cell_type": "markdown",
   "metadata": {
    "id": "XJTa_NDOPTq1"
   },
   "source": [
    "## Utility Functions (25 pts)"
   ]
  },
  {
   "cell_type": "markdown",
   "metadata": {
    "id": "tMvgT6R5Pfjv"
   },
   "source": [
    "In this section, you'll create several utility (helper) functions that maybe useful as you work through implementing the Canny Edge Detection algorithm."
   ]
  },
  {
   "cell_type": "markdown",
   "metadata": {
    "id": "Qyrb5elpjcPZ"
   },
   "source": [
    "### Gaussian Function (5 pts)"
   ]
  },
  {
   "cell_type": "markdown",
   "metadata": {
    "id": "YoU1JRAYG6z5"
   },
   "source": [
    "`gaussian_function` (5 pts). Implement the gaussian function used for creating the gaussian blur kernel where `s` is the $\\sigma$, `x` is $x$, and `y` is $y$. Assume $\\sigma > 0$. For reference, here's the gaussian function that is used:\n",
    "\n",
    "\\begin{align}\n",
    "G_\\sigma(x, y) = \\frac{1}{2\\pi\\sigma^2}e^{-\\frac{x^2+y^2}{2\\sigma^2}}\n",
    "\\end{align}"
   ]
  },
  {
   "cell_type": "markdown",
   "metadata": {
    "id": "Wgn5m6jH3s8H"
   },
   "source": [
    "#### Examples"
   ]
  },
  {
   "cell_type": "markdown",
   "metadata": {
    "id": "-2EEYTPe3u9F"
   },
   "source": [
    "##### Example 1"
   ]
  },
  {
   "cell_type": "markdown",
   "metadata": {
    "id": "4G7iHk843xG5"
   },
   "source": [
    "```python\n",
    "s = 1\n",
    "x = 0\n",
    "y = 0\n",
    "\n",
    "gaussian_function(s, x, y) = 0.15915494309189535\n",
    "```\n",
    "**Explanation**: Applying the formula, we have $G_1(0, 0) = \\frac{1}{2\\pi(1^2)}e^{-\\frac{(0^2)+(0^2)}{2(1^2)}} = 0.15915494309189535$"
   ]
  },
  {
   "cell_type": "markdown",
   "metadata": {
    "id": "QMVTUdCt4Myf"
   },
   "source": [
    "##### Example 2\n",
    "\n"
   ]
  },
  {
   "cell_type": "markdown",
   "metadata": {
    "id": "juhcm-Kg7bSr"
   },
   "source": [
    "```python\n",
    "s = 2\n",
    "x = 1\n",
    "y = 0\n",
    "\n",
    "gaussian_function(s, x, y) = 0.035113436077406295\n",
    "```\n",
    "**Explanation**: Applying the formula, we have $G_2(1, 0) = \\frac{1}{2\\pi(2^2)}e^{-\\frac{(1^2)+(0^2)}{2(2^2)}} = 0.035113436077406295$"
   ]
  },
  {
   "cell_type": "markdown",
   "metadata": {
    "id": "Yub30TsZ4Q1X"
   },
   "source": [
    "#### Implementation"
   ]
  },
  {
   "cell_type": "code",
   "execution_count": 2,
   "metadata": {
    "id": "AyCqq9Y2E3HY"
   },
   "outputs": [],
   "source": [
    "def gaussian_function(s: float, x: int, y: int) -> float:\n",
    "    return (1/(2*np.pi*(s**2))*np.exp(-(x**2+y**2)/(2*s**2)))"
   ]
  },
  {
   "cell_type": "markdown",
   "metadata": {
    "id": "rcQshd7ejk2I"
   },
   "source": [
    "### Add One Layer Continue Padding (5 pts)"
   ]
  },
  {
   "cell_type": "markdown",
   "metadata": {
    "id": "3_ayCTbMR_SE"
   },
   "source": [
    "`add_one_layer_continue_padding` (5 pts). Given a grayscale image matrix `img`, with height `H` and width `W` (i.e., shape `(H, W)`), extend the image with 1 layer of padding around the image. Extend the image by using pixels at the image boundary, meaning that the extra pixels we pad to the image will take the value of the pixels from the nearest boundary. For pixels padded to the corner, it will take the value of the nearest corner pixels."
   ]
  },
  {
   "cell_type": "markdown",
   "metadata": {
    "id": "R0R1m1Sa79YP"
   },
   "source": [
    "#### Examples"
   ]
  },
  {
   "cell_type": "markdown",
   "metadata": {
    "id": "ELNK4iWh7_rw"
   },
   "source": [
    "##### Example 1"
   ]
  },
  {
   "cell_type": "markdown",
   "metadata": {
    "id": "n96dz5Gu8Bv-"
   },
   "source": [
    "```python\n",
    "img = [\n",
    "    [1, 2, 3],\n",
    "    [4, 5, 6],\n",
    "    [7, 8, 9]\n",
    "]\n",
    "\n",
    "add_one_layer_continue_padding(img) = [\n",
    "    [1, 1, 2, 3, 3],\n",
    "    [1, 1, 2, 3, 3],\n",
    "    [4, 4, 5, 6, 6],\n",
    "    [7, 7, 8, 9, 9],\n",
    "    [7, 7, 8, 9, 9]\n",
    "]\n",
    "```\n",
    "\n",
    "**Explanation**: Extend the boundaries of the image with pixel value closest to the boundaries. For corner pixels, use the nearest corner pixel."
   ]
  },
  {
   "cell_type": "markdown",
   "metadata": {
    "id": "ttgQUU208XPX"
   },
   "source": [
    "##### Example 2"
   ]
  },
  {
   "cell_type": "markdown",
   "metadata": {
    "id": "uy4-t6S08ZU6"
   },
   "source": [
    "```python\n",
    "img = [\n",
    "    [1, 2, 3, 4],\n",
    "    [5, 6, 7, 8],\n",
    "    [9, 10, 11, 12],\n",
    "]\n",
    "\n",
    "add_one_layer_continue_padding(img) = [\n",
    "    [1, 1, 2, 3, 4, 4],\n",
    "    [1, 1, 2, 3, 4, 4],\n",
    "    [5, 5, 6, 7, 8, 8],\n",
    "    [9, 9, 10, 11, 12, 12],\n",
    "    [9, 9, 10, 11, 12, 12],\n",
    "]\n",
    "```\n",
    "\n",
    "**Explanation**: Extend the boundaries of the image with pixel value closest to the boundaries. For corner pixels, use the nearest corner pixel."
   ]
  },
  {
   "cell_type": "markdown",
   "metadata": {
    "id": "sCfXz4_Z77t5"
   },
   "source": [
    "#### Implementation"
   ]
  },
  {
   "cell_type": "code",
   "execution_count": 3,
   "metadata": {
    "id": "Us7oMVs_S0GQ"
   },
   "outputs": [],
   "source": [
    "def add_one_layer_continue_padding(img: np.ndarray) -> np.ndarray:\n",
    "    return np.pad(img, 1, mode='edge')"
   ]
  },
  {
   "cell_type": "markdown",
   "metadata": {
    "id": "IJl7EMZEjqYf"
   },
   "source": [
    "### Convolve (5 pts)"
   ]
  },
  {
   "cell_type": "markdown",
   "metadata": {
    "id": "3X7JVaTLUsAc"
   },
   "source": [
    "`convolve` (5 pts). Given a grayscale image matrix `img`, with height `H` and width `W` (i.e., shape `(H, W)`), and a `kernel`, apply convolution on the image `img` with the `kernel`. Ensure that the resulting image is the same height `H` and width `W` by using the padding scheme described for `add_one_layer_continue_padding`. Note: depending on the `kernel` size, additional layers of padding might be required. Furthermore, assume the shape of the `kernel` is $n \\times n$ where $n$ is an odd, positive number (i.e. square matrix with odd-numbered dimensions)."
   ]
  },
  {
   "cell_type": "markdown",
   "metadata": {
    "id": "mINRCYyj828B"
   },
   "source": [
    "#### Examples"
   ]
  },
  {
   "cell_type": "markdown",
   "metadata": {
    "id": "IF7LEWzi9Xpz"
   },
   "source": [
    "##### Example 1"
   ]
  },
  {
   "cell_type": "markdown",
   "metadata": {
    "id": "vlNLk9wt9Wz7"
   },
   "source": [
    "```python\n",
    "img = [\n",
    "    [1, 2, 3],\n",
    "    [4, 5, 6],\n",
    "    [7, 8, 9]\n",
    "]\n",
    "kernel = [\n",
    "    [4, 0, -3],\n",
    "    [-3, 2, 2],\n",
    "    [-2, 1, 1]\n",
    "]\n",
    "\n",
    "convolve(img, kernel) = [\n",
    "    [ 2,  5,  7],\n",
    "    [ 5,  8, 10],\n",
    "    [11, 14, 16]\n",
    "]\n",
    "```\n",
    "\n",
    "**Explanation**: applying the kernel at each pixel in the `img` gives us the final result. For the center pixel, no padded values are needed since the `kernel` is $3 \\times 3$. For the corner / boundary pixels, padded values were used (need one layer of padding)."
   ]
  },
  {
   "cell_type": "markdown",
   "metadata": {
    "id": "_bR26tSM-T4o"
   },
   "source": [
    "##### Example 2"
   ]
  },
  {
   "cell_type": "markdown",
   "metadata": {
    "id": "hMwNjzp2-WBT"
   },
   "source": [
    "```python\n",
    "img = [\n",
    "    [1, 2, 3],\n",
    "    [4, 5, 6],\n",
    "    [7, 8, 9]\n",
    "]\n",
    "kernel = [\n",
    "    [4, 0, -3, 2, 3],\n",
    "    [-3, 2, 2, 1, 0],\n",
    "    [-2, 1, 1, 2, -8],\n",
    "    [-1, 3, -6, 7, 1],\n",
    "    [2, 1, 0, 0, 1],\n",
    "]\n",
    "\n",
    "convolve(img, kernel) = [\n",
    "    [52, 58, 59],\n",
    "    [46, 52, 53],\n",
    "    [34, 40, 41],\n",
    "]\n",
    "```\n",
    "\n",
    "**Explanation**: applying the kernel at each pixel in the `img` gives us the final result. For the center pixel, padded values are needed since the `kernel` is $5 \\times 5$, so one layer of padded values were used. For the corner / boundary pixels, padded values were used (need two layers of padding)."
   ]
  },
  {
   "cell_type": "markdown",
   "metadata": {
    "id": "_5AjDGkk839p"
   },
   "source": [
    "#### Implementation"
   ]
  },
  {
   "cell_type": "code",
   "execution_count": 4,
   "metadata": {
    "id": "nfk2LD1zVD5r"
   },
   "outputs": [],
   "source": [
    "def convolve(img: np.ndarray, kernel: np.ndarray) -> np.ndarray:\n",
    "    n, m = kernel.shape  # Kernel shape\n",
    "\n",
    "    assert n == m, \"Kernel must be a square matrix!\"\n",
    "    assert n % 2 == 1, \"Kernel size must be an odd number!\"\n",
    "    \n",
    "    pad_size = int((n-1)/2)\n",
    "    padded_img = np.pad(img, pad_size, mode='edge')\n",
    "    \n",
    "    # Initialize the output image\n",
    "    H, W = img.shape\n",
    "    output_img = np.zeros((H, W), dtype='float')\n",
    "    \n",
    "    #flipped_kernel = np.flip(np.flip(kernel, 0), 1)\n",
    "    for i in range(H):\n",
    "        for j in range(W):\n",
    "            output_img[i, j] = np.sum(padded_img[i:i+n, j:j+n] * kernel)\n",
    "    return output_img"
   ]
  },
  {
   "cell_type": "markdown",
   "metadata": {
    "id": "fK0ONUZ8jtBu"
   },
   "source": [
    "### Normalize Image (5 pts)"
   ]
  },
  {
   "cell_type": "markdown",
   "metadata": {
    "id": "wN9kKoGTopl0"
   },
   "source": [
    "`normalize_image` (5 pts). Given a grayscale image matrix `img`, with height `H` and width `W` (i.e., shape `(H, W)`), normalize the pixel values. The resulting image will take values between 0 and 1. The way to normalize an image is to scale each pixel in the image by $\\frac{1}{255}$."
   ]
  },
  {
   "cell_type": "markdown",
   "metadata": {
    "id": "58jHt30H-5EY"
   },
   "source": [
    "#### Examples"
   ]
  },
  {
   "cell_type": "markdown",
   "metadata": {
    "id": "2owCBxto-6l7"
   },
   "source": [
    "##### Example 1"
   ]
  },
  {
   "cell_type": "markdown",
   "metadata": {
    "id": "qMjXKzxm_D4y"
   },
   "source": [
    "```python\n",
    "img = [\n",
    "    [1, 2, 3],\n",
    "    [4, 5, 6],\n",
    "    [7, 8, 9],\n",
    "]\n",
    "\n",
    "normalize_image(img) = [\n",
    "    [0.00392156862745098, 0.00784313725490196, 0.011764705882352941],\n",
    "    [0.01568627450980392, 0.0196078431372549, 0.023529411764705882],\n",
    "    [0.027450980392156862, 0.03137254901960784, 0.03529411764705882],\n",
    "]\n",
    "```\n",
    "\n",
    "**Explanation**: normalize the `img` matrix by dividing each value by 255."
   ]
  },
  {
   "cell_type": "markdown",
   "metadata": {
    "id": "-hxTSHtf-8w-"
   },
   "source": [
    "##### Example 2"
   ]
  },
  {
   "cell_type": "markdown",
   "metadata": {
    "id": "FPkuCpmg_YN3"
   },
   "source": [
    "```python\n",
    "img = [\n",
    "    [1, 2, 3, 4],\n",
    "    [5, 6, 7, 8],\n",
    "    [9, 10, 11, 12],\n",
    "]\n",
    "\n",
    "normalize_image(img) = [\n",
    "    [0.00392156862745098, 0.00784313725490196, 0.011764705882352941, 0.01568627450980392],\n",
    "    [0.0196078431372549, 0.023529411764705882, 0.027450980392156862, 0.03137254901960784],\n",
    "    [0.03529411764705882, 0.0392156862745098, 0.043137254901960784, 0.047058823529411764],\n",
    "]\n",
    "```\n",
    "\n",
    "**Explanation**: normalize the `img` matrix by dividing each value by 255."
   ]
  },
  {
   "cell_type": "markdown",
   "metadata": {
    "id": "WUDiVSdH-3Bg"
   },
   "source": [
    "#### Implementation"
   ]
  },
  {
   "cell_type": "code",
   "execution_count": 5,
   "metadata": {
    "id": "en3xg-Cw4Ujq"
   },
   "outputs": [],
   "source": [
    "def normalize_image(img: np.ndarray) -> np.ndarray:\n",
    "    return img/255"
   ]
  },
  {
   "cell_type": "markdown",
   "metadata": {
    "id": "9MRGHwsBjv5h"
   },
   "source": [
    "### Rescale Matrix (5 pts)"
   ]
  },
  {
   "cell_type": "markdown",
   "metadata": {
    "id": "iccNXJ-jHfRu"
   },
   "source": [
    "`rescale_matrix` (5 pts). Given a 2D matrix, `M`, with height `H` and width `W` (i.e., shape `(H, W)`), rescale the values such that they fall between 0 and 1 (where the smallest gradient value mapped to 0 and the largest gradient value mapped to 1). This can be acheived by taking each gradient value, subtracting the smallest gradient value and then dividing by the difference between largest and smallest gradient value (this effectively shifts the gradient range to start at zero and scales it to be between 0 and 1)."
   ]
  },
  {
   "cell_type": "markdown",
   "metadata": {
    "id": "ibDJ0x0A_kkm"
   },
   "source": [
    "#### Examples"
   ]
  },
  {
   "cell_type": "markdown",
   "metadata": {
    "id": "TZfvNiPUrc8H"
   },
   "source": [
    "##### Example 1"
   ]
  },
  {
   "cell_type": "markdown",
   "metadata": {
    "id": "Y2y2Fb5JrlLZ"
   },
   "source": [
    "```python\n",
    "M = [\n",
    "    [1, 2, 3],\n",
    "    [4, 5, 6],\n",
    "    [7, 8, 9],\n",
    "]\n",
    "\n",
    "rescale_matrix(M) = [\n",
    "    [0.0, 0.125, 0.25],\n",
    "    [0.375, 0.5, 0.625],\n",
    "    [0.75, 0.875, 1.0],\n",
    "]\n",
    "```\n",
    "\n",
    "**Explanation**: The smallest value in `M` is 1 and the largest value in `M` is 9. The difference between the largest and smallest value is 8. To get our rescaled matrix, we subtract the smallest value, 1, from every cell and then divide by difference, 8."
   ]
  },
  {
   "cell_type": "markdown",
   "metadata": {
    "id": "tuKltGQ_rjNx"
   },
   "source": [
    "##### Example 2"
   ]
  },
  {
   "cell_type": "markdown",
   "metadata": {
    "id": "mnb5tQbKrprF"
   },
   "source": [
    "```python\n",
    "M = [\n",
    "    [-4, -3, -2, -1],\n",
    "    [0, 1, 2, 3],\n",
    "    [4, 5, 6, 7],\n",
    "]\n",
    "\n",
    "rescale_matrix(M) = [\n",
    "    [0.0, 0.09090909090909091, 0.18181818181818182, 0.2727272727272727],\n",
    "    [0.36363636363636365, 0.45454545454545453, 0.5454545454545454, 0.6363636363636364],\n",
    "    [0.7272727272727273, 0.8181818181818182, 0.9090909090909091, 1.0],\n",
    "]\n",
    "```\n",
    "\n",
    "**Explanation**: The smallest value in `M` is -4 and the largest value in `M` is 7. The difference between the largest and smallest value is 11. To get our rescaled matrix, we subtract the smallest value, -4, from every cell and then divide by difference, 11. (Note: since the smallest value is a negative number, we're actually adding 4 to every value)."
   ]
  },
  {
   "cell_type": "markdown",
   "metadata": {
    "id": "-KSQ4w-6_jQ-"
   },
   "source": [
    "#### Implementation"
   ]
  },
  {
   "cell_type": "code",
   "execution_count": 6,
   "metadata": {
    "id": "e2bJp3UyJDBv"
   },
   "outputs": [],
   "source": [
    "def rescale_matrix(M: np.ndarray) -> np.ndarray:\n",
    "    min_val = M.min()\n",
    "    range_val = M.max() - min_val\n",
    "    \n",
    "    # Avoid division by zero in case it's a blank piece of paper\n",
    "    if range_val == 0:\n",
    "        return np.zeros_like(M)\n",
    "\n",
    "    return (M - min_val) / range_val"
   ]
  },
  {
   "cell_type": "markdown",
   "metadata": {
    "id": "_fDeaOH-dTDb"
   },
   "source": [
    "## Step 1: Noise Reduction with the Gaussian Kernel (5 pts)"
   ]
  },
  {
   "cell_type": "markdown",
   "metadata": {
    "id": "PWuK6AZ4du3Q"
   },
   "source": [
    "In this section, you'll implement functions for Step 1: Noise Reduction with the Gaussian."
   ]
  },
  {
   "cell_type": "markdown",
   "metadata": {
    "id": "5QdDOffkjzuU"
   },
   "source": [
    "### Gaussian Kernel (5 pts)"
   ]
  },
  {
   "cell_type": "markdown",
   "metadata": {
    "id": "AScQO6vvHWaL"
   },
   "source": [
    "`gaussian_kernel` (5 pts). Create a `n` by `n` gaussian kernel with $\\sigma =$ `s`. For this problem `n` will always be a positive, odd number. Assume $\\sigma > 0$. The return type is `np.ndarray` with shape `(n,n)`."
   ]
  },
  {
   "cell_type": "markdown",
   "metadata": {
    "id": "feeEtJ9QyL-j"
   },
   "source": [
    "#### Examples"
   ]
  },
  {
   "cell_type": "markdown",
   "metadata": {
    "id": "NyPLBJEByRfZ"
   },
   "source": [
    "##### Example 1"
   ]
  },
  {
   "cell_type": "markdown",
   "metadata": {
    "id": "6eb4J0YZyU21"
   },
   "source": [
    "```python\n",
    "s = 1\n",
    "n = 5\n",
    "\n",
    "gaussian_kernel(s, n) = [\n",
    "    [0.0029150244650281935, 0.013064233284684921, 0.021539279301848627, 0.013064233284684921, 0.0029150244650281935],\n",
    "    [0.013064233284684921, 0.058549831524319175, 0.09653235263005391, 0.058549831524319175, 0.013064233284684921],\n",
    "    [0.021539279301848627, 0.09653235263005391, 0.15915494309189535, 0.09653235263005391, 0.021539279301848627],\n",
    "    [0.013064233284684921, 0.058549831524319175, 0.09653235263005391, 0.058549831524319175, 0.013064233284684921],\n",
    "    [0.0029150244650281935, 0.013064233284684921, 0.021539279301848627, 0.013064233284684921, 0.0029150244650281935],\n",
    "]\n",
    "```\n",
    "\n",
    "**Explanation**: The kernel matrix is 5 by 5 since `n = 5`. The center of the matrix correspond to $G_{\\sigma}(0, 0)$ where $\\sigma = 1$ since `s = 1`, using the gaussian function defined earlier. The other entries are $G_{\\sigma}(x, y)$ where $x$ and $y$ is the how far horizontally and vertically, respectively, it is from the center."
   ]
  },
  {
   "cell_type": "markdown",
   "metadata": {
    "id": "KYiO86qEySuW"
   },
   "source": [
    "##### Example 2"
   ]
  },
  {
   "cell_type": "markdown",
   "metadata": {
    "id": "uuN9vNJezbBh"
   },
   "source": [
    "```python\n",
    "s = 2\n",
    "n = 3\n",
    "\n",
    "gaussian_kernel(s, n) = [\n",
    "    [0.030987498577413244, 0.035113436077406295, 0.030987498577413244],\n",
    "    [0.035113436077406295, 0.039788735772973836, 0.035113436077406295],\n",
    "    [0.030987498577413244, 0.035113436077406295, 0.030987498577413244],\n",
    "]\n",
    "```\n",
    "\n",
    "**Explanation**: The kernel matrix is 3 by 3 since `n = 3`. The center of the matrix correspond to $G_{\\sigma}(0, 0)$ where $\\sigma = 2$ since `s = 2`, using the gaussian function defined earlier. The other entries are $G_{\\sigma}(x, y)$ where $x$ and $y$ is the how far horizontally and vertically, respectively, it is from the center."
   ]
  },
  {
   "cell_type": "markdown",
   "metadata": {
    "id": "5c8Ttq78yOJ-"
   },
   "source": [
    "#### Implementation"
   ]
  },
  {
   "cell_type": "code",
   "execution_count": 7,
   "metadata": {
    "id": "8onOsOAbE3Em"
   },
   "outputs": [],
   "source": [
    "def gaussian_kernel(s: float, n: int) -> np.ndarray:\n",
    "    \n",
    "    assert n % 2 == 1, \"n must be an odd number!\"\n",
    "    assert s > 0, \"variance must be positive!\"\n",
    "    \n",
    "    # Calculate the Gaussian function for each element in the meshgrid\n",
    "    ax = np.linspace(-(n - 1) / 2, (n - 1) / 2, n)\n",
    "    xx, yy = np.meshgrid(ax, ax, sparse=True)\n",
    "    \n",
    "    return np.exp(-(xx**2 + yy**2) / (2 * (s**2)))/(2*np.pi*(s**2))"
   ]
  },
  {
   "cell_type": "markdown",
   "metadata": {
    "id": "ka2X_Gu10QOb"
   },
   "source": [
    "### Noise Reduction Demo (0 pts)"
   ]
  },
  {
   "cell_type": "markdown",
   "metadata": {
    "id": "1o0wWTepd4me"
   },
   "source": [
    "After implementing all of the above functions, you can experiment with denoising an image with the Gaussian kernel with a sample image. Feel free to provide a `url` link to an image or a google drive link to an image (make sure the permission is set to view access to anyone with the link; [steps can be found here](https://support.google.com/docs/answer/2494822?hl=en&co=GENIE.Platform%3DDesktop)) and experiment with the `s` and `n` parameter. Note: the results are much more distinguishable when the image is lower resolution / smaller."
   ]
  },
  {
   "cell_type": "code",
   "execution_count": 8,
   "metadata": {
    "cellView": "form",
    "colab": {
     "base_uri": "https://localhost:8080/",
     "height": 404
    },
    "id": "TlxNiDlEgSQU",
    "outputId": "5c18e11e-981b-4bc1-a309-ee2e2785e2c5"
   },
   "outputs": [
    {
     "ename": "ModuleNotFoundError",
     "evalue": "No module named 'cv2'",
     "output_type": "error",
     "traceback": [
      "\u001b[0;31m---------------------------------------------------------------------------\u001b[0m",
      "\u001b[0;31mModuleNotFoundError\u001b[0m                       Traceback (most recent call last)",
      "Cell \u001b[0;32mIn[8], line 19\u001b[0m\n\u001b[1;32m     17\u001b[0m \u001b[38;5;28;01mimport\u001b[39;00m \u001b[38;5;21;01mmatplotlib\u001b[39;00m\u001b[38;5;21;01m.\u001b[39;00m\u001b[38;5;21;01mpyplot\u001b[39;00m \u001b[38;5;28;01mas\u001b[39;00m \u001b[38;5;21;01mplt\u001b[39;00m\n\u001b[1;32m     18\u001b[0m \u001b[38;5;28;01mimport\u001b[39;00m \u001b[38;5;21;01mtime\u001b[39;00m\n\u001b[0;32m---> 19\u001b[0m \u001b[38;5;28;01mimport\u001b[39;00m \u001b[38;5;21;01mcv2\u001b[39;00m\n\u001b[1;32m     20\u001b[0m \u001b[38;5;28;01mimport\u001b[39;00m \u001b[38;5;21;01mre\u001b[39;00m\n\u001b[1;32m     21\u001b[0m \u001b[38;5;28;01mfrom\u001b[39;00m \u001b[38;5;21;01murllib\u001b[39;00m\u001b[38;5;21;01m.\u001b[39;00m\u001b[38;5;21;01merror\u001b[39;00m \u001b[38;5;28;01mimport\u001b[39;00m HTTPError\n",
      "\u001b[0;31mModuleNotFoundError\u001b[0m: No module named 'cv2'"
     ]
    }
   ],
   "source": [
    "### DO NOT CHANGE ###\n",
    "#@title Experiment with Gaussian Kernel { run: \"auto\" }\n",
    "if __name__ == \"__main__\":\n",
    "\n",
    "    import importlib\n",
    "    import subprocess\n",
    "    def check_and_install_library(library_name):\n",
    "        try:\n",
    "            importlib.import_module(library_name)\n",
    "        except ImportError:\n",
    "            subprocess.call([\"pip\", \"-q\", \"install\", library_name])\n",
    "\n",
    "    check_and_install_library(\"wget\")\n",
    "\n",
    "    import wget\n",
    "    import gdown\n",
    "    import matplotlib.pyplot as plt\n",
    "    import time\n",
    "    import cv2\n",
    "    import re\n",
    "    from urllib.error import HTTPError\n",
    "\n",
    "    class StopExecution(Exception):\n",
    "        def _render_traceback_(self):\n",
    "            pass\n",
    "\n",
    "    url = \"https://drive.google.com/file/d/15HWhYP_Kjbsz5AusTuuZtLi9nmTGiviY/view?usp=drive_link\" #@param { type: \"string\" }\n",
    "    s = 5 #@param { type: \"slider\", min: 1, max: 20, step: 1}\n",
    "    n = 9 #@param { type: \"slider\", min: 3, max: 25, step: 2}\n",
    "\n",
    "    now = time.strftime(\"%Y%m%d-%H%M%S\")\n",
    "    file_name = f\"img_{now}.jpeg\"\n",
    "\n",
    "    if \"drive.google.com\" in url:\n",
    "        id_match = re.search(r'/d/([a-zA-Z0-9_-]+)', url)\n",
    "        if id_match:\n",
    "            extracted_id = id_match.group(1)\n",
    "        else:\n",
    "            print(f\"ERROR: Invalid Google Drive URL - provide another URL\")\n",
    "            raise StopExecution\n",
    "\n",
    "        try:\n",
    "            gdown.download(f\"https://drive.google.com/uc?id={extracted_id}\", file_name, quiet=True)\n",
    "        except gdown.exceptions.FileURLRetrievalError:\n",
    "            print(f\"ERROR: Invalid Google Drive URL - please check the access permission or that the file exists or provide another URL\")\n",
    "            raise StopExecution\n",
    "        except Exception as e:\n",
    "            print(f\"ERROR: Please contact course staff; failed to perform wget on image URL due to: {e}\")\n",
    "            raise StopExecution\n",
    "    else:\n",
    "        try:\n",
    "            wget.download(url, file_name)\n",
    "        except TypeError:\n",
    "            print(f\"ERROR: Invalid Image URL - provide another URL\")\n",
    "            raise StopExecution\n",
    "        except HTTPError:\n",
    "            print(f\"ERROR: Failed make HTTP request to Image URL - provide another URL\")\n",
    "            raise StopExecution\n",
    "        except Exception as e:\n",
    "            print(f\"ERROR: Please contact course staff; failed to perform wget on image URL due to: {e}\")\n",
    "            raise StopExecution\n",
    "\n",
    "    try:\n",
    "        img = cv2.imread(file_name, cv2.IMREAD_COLOR)\n",
    "        img = cv2.cvtColor(img, cv2.COLOR_BGR2GRAY)\n",
    "        gaussian_filtered_img = convolve(img, gaussian_kernel(s, n))\n",
    "\n",
    "        fig, ax = plt.subplots(1, 2, figsize=(11, 5))\n",
    "        ax[0].imshow(img, cmap=\"gray\")\n",
    "        ax[0].set_title(\"Original Image\")\n",
    "        ax[1].imshow(gaussian_filtered_img, cmap=\"gray\")\n",
    "        ax[1].set_title(f\"Gaussian Blurred Image, with sigma {s} and size {n}\")\n",
    "        for index, a in enumerate(ax):\n",
    "            a.set_xticks([])\n",
    "            a.set_yticks([])\n",
    "        plt.tight_layout()\n",
    "        plt.show()\n",
    "    except NameError as e:\n",
    "        print(f\"ERROR: It appears some of the above code cells were not ran; please run the above code cell(s): {e}\")\n",
    "        raise StopExecution\n",
    "    except Exception:\n",
    "        print(f\"ERROR: Required implementation is incorrect or incomplete\")\n",
    "        raise StopExecution\n",
    "\n"
   ]
  },
  {
   "cell_type": "code",
   "execution_count": null,
   "metadata": {},
   "outputs": [],
   "source": [
    "import wget"
   ]
  },
  {
   "cell_type": "markdown",
   "metadata": {
    "id": "2PQ_PnzGmAzB"
   },
   "source": [
    "## Step 2: Compute the Image Gradients (25 pts)"
   ]
  },
  {
   "cell_type": "markdown",
   "metadata": {
    "id": "j8ZcSfufmAzK"
   },
   "source": [
    "In this section, you'll implement functions for Step 2: Compute the Image Gradients."
   ]
  },
  {
   "cell_type": "markdown",
   "metadata": {
    "id": "_TRenW4Dj4J3"
   },
   "source": [
    "### Gradients XY Sobel (5 pts)"
   ]
  },
  {
   "cell_type": "markdown",
   "metadata": {
    "id": "x7T3UkqYmYA3"
   },
   "source": [
    "`gradients_xy_sobel` (5 pts). Given an grayscale image matrix `img`, with height `H` and width `W` (i.e., shape `(H, W)`), determine the gradients in the `x` direction, $I_x$, and the gradients in the `y` direction, $I_y$, using convolution with the Sobel operator. Note: the output should be a tuple $(I_x, I_y)$, in that order, where both $I_x$ and $I_y$ are shape `(H, W)`.\n",
    "\n",
    "Recall, the Sobel kernels are,\n",
    "$$\n",
    "G_x = \\begin{bmatrix}\n",
    "    1 & 0 & -1 \\\\\n",
    "    2 & 0 & -2 \\\\\n",
    "    1 & 0 & -1\n",
    "\\end{bmatrix},\n",
    "G_y = \\begin{bmatrix}\n",
    "    1 & 2 & 1 \\\\\n",
    "    0 & 0 & 0 \\\\\n",
    "    -1 & -2 & -1\n",
    "\\end{bmatrix}\n",
    "$$"
   ]
  },
  {
   "cell_type": "markdown",
   "metadata": {
    "id": "3RFJIYVjALsJ"
   },
   "source": [
    "#### Examples"
   ]
  },
  {
   "cell_type": "markdown",
   "metadata": {
    "id": "jnxT_CwNAOH7"
   },
   "source": [
    "##### Example 1"
   ]
  },
  {
   "cell_type": "markdown",
   "metadata": {
    "id": "BeV4__8tAYBM"
   },
   "source": [
    "```python\n",
    "img = [\n",
    "    [1, 2, 3],\n",
    "    [4, 5, 6],\n",
    "    [7, 8, 9],\n",
    "]\n",
    "\n",
    "gradients_xy_sobel(img) = (\n",
    "    [\n",
    "        [-4, -8, -4],\n",
    "        [-4, -8, -4],\n",
    "        [-4, -8, -4],\n",
    "    ],\n",
    "    [\n",
    "        [-12, -12, -12],\n",
    "        [-24, -24, -24],\n",
    "        [-12, -12, -12],\n",
    "    ]\n",
    ")\n",
    "```\n",
    "\n",
    "**Explanation**: The tuple contains the result from convolving $G_x$ and $G_y$ with the image, respectively."
   ]
  },
  {
   "cell_type": "markdown",
   "metadata": {
    "id": "rm1CZVItAP_k"
   },
   "source": [
    "##### Example 2"
   ]
  },
  {
   "cell_type": "markdown",
   "metadata": {
    "id": "dpvnYIVeBdRe"
   },
   "source": [
    "```python\n",
    "img = [\n",
    "    [1, 2, 3, 4],\n",
    "    [5, 6, 7, 8],\n",
    "    [9, 10, 11, 12],\n",
    "]\n",
    "\n",
    "gradients_xy_sobel(img) = (\n",
    "    [\n",
    "        [-4, -8, -8, -4],\n",
    "        [-4, -8, -8, -4],\n",
    "        [-4, -8, -8, -4],\n",
    "    ],\n",
    "    [\n",
    "        [-16, -16, -16, -16],\n",
    "        [-32, -32, -32, -32],\n",
    "        [-16, -16, -16, -16],\n",
    "    ]\n",
    ")\n",
    "```\n",
    "\n",
    "**Explanation**: The tuple contains the result from convolving $G_x$ and $G_y$ with the image, respectively."
   ]
  },
  {
   "cell_type": "markdown",
   "metadata": {
    "id": "a5YcaxaYACXU"
   },
   "source": [
    "#### Implementation"
   ]
  },
  {
   "cell_type": "code",
   "execution_count": null,
   "metadata": {
    "id": "FQWaM3yRl5_6"
   },
   "outputs": [],
   "source": [
    "def gradients_xy_sobel(img: np.ndarray) -> Tuple[np.ndarray, np.ndarray]:\n",
    "    # Sobel operator kernels (sobel_x flipped from lecture notes)\n",
    "    sobel_x = np.flip(np.array([[-1, 0, 1], [-2, 0, 2], [-1, 0, 1]]))\n",
    "    sobel_y = np.array([[1, 2, 1], [0, 0, 0], [-1, -2, -1]])\n",
    "    \n",
    "    # Compute gradients in the x and y directions\n",
    "    Ix = convolve(img, sobel_x)\n",
    "    Iy = convolve(img, sobel_y)\n",
    "    \n",
    "    return (Ix, Iy)\n"
   ]
  },
  {
   "cell_type": "markdown",
   "metadata": {
    "id": "CAqj7KRZj7Y9"
   },
   "source": [
    "### Gradients XY Prewitt (5 pts)"
   ]
  },
  {
   "cell_type": "markdown",
   "metadata": {
    "id": "NxHd9hJY44-Z"
   },
   "source": [
    "`gradients_xy_prewitt` (5 pts). Given an grayscale image matrix `img`, with height `H` and width `W` (i.e., shape `(H, W)`), determine the gradients in the `x` direction, $I_x$, and the gradients in the `y` direction, $I_y$, using convolution with the Prewitt operator. Note: the output should be a tuple $(I_x, I_y)$, in that order, where both $I_x$ and $I_y$ are shape `(H, W)`.\n",
    "\n",
    "Recall, the Prewitt kernels are,\n",
    "$$\n",
    "G_x = \\begin{bmatrix}\n",
    "    1 & 0 & -1 \\\\\n",
    "    1 & 0 & -1 \\\\\n",
    "    1 & 0 & -1\n",
    "\\end{bmatrix},\n",
    "G_y = \\begin{bmatrix}\n",
    "    1 & 1 & 1 \\\\\n",
    "    0 & 0 & 0 \\\\\n",
    "    -1 & -1 & -1\n",
    "\\end{bmatrix}\n",
    "$$"
   ]
  },
  {
   "cell_type": "markdown",
   "metadata": {
    "id": "C7wVbc7GASzJ"
   },
   "source": [
    "#### Examples"
   ]
  },
  {
   "cell_type": "markdown",
   "metadata": {
    "id": "HpC0z45HASzW"
   },
   "source": [
    "##### Example 1"
   ]
  },
  {
   "cell_type": "markdown",
   "metadata": {
    "id": "EtZkGEmbBxZb"
   },
   "source": [
    "```python\n",
    "img = [\n",
    "    [1, 2, 3],\n",
    "    [4, 5, 6],\n",
    "    [7, 8, 9],\n",
    "]\n",
    "\n",
    "gradients_xy_prewitt(img) = (\n",
    "    [\n",
    "        [-3, -6, -3],\n",
    "        [-3, -6, -3],\n",
    "        [-3, -6, -3],\n",
    "    ],\n",
    "    [\n",
    "        [-9, -9, -9],\n",
    "        [-18, -18, -18],\n",
    "        [-9, -9, -9],\n",
    "    ]\n",
    ")\n",
    "```\n",
    "\n",
    "**Explanation**: The tuple contains the result from convolving $G_x$ and $G_y$ with the image, respectively."
   ]
  },
  {
   "cell_type": "markdown",
   "metadata": {
    "id": "W1YzBBzkASzW"
   },
   "source": [
    "##### Example 2"
   ]
  },
  {
   "cell_type": "markdown",
   "metadata": {
    "id": "OLAWTftwCC2G"
   },
   "source": [
    "```python\n",
    "img = [\n",
    "    [1, 2, 3, 4],\n",
    "    [5, 6, 7, 8],\n",
    "    [9, 10, 11, 12],\n",
    "]\n",
    "\n",
    "gradients_xy_prewitt(img) = (\n",
    "    [\n",
    "        [-3, -6, -6, -3],\n",
    "        [-3, -6, -6, -3],\n",
    "        [-3, -6, -6, -3],\n",
    "    ],\n",
    "    [\n",
    "        [-12, -12, -12, -12],\n",
    "        [-24, -24, -24, -24],\n",
    "        [-12, -12, -12, -12],\n",
    "    ]\n",
    ")\n",
    "```\n",
    "\n",
    "**Explanation**: The tuple contains the result from convolving $G_x$ and $G_y$ with the image, respectively."
   ]
  },
  {
   "cell_type": "markdown",
   "metadata": {
    "id": "xboq-lvkAHZG"
   },
   "source": [
    "#### Implementation"
   ]
  },
  {
   "cell_type": "code",
   "execution_count": null,
   "metadata": {
    "id": "YR1V9sYz6PQS"
   },
   "outputs": [],
   "source": [
    "def gradients_xy_prewitt(img: np.ndarray) -> Tuple[np.ndarray, np.ndarray]:\n",
    "    # the Prewitt kernels\n",
    "    G_x = np.array([[1, 0, -1], [1, 0, -1], [1, 0, -1]])\n",
    "    G_y = np.array([[1, 1, 1], [0, 0, 0], [-1, -1, -1]])\n",
    "    \n",
    "    # Compute gradients in the x and y directions\n",
    "    Ix = convolve(img, G_x)\n",
    "    Iy = convolve(img, G_y)\n",
    "    \n",
    "    return (Ix, Iy)"
   ]
  },
  {
   "cell_type": "markdown",
   "metadata": {
    "id": "ESlYhIZvj85A"
   },
   "source": [
    "### Gradients XY Roberts (5 pts)"
   ]
  },
  {
   "cell_type": "markdown",
   "metadata": {
    "id": "Y3zKPCDe5Fpo"
   },
   "source": [
    "`gradients_xy_roberts` (5 pts). Given an grayscale image matrix `img`, with height `H` and width `W` (i.e., shape `(H, W)`), determine the gradients in the `x` direction, $I_x$, and the gradients in the `y` direction, $I_y$, using convolution with the Roberts operator. Note: the output should be a tuple $(I_x, I_y)$, in that order, where both $I_x$ and $I_y$ are shape `(H, W)`.\n",
    "\n",
    "Recall, the Roberts kernels are,\n",
    "$$\n",
    "G_x = \\begin{bmatrix}\n",
    "    1 & 0 \\\\\n",
    "    0 & -1\n",
    "\\end{bmatrix},\n",
    "G_y = \\begin{bmatrix}\n",
    "    0 & 1 \\\\\n",
    "    -1 & 0\n",
    "\\end{bmatrix}\n",
    "$$\n",
    "\n",
    "Notice, the Roberts kernels are $2 \\times 2$, which can make them hard to convolve with. To make the convolution behavior more nice, we can pad the Roberts kernels to make them $3 \\times 3$ and convolve with those kernels. For this problem, use the below version of the Roberts kernels.\n",
    "\n",
    "$$\n",
    "G_x = \\begin{bmatrix}\n",
    "    1 & 0 & 0\\\\\n",
    "    0 & -1 & 0 \\\\\n",
    "    0 & 0 & 0\n",
    "\\end{bmatrix},\n",
    "G_y = \\begin{bmatrix}\n",
    "    0 & 1 & 0\\\\\n",
    "    -1 & 0 & 0 \\\\\n",
    "    0 & 0 & 0\n",
    "\\end{bmatrix}\n",
    "$$"
   ]
  },
  {
   "cell_type": "markdown",
   "metadata": {
    "id": "LuTpiCyTATlZ"
   },
   "source": [
    "#### Examples"
   ]
  },
  {
   "cell_type": "markdown",
   "metadata": {
    "id": "r__nphu6ATll"
   },
   "source": [
    "##### Example 1"
   ]
  },
  {
   "cell_type": "markdown",
   "metadata": {
    "id": "5JCFGzaFCyzQ"
   },
   "source": [
    "```python\n",
    "img = [\n",
    "    [1, 2, 3],\n",
    "    [4, 5, 6],\n",
    "    [7, 8, 9],\n",
    "]\n",
    "\n",
    "gradients_xy_roberts(img) = (\n",
    "    [\n",
    "        [0, -1, -1],\n",
    "        [-3, -4, -4],\n",
    "        [-3, -4, -4],\n",
    "    ],\n",
    "    [\n",
    "        [0, 1, 1],\n",
    "        [-3, -2, -2],\n",
    "        [-3, -2, -2],\n",
    "    ]\n",
    ")\n",
    "```\n",
    "\n",
    "**Explanation**: The tuple contains the result from convolving $G_x$ and $G_y$ with the image, respectively."
   ]
  },
  {
   "cell_type": "markdown",
   "metadata": {
    "id": "XDHHlOvfATll"
   },
   "source": [
    "##### Example 2"
   ]
  },
  {
   "cell_type": "markdown",
   "metadata": {
    "id": "8jRCZ3RbDAh5"
   },
   "source": [
    "```python\n",
    "img = [\n",
    "    [1, 2, 3, 4],\n",
    "    [5, 6, 7, 8],\n",
    "    [9, 10, 11, 12],\n",
    "]\n",
    "\n",
    "gradients_xy_roberts(img) = (\n",
    "    [\n",
    "        [0, -1, -1, -1],\n",
    "        [-4, -5, -5, -5],\n",
    "        [-4, -5, -5, -5],\n",
    "    ],\n",
    "    [\n",
    "        [0, 1, 1, 1],\n",
    "        [-4, -3, -3, -3],\n",
    "        [-4, -3, -3, -3],\n",
    "    ]\n",
    ")\n",
    "```\n",
    "\n",
    "**Explanation**: The tuple contains the result from convolving $G_x$ and $G_y$ with the image, respectively."
   ]
  },
  {
   "cell_type": "markdown",
   "metadata": {
    "id": "dnK27HTjAID4"
   },
   "source": [
    "#### Implementation"
   ]
  },
  {
   "cell_type": "code",
   "execution_count": null,
   "metadata": {
    "id": "PCVLUDya6TkH"
   },
   "outputs": [],
   "source": [
    "def gradients_xy_roberts(img: np.ndarray) -> Tuple[np.ndarray, np.ndarray]:\n",
    "    # the modified Roberts kernels\n",
    "    R_x = np.array([[1, 0, 0], [0, -1, 0], [0, 0, 0]])\n",
    "    R_y = np.array([[0, 1, 0], [-1, 0, 0], [0, 0, 0]])\n",
    "     \n",
    "    # Compute gradients in the x and y directions\n",
    "    Ix = convolve(img, R_x)\n",
    "    Iy = convolve(img, R_y)\n",
    "    \n",
    "    return (Ix, Iy)\n"
   ]
  },
  {
   "cell_type": "markdown",
   "metadata": {
    "id": "ivcWuDAOj_gb"
   },
   "source": [
    "### Gradient Magnitude (5 pts)"
   ]
  },
  {
   "cell_type": "markdown",
   "metadata": {
    "id": "8PZGY2XW6W-B"
   },
   "source": [
    "`gradient_magnitude` (5 pts). Given the gradients in the `x` direction, $I_x$, and the gradients in the `y` direction, $I_y$, both shape `(H, W)`, return the gradient magnitude, $|\\nabla I|$. The output should be the $|\\nabla I|$ matrix and have shape `(H, W)`.\n",
    "\n",
    "Recall,\n",
    "\\begin{align}\n",
    "|\\nabla I| &= \\sqrt{I_x^2+I_y^2}\n",
    "\\end{align}"
   ]
  },
  {
   "cell_type": "markdown",
   "metadata": {
    "id": "XeWKGroIAUZX"
   },
   "source": [
    "#### Examples"
   ]
  },
  {
   "cell_type": "markdown",
   "metadata": {
    "id": "oKTpOT48AUZe"
   },
   "source": [
    "##### Example 1"
   ]
  },
  {
   "cell_type": "markdown",
   "metadata": {
    "id": "jbdSlfn1GOqx"
   },
   "source": [
    "```python\n",
    "Ix = [\n",
    "    [-4, -8, -4],\n",
    "    [-4, -8, -4],\n",
    "    [-4, -8, -4],\n",
    "]\n",
    "Iy = [\n",
    "    [-12, -12, -12],\n",
    "    [-24, -24, -24],\n",
    "    [-12, -12, -12],\n",
    "]\n",
    "\n",
    "gradient_magnitude(Ix, Iy) = [\n",
    "    [12.649110640673518, 14.422205101855956, 12.649110640673518],\n",
    "    [24.331050121192877, 25.298221281347036, 24.331050121192877],\n",
    "    [12.649110640673518, 14.422205101855956, 12.649110640673518],\n",
    "]\n",
    "```\n",
    "\n",
    "**Explanation**: We get the magnitude matrix by taking each entry in $I_x$ and $I_y$ and applying the formula."
   ]
  },
  {
   "cell_type": "markdown",
   "metadata": {
    "id": "29M_hGVqAUZe"
   },
   "source": [
    "##### Example 2"
   ]
  },
  {
   "cell_type": "markdown",
   "metadata": {
    "id": "B4HyewCHGvOm"
   },
   "source": [
    "```python\n",
    "Ix = [\n",
    "    [-4, -8, -8, -4],\n",
    "    [-4, -8, -8, -4],\n",
    "    [-4, -8, -8, -4],\n",
    "]\n",
    "Iy = [\n",
    "    [-16, -16, -16, -16],\n",
    "    [-32, -32, -32, -32],\n",
    "    [-16, -16, -16, -16],\n",
    "]\n",
    "\n",
    "gradient_magnitude(Ix, Iy) = [\n",
    "    [16.492422502470642, 17.88854381999832, 17.88854381999832, 16.492422502470642],\n",
    "    [32.2490309931942, 32.984845004941285, 32.984845004941285, 32.2490309931942],\n",
    "    [16.492422502470642, 17.88854381999832, 17.88854381999832, 16.492422502470642],\n",
    "]\n",
    "```\n",
    "\n",
    "**Explanation**: We get the magnitude matrix by taking each entry in $I_x$ and $I_y$ and applying the formula."
   ]
  },
  {
   "cell_type": "markdown",
   "metadata": {
    "id": "baHCM_9oAIlx"
   },
   "source": [
    "#### Implementation"
   ]
  },
  {
   "cell_type": "code",
   "execution_count": null,
   "metadata": {
    "id": "b8bwjN687NtX"
   },
   "outputs": [],
   "source": [
    "def gradient_magnitude(Ix: np.ndarray, Iy: np.ndarray) -> np.ndarray:\n",
    "    return np.sqrt(Ix**2 + Iy**2)"
   ]
  },
  {
   "cell_type": "markdown",
   "metadata": {
    "id": "5zlmaZHOkBKD"
   },
   "source": [
    "### Gradient Direction (5 pts)"
   ]
  },
  {
   "cell_type": "markdown",
   "metadata": {
    "id": "wGAnwrr37U6e"
   },
   "source": [
    "`gradient_direction` (5 pts). Given the gradients in the `x` direction, $I_x$, and the gradients in the `y` direction, $I_y$, both shape `(H, W)`, return the gradient directions, $\\Theta_{\\nabla I}$. The output should be the $\\Theta_{\\nabla I}$ matrix and have shape `(H, W)`. Furthermore, the units in the $\\Theta_{\\nabla I}$ matrix should be in radians.\n",
    "\n",
    "Recall,\n",
    "\\begin{align}\n",
    "\\Theta_{\\nabla I} &= \\text{atan2}(I_y, I_x)\n",
    "\\end{align}\n",
    "\n",
    "**Hint**: use [`np.arctan2`](https://numpy.org/doc/stable/reference/generated/numpy.arctan2.html)"
   ]
  },
  {
   "cell_type": "markdown",
   "metadata": {
    "id": "Tw8JHY6MAU-V"
   },
   "source": [
    "#### Examples"
   ]
  },
  {
   "cell_type": "markdown",
   "metadata": {
    "id": "EOZAk8pwAU-V"
   },
   "source": [
    "##### Example 1"
   ]
  },
  {
   "cell_type": "markdown",
   "metadata": {
    "id": "sZX3QsEzHELr"
   },
   "source": [
    "```python\n",
    "Ix = [\n",
    "    [-4, -8, -4],\n",
    "    [-4, -8, -4],\n",
    "    [-4, -8, -4],\n",
    "]\n",
    "Iy = [\n",
    "    [-12, -12, -12],\n",
    "    [-24, -24, -24],\n",
    "    [-12, -12, -12],\n",
    "]\n",
    "\n",
    "gradient_direction(Ix, Iy) = [\n",
    "    [-1.8925468811915387, -2.1587989303424644, -1.8925468811915387],\n",
    "    [-1.7359450042095235, -1.8925468811915387, -1.7359450042095235],\n",
    "    [-1.8925468811915387, -2.1587989303424644, -1.8925468811915387],\n",
    "]\n",
    "```\n",
    "\n",
    "**Explanation**: We get the direction matrix by taking each entry in $I_x$ and $I_y$ and applying the formula."
   ]
  },
  {
   "cell_type": "markdown",
   "metadata": {
    "id": "-D_20lskHELr"
   },
   "source": [
    "##### Example 2"
   ]
  },
  {
   "cell_type": "markdown",
   "metadata": {
    "id": "AwnJE5HpHELr"
   },
   "source": [
    "```python\n",
    "Ix = [\n",
    "    [-4, -8, -8, -4],\n",
    "    [-4, -8, -8, -4],\n",
    "    [-4, -8, -8, -4],\n",
    "]\n",
    "Iy = [\n",
    "    [-16, -16, -16, -16],\n",
    "    [-32, -32, -32, -32],\n",
    "    [-16, -16, -16, -16],\n",
    "]\n",
    "\n",
    "gradient_direction(Ix, Iy) = [\n",
    "    [-1.8157749899217608, -2.0344439357957027, -2.0344439357957027, -1.8157749899217608],\n",
    "    [-1.695151321341658, -1.8157749899217608, -1.8157749899217608, -1.695151321341658],\n",
    "    [-1.8157749899217608, -2.0344439357957027, -2.0344439357957027, -1.8157749899217608],\n",
    "]\n",
    "```\n",
    "\n",
    "**Explanation**: We get the direction matrix by taking each entry in $I_x$ and $I_y$ and applying the formula."
   ]
  },
  {
   "cell_type": "markdown",
   "metadata": {
    "id": "Lz_oG1AIAJDY"
   },
   "source": [
    "#### Implementation"
   ]
  },
  {
   "cell_type": "code",
   "execution_count": null,
   "metadata": {
    "id": "466KFpOU7uwj"
   },
   "outputs": [],
   "source": [
    "def gradient_direction(Ix: np.ndarray, Iy: np.ndarray) -> np.ndarray:\n",
    "    return np.arctan2(Iy, Ix)"
   ]
  },
  {
   "cell_type": "markdown",
   "metadata": {
    "id": "ZZy3cgc_-FrI"
   },
   "source": [
    "### Image Gradients Demo (0 pts)"
   ]
  },
  {
   "cell_type": "markdown",
   "metadata": {
    "id": "h9p5C6s17uNL"
   },
   "source": [
    "After implementing all of the above functions, you can experiment with / visualize the gradients. Feel free to provide a `url` link to an image or a google drive link to an image (make sure the permission is set to view access to anyone with the link; [steps can be found here](https://support.google.com/docs/answer/2494822?hl=en&co=GENIE.Platform%3DDesktop)) and changing the gradient operator (between `Sobel`, `Prewitts`, and `Roberts`). Note: the gradient visualizations pre-processes the original image with a gaussian kernel of size $5 \\times 5$ with $\\sigma = 3$."
   ]
  },
  {
   "cell_type": "code",
   "execution_count": 9,
   "metadata": {
    "cellView": "form",
    "colab": {
     "base_uri": "https://localhost:8080/",
     "height": 224
    },
    "id": "4mk4iLKL9Oeo",
    "outputId": "1a7c508e-e3f0-41de-a2d1-7f12945f306e"
   },
   "outputs": [
    {
     "ename": "ModuleNotFoundError",
     "evalue": "No module named 'cv2'",
     "output_type": "error",
     "traceback": [
      "\u001b[0;31m---------------------------------------------------------------------------\u001b[0m",
      "\u001b[0;31mModuleNotFoundError\u001b[0m                       Traceback (most recent call last)",
      "Cell \u001b[0;32mIn[9], line 19\u001b[0m\n\u001b[1;32m     17\u001b[0m \u001b[38;5;28;01mimport\u001b[39;00m \u001b[38;5;21;01mmatplotlib\u001b[39;00m\u001b[38;5;21;01m.\u001b[39;00m\u001b[38;5;21;01mpyplot\u001b[39;00m \u001b[38;5;28;01mas\u001b[39;00m \u001b[38;5;21;01mplt\u001b[39;00m\n\u001b[1;32m     18\u001b[0m \u001b[38;5;28;01mimport\u001b[39;00m \u001b[38;5;21;01mtime\u001b[39;00m\n\u001b[0;32m---> 19\u001b[0m \u001b[38;5;28;01mimport\u001b[39;00m \u001b[38;5;21;01mcv2\u001b[39;00m\n\u001b[1;32m     20\u001b[0m \u001b[38;5;28;01mimport\u001b[39;00m \u001b[38;5;21;01mre\u001b[39;00m\n\u001b[1;32m     21\u001b[0m \u001b[38;5;28;01mfrom\u001b[39;00m \u001b[38;5;21;01murllib\u001b[39;00m\u001b[38;5;21;01m.\u001b[39;00m\u001b[38;5;21;01merror\u001b[39;00m \u001b[38;5;28;01mimport\u001b[39;00m HTTPError\n",
      "\u001b[0;31mModuleNotFoundError\u001b[0m: No module named 'cv2'"
     ]
    }
   ],
   "source": [
    "### DO NOT CHANGE ###\n",
    "#@title Experiment with Image Gradients { run: \"auto\" }\n",
    "if __name__ == \"__main__\":\n",
    "\n",
    "    import importlib\n",
    "    import subprocess\n",
    "    def check_and_install_library(library_name):\n",
    "        try:\n",
    "            importlib.import_module(library_name)\n",
    "        except ImportError:\n",
    "            subprocess.call([\"pip\", \"-q\", \"install\", library_name])\n",
    "\n",
    "    check_and_install_library(\"wget\")\n",
    "\n",
    "    import wget\n",
    "    import gdown\n",
    "    import matplotlib.pyplot as plt\n",
    "    import time\n",
    "    import cv2\n",
    "    import re\n",
    "    from urllib.error import HTTPError\n",
    "\n",
    "    class StopExecution(Exception):\n",
    "        def _render_traceback_(self):\n",
    "            pass\n",
    "\n",
    "    url = \"https://drive.google.com/file/d/15HWhYP_Kjbsz5AusTuuZtLi9nmTGiviY/view?usp=drive_link\" #@param { type: \"string\" }\n",
    "    s = 3\n",
    "    n = 5\n",
    "    gradient_kernel = \"Sobel\" #@param [\"Sobel\", \"Prewitt\", \"Roberts\"]\n",
    "\n",
    "    now = time.strftime(\"%Y%m%d-%H%M%S\")\n",
    "    file_name = f\"img_{now}.jpeg\"\n",
    "\n",
    "    if \"drive.google.com\" in url:\n",
    "        id_match = re.search(r'/d/([a-zA-Z0-9_-]+)', url)\n",
    "        if id_match:\n",
    "            extracted_id = id_match.group(1)\n",
    "        else:\n",
    "            print(f\"ERROR: Invalid Google Drive URL - provide another URL\")\n",
    "            raise StopExecution\n",
    "\n",
    "        try:\n",
    "            gdown.download(f\"https://drive.google.com/uc?id={extracted_id}\", file_name, quiet=True)\n",
    "        except gdown.exceptions.FileURLRetrievalError:\n",
    "            print(f\"ERROR: Invalid Google Drive URL - please check the access permission or that the file exists or provide another URL\")\n",
    "            raise StopExecution\n",
    "        except Exception as e:\n",
    "            print(f\"ERROR: Please contact course staff; failed to perform wget on image URL due to: {e}\")\n",
    "            raise StopExecution\n",
    "    else:\n",
    "        try:\n",
    "            wget.download(url, file_name)\n",
    "        except TypeError:\n",
    "            print(f\"ERROR: Invalid Image URL - provide another URL\")\n",
    "            raise StopExecution\n",
    "        except HTTPError:\n",
    "            print(f\"ERROR: Failed make HTTP request to Image URL - provide another URL\")\n",
    "            raise StopExecution\n",
    "        except Exception as e:\n",
    "            print(f\"ERROR: Please contact course staff; failed to perform wget on image URL due to: {e}\")\n",
    "            raise StopExecution\n",
    "\n",
    "    try:\n",
    "        img = cv2.imread(file_name, cv2.IMREAD_COLOR)\n",
    "        img = cv2.cvtColor(img, cv2.COLOR_BGR2GRAY)\n",
    "        gaussian_filtered_img = convolve(img, gaussian_kernel(s, n))\n",
    "        if gradient_kernel == \"Sobel\":\n",
    "            Ix, Iy = gradients_xy_sobel(gaussian_filtered_img)\n",
    "        elif gradient_kernel == \"Prewitt\":\n",
    "            Ix, Iy = gradients_xy_prewitt(gaussian_filtered_img)\n",
    "        elif gradient_kernel == \"Roberts\":\n",
    "            Ix, Iy = gradients_xy_roberts(gaussian_filtered_img)\n",
    "\n",
    "        G_magnitude = gradient_magnitude(Ix, Iy)\n",
    "\n",
    "        fig, ax = plt.subplots(1, 5, figsize=(26, 5))\n",
    "        ax[0].imshow(img, cmap=\"gray\")\n",
    "        ax[0].set_title(\"Original Image\")\n",
    "        ax[1].imshow(gaussian_filtered_img, cmap=\"gray\")\n",
    "        ax[1].set_title(f\"Gaussian Blurred Image, with sigma {s} and size {n}\")\n",
    "        ax[2].imshow(Ix, cmap=\"gray\")\n",
    "        ax[2].set_title(f\"Gradient X ({gradient_kernel})\")\n",
    "        ax[3].imshow(Iy, cmap=\"gray\")\n",
    "        ax[3].set_title(f\"Gradient Y ({gradient_kernel})\")\n",
    "        ax[4].imshow(G_magnitude, cmap=\"gray\")\n",
    "        ax[4].set_title(f\"Gradient ({gradient_kernel})\")\n",
    "        for index, a in enumerate(ax):\n",
    "            a.set_xticks([])\n",
    "            a.set_yticks([])\n",
    "        plt.tight_layout()\n",
    "        plt.show()\n",
    "    except NameError as e:\n",
    "        print(f\"ERROR: It appears some of the above code cells were not ran; please run the above code cell(s): {e}\")\n",
    "        raise StopExecution\n",
    "    except Exception:\n",
    "        print(f\"ERROR: Required implementation is incorrect or incomplete\")\n",
    "        raise StopExecution"
   ]
  },
  {
   "cell_type": "markdown",
   "metadata": {
    "id": "gNT9dTE4_MIK"
   },
   "source": [
    "## Step 3: Non-Maximum Suppression (NMS) for Image Gradients (15 pts)"
   ]
  },
  {
   "cell_type": "markdown",
   "metadata": {
    "id": "kmt5sZ-_BKa4"
   },
   "source": [
    "In this section, you'll implement functions for Step 3: Non-Maximum Suppression (NMS) for Image Gradients."
   ]
  },
  {
   "cell_type": "markdown",
   "metadata": {
    "id": "aBIMTLWzkFpP"
   },
   "source": [
    "### Prep for NMS (5 pts)"
   ]
  },
  {
   "cell_type": "markdown",
   "metadata": {
    "id": "0ZDefTNLKhb-"
   },
   "source": [
    "`prep_for_NMS` (5 pts). The matrix that is returned from `gradient_direction` is in radians and has values between $-\\pi$ to $\\pi$. For our Non-Maximum Suppression algorithm, we want to first transform these values to degrees and make the range of values be from $0°$ to $180°$. Implement `prep_for_NMS` that takes the matrix returned from `gradient_direction` and applies those transformation. The input and output matrix will have the same shape.\n",
    "\n",
    "**Hint**: To convert radians to degrees, use [`np.degrees`](https://numpy.org/doc/stable/reference/generated/numpy.degrees.html). To scale the values from $[-180°, 180°]$ to $[0°, 180°]$, add $180°$ to all the values that are less than $0°$ (this works due to the geometry / symmetry of angles)."
   ]
  },
  {
   "cell_type": "markdown",
   "metadata": {
    "id": "R7vKOhsVH7MH"
   },
   "source": [
    "#### Examples"
   ]
  },
  {
   "cell_type": "markdown",
   "metadata": {
    "id": "bAIfwUfFIM4D"
   },
   "source": [
    "##### Example 1"
   ]
  },
  {
   "cell_type": "markdown",
   "metadata": {
    "id": "2n2B1w95IPZW"
   },
   "source": [
    "```python\n",
    "M = [\n",
    "    [-1.892, -2.158, -1.892],\n",
    "    [-1.735, -1.892, -1.735],\n",
    "    [-1.892, -2.158, -1.892],\n",
    "]\n",
    "\n",
    "prep_for_NMS(M) = [\n",
    "    [71.59638516124825, 56.35570781076835, 71.59638516124825],\n",
    "    [80.59182254480217, 71.59638516124825, 80.59182254480217],\n",
    "    [71.59638516124825, 56.35570781076835, 71.59638516124825],\n",
    "]\n",
    "```\n",
    "\n",
    "**Explanation**: Convert each entry in `M` from radians to degrees. Any values that are negative, add 180 to them.\n"
   ]
  },
  {
   "cell_type": "markdown",
   "metadata": {
    "id": "gZX01pi5Iwyj"
   },
   "source": [
    "##### Example 2"
   ]
  },
  {
   "cell_type": "markdown",
   "metadata": {
    "id": "YGj16tTeIy6x"
   },
   "source": [
    "```python\n",
    "M = [\n",
    "    [-1.815, -2.034, -2.034, -1.815],\n",
    "    [-1.695, -1.815, -1.815, -1.695],\n",
    "    [-1.815, -2.034, -2.034, -1.815],\n",
    "]\n",
    "\n",
    "prep_for_NMS(M) = [\n",
    "    [76.00816018375559, 63.460384470390565, 63.460384470390565, 76.00816018375559],\n",
    "    [82.88365372532546, 76.00816018375559, 76.00816018375559, 82.88365372532546],\n",
    "    [76.00816018375559, 63.460384470390565, 63.460384470390565, 76.00816018375559],\n",
    "]\n",
    "```\n",
    "\n",
    "**Explanation**: Convert each entry in `M` from radians to degrees. Any values that are negative, add 180 to them.\n"
   ]
  },
  {
   "cell_type": "markdown",
   "metadata": {
    "id": "4fLJh_msH33-"
   },
   "source": [
    "#### Implementation"
   ]
  },
  {
   "cell_type": "code",
   "execution_count": 130,
   "metadata": {
    "id": "wQKONlgEMCWw"
   },
   "outputs": [],
   "source": [
    "def prep_for_NMS(M:np.ndarray)-> np.ndarray:\n",
    "    grad_direction_degrees = np.degrees(M)\n",
    "    # Adjust values to be from 0° to 180°\n",
    "    grad_direction_degrees[grad_direction_degrees < 0] += 180\n",
    "    return grad_direction_degrees"
   ]
  },
  {
   "cell_type": "markdown",
   "metadata": {
    "id": "2jG3us9fkHME"
   },
   "source": [
    "### NMS (10 pts)"
   ]
  },
  {
   "cell_type": "markdown",
   "metadata": {
    "id": "IZq_aF9KMaQv"
   },
   "source": [
    "`NMS` (10 pts). Given the gradient magnitude matrix returned from `gradient_magnitude`, `G_magnitude`, and the transformed gradient angle matrix returned from `prep_for_NMS`, `G_angle`, perform non-maximum suppression. Both input matrix will have same shape. The output should be a matrix of the same shape, as well. The output matrix should have the gradient value from `G_magnitude` if that gradient value is maximal along its direction, otherwise it should be set to 0.\n",
    "\n",
    "The non-maximum suppression algorithm is:\n",
    "- Gradient angles in $[0°, 22.5°)$ or $[157.5°, 180°]$ will map to $0°$ meaning the gradient points along the east and west direction; thus the gradient value of the pixel should be compared with its east and west neighbor; if it's greater than it's east and west neighbor, it stays, otherwise it's suppressed and it's gradient value goes to zero.\n",
    "- Gradient angles in $[22.5°, 67.5°)$ will map to $45°$ meaning the gradient points along the north-east and south-west direction; thus the gradient value of the pixel should be compared with its north-east and south-west neighbor; if it's greater than it's north-east and south-west neighbor, it stays, otherwise it's suppressed and it's gradient value goes to zero.\n",
    "- Gradient angles in $[67.5°, 112.5°)$ will map to $90°$ meaning the gradient points along the north and south direction; thus the gradient value of the pixel should be compared with its north and south neighbor; if it's greater than it's north and south neighbor, it stays, otherwise it's suppressed and it's gradient value goes to zero.\n",
    "- Gradient angles in $[112.5°, 157.5°)$ will map to $135°$ meaning the gradient points along the north-west and south-east direction; thus the gradient value of the pixel should be compared with its north-west and south-east neighbor; if it's greater than it's north-west and south-east neighbor, it stays, otherwise it's suppressed and it's gradient value goes to zero.\n",
    "\n",
    "Note: in this implementation, when we think about a pixel's neighbors, we are look at the $3 \\times 3$ window about the pixel (where the pixel is in the center). However, we can also implement this by looking at a bigger window of neighbors such as a $5\\times5$ window. For this implementation. we'll only stick with the $3 \\times 3$ window.\n",
    "\n",
    "Note: for handling the gradients at the border, where gradient values need to be compared with gradient values that fall outside the image boundary, you can assume that the gradient values outside the gradient matrix are zero."
   ]
  },
  {
   "cell_type": "markdown",
   "metadata": {
    "id": "kpx4AtvSH-WK"
   },
   "source": [
    "#### Examples"
   ]
  },
  {
   "cell_type": "markdown",
   "metadata": {
    "id": "bYnAujmyJKeh"
   },
   "source": [
    "##### Example 1"
   ]
  },
  {
   "cell_type": "markdown",
   "metadata": {
    "id": "Y99Y_lTlJXjc"
   },
   "source": [
    "```python\n",
    "G_magnitude = [\n",
    "    [12.649, 14.422, 12.649],\n",
    "    [24.331, 25.298, 24.331],\n",
    "    [12.649, 14.422, 12.649],\n",
    "]\n",
    "G_angle = [\n",
    "    [71.596, 56.355, 71.596],\n",
    "    [80.591, 71.596, 80.591],\n",
    "    [71.596, 56.355, 71.596],\n",
    "]\n",
    "\n",
    "NMS(G_magnitude, G_angle) = [\n",
    "    [0.0, 0.0, 0.0],\n",
    "    [24.331, 25.298, 24.331],\n",
    "    [0.0, 0.0, 0.0],\n",
    "]\n",
    "```\n",
    "\n",
    "**Explanation**: For each pixel, look at the value in `G_angle` to determine which neighbors to compare. Then look at the magnitudes in `G_magnitude` and if the pixel value is greater than the neighbors to compare, keep the value, otherwise suppress to zero.\n",
    "\n",
    "For example, the top left corner pixel has an angle value of 71.596 so we compare the north and south neighbors. There is no north neighbor so we only need to compare with the south neighbor. Since the magnitude for the top left corner is 12.649 and its south neighbor's magnitude is 24.331, which is greater, the pixel is suppressed to zero.\n",
    "\n",
    "Another example is the center pixel which has an angle value of 71.596 so we compare the north and south neighbors. Since the magnitude for the center is 25.298 and its north and south neighbors magnitude is 14.422, which is smaller, the pixel is not suppressed and the magnitude value is kept in the resulting matrix."
   ]
  },
  {
   "cell_type": "markdown",
   "metadata": {
    "id": "ufOyN3wMJMaP"
   },
   "source": [
    "##### Example 2"
   ]
  },
  {
   "cell_type": "markdown",
   "metadata": {
    "id": "lq6J70KiLZUO"
   },
   "source": [
    "```python\n",
    "G_magnitude = [\n",
    "    [46.492, 17.888, 17.888, 16.492],\n",
    "    [32.249, 32.984, 32.984, 32.249],\n",
    "    [16.492, 17.888, 17.888, 16.492],\n",
    "]\n",
    "G_angle = [\n",
    "    [116.008, 63.46, 63.46, 76.008],\n",
    "    [82.883, 76.008, 176.008, 82.883],\n",
    "    [76.008, 63.46, 63.46, 76.008],\n",
    "]\n",
    "\n",
    "NMS(G_magnitude, G_angle) = [\n",
    "    [46.492, 0.0, 0.0, 0.0],\n",
    "    [0.0, 32.984, 0.0, 32.249],\n",
    "    [0.0, 0.0, 0.0, 0.0],\n",
    "]\n",
    "```\n",
    "\n",
    "**Explanation**: For each pixel, look at the value in `G_angle` to determine which neighbors to compare. Then look at the magnitudes in `G_magnitude` and if the pixel value is greater than the neighbors to compare, keep the value, otherwise suppress to zero.\n",
    "\n",
    "For example, the top left corner pixel has an angle value of 116.008 so we compare the north-west and south-east neighbors. There is no north-west neighbor so we only need to compare with the south-east neighbor. Since the magnitude for the top left corner is 46.492 and its south-east neighbor's magnitude is 32.984, which is smaller, the pixel is not suppressed and the magnitude value is kept in the resulting matrix.\n",
    "\n",
    "Another example is the third middle pixel (from the left) which has an angle value of 176.008 so we compare the east and west neighbors. The magnitude for the third middle pixel is 32.984, its east neighbor's magnitude is 32.984, which is the same, and its west neighbor's magnitude is 32.249, which is smaller. Since the pixel magnitude is not greater than its neighbors, it is suppressed to zero."
   ]
  },
  {
   "cell_type": "markdown",
   "metadata": {
    "id": "i2SCGz9oH4ts"
   },
   "source": [
    "#### Implementation"
   ]
  },
  {
   "cell_type": "code",
   "execution_count": 31,
   "metadata": {
    "id": "RsgnplFtNaTV"
   },
   "outputs": [],
   "source": [
    "def NMS(G_magnitude: np.ndarray, G_angle: np.ndarray) -> np.ndarray:\n",
    "    assert G_magnitude.shape == G_angle.shape, \"Two input arraries must be of the same shape!\"\n",
    "    \n",
    "    H, W = G_magnitude.shape\n",
    "    result = np.zeros((H, W), dtype=np.float32)\n",
    "    \n",
    "    # take care of edges\n",
    "    G_magnitude = np.pad(G_magnitude, 1)\n",
    "    G_angle = np.pad(G_angle, 1)\n",
    "    \n",
    "\n",
    "    # Iterate through each pixel in the interior of the padded image\n",
    "    for i in range(1, H+1):\n",
    "        for j in range(1, W+1):\n",
    "            angle = G_angle[i, j]\n",
    "            mag = G_magnitude[i, j]\n",
    "\n",
    "            # Compare with the relevant neighbours based on gradient direction\n",
    "            # East and West\n",
    "            if (0 <= angle < 22.5) or (157.5 <= angle <= 180):\n",
    "                neighbors = [G_magnitude[i, j-1], G_magnitude[i, j+1]]\n",
    "            # North-East and South-West\n",
    "            elif 22.5 <= angle < 67.5:\n",
    "                neighbors = [G_magnitude[i-1, j+1], G_magnitude[i+1, j-1]]\n",
    "            # North and South\n",
    "            elif 67.5 <= angle < 112.5:\n",
    "                neighbors = [G_magnitude[i-1, j], G_magnitude[i+1, j]]\n",
    "            # North-West and South-East\n",
    "            elif 112.5 <= angle < 157.5:\n",
    "                neighbors = [G_magnitude[i-1, j-1], G_magnitude[i+1, j+1]]\n",
    "            \n",
    "            # NMS: Retain the value only if it's greater than its neighbors\n",
    "            if mag > max(neighbors):\n",
    "                result[i-1, j-1] = mag\n",
    "            else:\n",
    "                result[i-1, j-1] = 0\n",
    "\n",
    "    return result"
   ]
  },
  {
   "cell_type": "code",
   "execution_count": 36,
   "metadata": {},
   "outputs": [],
   "source": [
    "G_magnitude = np.array([\n",
    "    [12.649, 14.422, 12.649],\n",
    "    [24.331, 25.298, 24.331],\n",
    "    [12.649, 14.422, 12.649],\n",
    "])\n",
    "\n",
    "G_angle = np.array([\n",
    "    [71.596, 56.355, 71.596],\n",
    "    [80.591, 71.596, 80.591],\n",
    "    [71.596, 56.355, 71.596],\n",
    "])"
   ]
  },
  {
   "cell_type": "code",
   "execution_count": 37,
   "metadata": {},
   "outputs": [
    {
     "data": {
      "text/plain": [
       "array([[ 0.   ,  0.   ,  0.   ],\n",
       "       [24.331, 25.298, 24.331],\n",
       "       [ 0.   ,  0.   ,  0.   ]], dtype=float32)"
      ]
     },
     "execution_count": 37,
     "metadata": {},
     "output_type": "execute_result"
    }
   ],
   "source": [
    "NMS(G_magnitude, G_angle)"
   ]
  },
  {
   "cell_type": "code",
   "execution_count": null,
   "metadata": {},
   "outputs": [],
   "source": [
    "\n",
    "NMS(G_magnitude, G_angle) = [\n",
    "    [0.0, 0.0, 0.0],\n",
    "    [24.331, 25.298, 24.331],\n",
    "    [0.0, 0.0, 0.0],\n",
    "]"
   ]
  },
  {
   "cell_type": "markdown",
   "metadata": {
    "id": "wJZHlYz_Hp1E"
   },
   "source": [
    "### Non-Maximum Suppression Demo (0 pts)"
   ]
  },
  {
   "cell_type": "markdown",
   "metadata": {
    "id": "FkAa_P0-TuiJ"
   },
   "source": [
    "After implementing all of the above functions, you can experiment with / visualize the gradients after non-maximum suppression. Feel free to provide a `url` link to an image or a google drive link to an image (make sure the permission is set to view access to anyone with the link; [steps can be found here](https://support.google.com/docs/answer/2494822?hl=en&co=GENIE.Platform%3DDesktop)). Note: the gradient visualizations pre-processes the original image with a gaussian kernel of size $5 \\times 5$ with $\\sigma = 3$ and determines the gradients with the Sobel operator."
   ]
  },
  {
   "cell_type": "code",
   "execution_count": 11,
   "metadata": {
    "cellView": "form",
    "colab": {
     "base_uri": "https://localhost:8080/",
     "height": 366
    },
    "id": "Pk5mPU5VUFmp",
    "outputId": "dd17e3bf-a355-44bd-af54-f7bc5fe7b606"
   },
   "outputs": [
    {
     "ename": "ModuleNotFoundError",
     "evalue": "No module named 'wget'",
     "output_type": "error",
     "traceback": [
      "\u001b[0;31m---------------------------------------------------------------------------\u001b[0m",
      "\u001b[0;31mModuleNotFoundError\u001b[0m                       Traceback (most recent call last)",
      "\u001b[0;32m/tmp/ipykernel_1889/1616723763.py\u001b[0m in \u001b[0;36m<module>\u001b[0;34m\u001b[0m\n\u001b[1;32m     13\u001b[0m     \u001b[0mcheck_and_install_library\u001b[0m\u001b[0;34m(\u001b[0m\u001b[0;34m\"wget\"\u001b[0m\u001b[0;34m)\u001b[0m\u001b[0;34m\u001b[0m\u001b[0;34m\u001b[0m\u001b[0m\n\u001b[1;32m     14\u001b[0m \u001b[0;34m\u001b[0m\u001b[0m\n\u001b[0;32m---> 15\u001b[0;31m     \u001b[0;32mimport\u001b[0m \u001b[0mwget\u001b[0m\u001b[0;34m\u001b[0m\u001b[0;34m\u001b[0m\u001b[0m\n\u001b[0m\u001b[1;32m     16\u001b[0m     \u001b[0;32mimport\u001b[0m \u001b[0mgdown\u001b[0m\u001b[0;34m\u001b[0m\u001b[0;34m\u001b[0m\u001b[0m\n\u001b[1;32m     17\u001b[0m     \u001b[0;32mimport\u001b[0m \u001b[0mmatplotlib\u001b[0m\u001b[0;34m.\u001b[0m\u001b[0mpyplot\u001b[0m \u001b[0;32mas\u001b[0m \u001b[0mplt\u001b[0m\u001b[0;34m\u001b[0m\u001b[0;34m\u001b[0m\u001b[0m\n",
      "\u001b[0;31mModuleNotFoundError\u001b[0m: No module named 'wget'"
     ]
    }
   ],
   "source": [
    "### DO NOT CHANGE ###\n",
    "#@title Experiment with Non-Maximum Suppression { run: \"auto\" }\n",
    "if __name__ == \"__main__\":\n",
    "\n",
    "    import importlib\n",
    "    import subprocess\n",
    "    def check_and_install_library(library_name):\n",
    "        try:\n",
    "            importlib.import_module(library_name)\n",
    "        except ImportError:\n",
    "            subprocess.call([\"pip\", \"-q\", \"install\", library_name])\n",
    "\n",
    "    check_and_install_library(\"wget\")\n",
    "\n",
    "    import wget\n",
    "    import gdown\n",
    "    import matplotlib.pyplot as plt\n",
    "    import time\n",
    "    import cv2\n",
    "    import re\n",
    "    from urllib.error import HTTPError\n",
    "\n",
    "    class StopExecution(Exception):\n",
    "        def _render_traceback_(self):\n",
    "            pass\n",
    "\n",
    "    url = \"https://drive.google.com/file/d/15HWhYP_Kjbsz5AusTuuZtLi9nmTGiviY/view?usp=drive_link\" #@param { type: \"string\" }\n",
    "    s = 3\n",
    "    n = 5\n",
    "    gradient_kernel = \"Sobel\"\n",
    "\n",
    "    now = time.strftime(\"%Y%m%d-%H%M%S\")\n",
    "    file_name = f\"img_{now}.jpeg\"\n",
    "\n",
    "    if \"drive.google.com\" in url:\n",
    "        id_match = re.search(r'/d/([a-zA-Z0-9_-]+)', url)\n",
    "        if id_match:\n",
    "            extracted_id = id_match.group(1)\n",
    "        else:\n",
    "            print(f\"ERROR: Invalid Google Drive URL - provide another URL\")\n",
    "            raise StopExecution\n",
    "\n",
    "        try:\n",
    "            gdown.download(f\"https://drive.google.com/uc?id={extracted_id}\", file_name, quiet=True)\n",
    "        except gdown.exceptions.FileURLRetrievalError:\n",
    "            print(f\"ERROR: Invalid Google Drive URL - please check the access permission or that the file exists or provide another URL\")\n",
    "            raise StopExecution\n",
    "        except Exception as e:\n",
    "            print(f\"ERROR: Please contact course staff; failed to perform wget on image URL due to: {e}\")\n",
    "            raise StopExecution\n",
    "    else:\n",
    "        try:\n",
    "            wget.download(url, file_name)\n",
    "        except TypeError:\n",
    "            print(f\"ERROR: Invalid Image URL - provide another URL\")\n",
    "            raise StopExecution\n",
    "        except HTTPError:\n",
    "            print(f\"ERROR: Failed make HTTP request to Image URL - provide another URL\")\n",
    "            raise StopExecution\n",
    "        except Exception as e:\n",
    "            print(f\"ERROR: Please contact course staff; failed to perform wget on image URL due to: {e}\")\n",
    "            raise StopExecution\n",
    "\n",
    "    try:\n",
    "        img = cv2.imread(file_name, cv2.IMREAD_COLOR)\n",
    "        img = cv2.cvtColor(img, cv2.COLOR_BGR2GRAY)\n",
    "        gaussian_filtered_img = convolve(img, gaussian_kernel(s, n))\n",
    "        if gradient_kernel == \"Sobel\":\n",
    "            Ix, Iy = gradients_xy_sobel(gaussian_filtered_img)\n",
    "        elif gradient_kernel == \"Prewitt\":\n",
    "            Ix, Iy = gradients_xy_prewitt(gaussian_filtered_img)\n",
    "        elif gradient_kernel == \"Roberts\":\n",
    "            Ix, Iy = gradients_xy_roberts(gaussian_filtered_img)\n",
    "\n",
    "        G_magnitude = gradient_magnitude(Ix, Iy)\n",
    "        G_angle = prep_for_NMS(gradient_direction(Ix, Iy))\n",
    "\n",
    "        G_magnitude_NMS = NMS(G_magnitude, G_angle)\n",
    "\n",
    "        fig, ax = plt.subplots(1, 3, figsize=(16, 5))\n",
    "        ax[0].imshow(img, cmap=\"gray\")\n",
    "        ax[0].set_title(\"Original Image\")\n",
    "        ax[1].imshow(G_magnitude, cmap=\"gray\")\n",
    "        ax[1].set_title(f\"Gradient ({gradient_kernel})\")\n",
    "        ax[2].imshow(G_magnitude_NMS, cmap=\"gray\")\n",
    "        ax[2].set_title(f\"Gradient NMS ({gradient_kernel})\")\n",
    "        for index, a in enumerate(ax):\n",
    "            a.set_xticks([])\n",
    "            a.set_yticks([])\n",
    "        plt.tight_layout()\n",
    "        plt.show()\n",
    "    except NameError as e:\n",
    "        print(f\"ERROR: It appears some of the above code cells were not ran; please run the above code cell(s): {e}\")\n",
    "        raise StopExecution\n",
    "    except Exception:\n",
    "        print(f\"ERROR: Required implementation is incorrect or incomplete\")\n",
    "        raise StopExecution"
   ]
  },
  {
   "cell_type": "markdown",
   "metadata": {
    "id": "7Fekc05HCwc9"
   },
   "source": [
    "## Step 4: Two-Stage Hysteresis (10 pts)"
   ]
  },
  {
   "cell_type": "markdown",
   "metadata": {
    "id": "b3jQuQTVC0_r"
   },
   "source": [
    "In this section, you'll implement functions for Step 4: Two-Stage Hysteresis."
   ]
  },
  {
   "cell_type": "markdown",
   "metadata": {
    "id": "xfFy2ACjkJ_b"
   },
   "source": [
    "### Two Stage Hysteresis (10 pts)"
   ]
  },
  {
   "cell_type": "markdown",
   "metadata": {
    "id": "70hBSPdBY1bp"
   },
   "source": [
    "`two_stage_hysteresis` (10 pts). The input into this function will be the gradient magnitude matrix, after applying non-maximal suppression (`NMS`) and being scaled (`rescale_matrix`) (i.e., assume those steps have already been done so no need to do them inside the function). The values in the input matrix, `M`, will take values between 0 to 1 inclusive. Given a `high_threshold` and `low_threshold` where `high_threshold` > `low_threshold`, perform two-stage hysteresis on the matrix `M`. The `high_threshold` and `low_threshold` parameters will be float numbers between `0` and `1`. The output should a binary matrix the same shape as `M` where `0` represents no edge and `1` represents an edge.\n",
    "\n",
    "To recap, the algorithm for two-stage hysyeresis is:\n",
    "- If a pixel value's gradient is above `high_threshold`, it's a strong edge and is kept (goes to one in the final binary image matrix).\n",
    "- If a pixel value's gradient is less than the `low_threshold`, then it's suppressed (goes to zero in the final binary image matrix).\n",
    "- If a pixel value's is between the `low_threshold` and `high_threshold` inclusive, then it's considered a weak edge. A weak edge will only remain if one of it's adjacent neigbors (for this implementation, it is the $3 \\times 3$ window centered on the pixel) is marked as a strong edge (goes to one in the final binary image matrix). Otherwise, it's suppressed.\n",
    "\n",
    "Note: for handling the gradients at the border, where gradient values need to be compared with gradient values that fall outside the image boundary, you can assume that the gradient values outside the gradient matrix are zero.\n",
    "\n",
    "In the end, the pixel values that correspond to an edge will stay and everything else will go to zero. In the end, we'll be left with a binary map of which pixels correspond to edges.\n"
   ]
  },
  {
   "cell_type": "markdown",
   "metadata": {
    "id": "wZBn5I9hQTuX"
   },
   "source": [
    "#### Examples"
   ]
  },
  {
   "cell_type": "markdown",
   "metadata": {
    "id": "sOl9q8kDQVRY"
   },
   "source": [
    "##### Example 1"
   ]
  },
  {
   "cell_type": "markdown",
   "metadata": {
    "id": "hKqArp2lRCR0"
   },
   "source": [
    "```python\n",
    "M = [\n",
    "    [0.0, 0.5, 0.1],\n",
    "    [0.4, 0.0, 0.1],\n",
    "    [0.4, 0.0, 0.2],\n",
    "]\n",
    "low_threshold = 0.15\n",
    "high_threshold = 0.45\n",
    "\n",
    "two_stage_hysteresis(M, low_threshold, high_threshold) = [\n",
    "    [0.0, 1.0, 0.0],\n",
    "    [1.0, 0.0, 0.0],\n",
    "    [0.0, 0.0, 0.0],\n",
    "]\n",
    "```\n",
    "\n",
    "**Explanation**: For the entries in `M` that are greater than the `high_thresold`, it becomes 1. For entries in `M` between the `low_threshold` and `high_threshold`, it becomes 1 if any of it's neighbors are above the `high_threshold`. Everything else becomes 0."
   ]
  },
  {
   "cell_type": "markdown",
   "metadata": {
    "id": "S2_ATev2QWc7"
   },
   "source": [
    "##### Example 2"
   ]
  },
  {
   "cell_type": "markdown",
   "metadata": {
    "id": "7rXXZ0aLSTVx"
   },
   "source": [
    "```python\n",
    "M = [\n",
    "    [0.3, 0.2, 0.2, 0.2],\n",
    "    [0.0, 0.1, 0.2, 0.1],\n",
    "    [0.5, 0.3, 0.2, 0.1],\n",
    "]\n",
    "low_threshold = 0.25\n",
    "high_threshold = 0.45\n",
    "\n",
    "two_stage_hysteresis(M, low_threshold, high_threshold) = [\n",
    "    [0.0, 0.0, 0.0, 0.0],\n",
    "    [0.0, 0.0, 0.0, 0.0],\n",
    "    [1.0, 1.0, 0.0, 0.0],\n",
    "]\n",
    "```\n",
    "\n",
    "**Explanation**: For the entries in `M` that are greater than the `high_thresold`, it becomes 1. For entries in `M` between the `low_threshold` and `high_threshold`, it becomes 1 if any of it's neighbors are above the `high_threshold`. Everything else becomes 0."
   ]
  },
  {
   "cell_type": "markdown",
   "metadata": {
    "id": "SMKR5dr-QSDR"
   },
   "source": [
    "#### Implementation"
   ]
  },
  {
   "cell_type": "code",
   "execution_count": 71,
   "metadata": {
    "id": "gSnqyvxpanoI"
   },
   "outputs": [],
   "source": [
    "def two_stage_hysteresis(M: np.ndarray, low_threshold: float, high_threshold: float) -> np.ndarray:\n",
    "    assert high_threshold > low_threshold, \"High threshold must be greater than low threshold\"\n",
    "    \n",
    "    H, W = M.shape\n",
    "    output = np.zeros((H, W))\n",
    "    \n",
    "    strong = 1\n",
    "    weak = 0.5\n",
    "\n",
    "    # First stage of hysteresis: classify strong, weak, and non-edges\n",
    "    strong_i, strong_j = np.where(M >= high_threshold)\n",
    "    weak_i, weak_j = np.where((M >= low_threshold) & (M < high_threshold))\n",
    "\n",
    "    output[weak_i, weak_j] = weak\n",
    "    output[strong_i, strong_j] = strong\n",
    "    \n",
    "    output = np.pad(output, 1)\n",
    "    \n",
    "    # Define the 8-connected neighborhood for edge tracking\n",
    "    neighbors = [(-1, -1), (-1, 0), (-1, 1), (0, -1), (0, 1), (1, -1), (1, 0), (1, 1)]\n",
    "\n",
    "    # Second stage of hysteresis: edge tracking by hysteresis\n",
    "    for i in range(1, H+1):\n",
    "        for j in range(1, W+1):\n",
    "            if output[i, j] == weak:\n",
    "                # add index of conneted weak edges\n",
    "                if any(output[i+dx, j+dy] == strong for dx, dy in neighbors):\n",
    "                    # not assign strong right away to avoid nepotism   \n",
    "                    strong_i = np.append(strong_i, i)\n",
    "                    strong_j = np.append(strong_j, j)                    \n",
    "                else:\n",
    "                    output[i, j] = 0  # Disconnected weak edges\n",
    "\n",
    "    output[strong_i, strong_j] = strong\n",
    "    \n",
    "    return output[1:(H+1), 1:(W+1)]  # return the unpadded output matrix\n"
   ]
  },
  {
   "cell_type": "code",
   "execution_count": 72,
   "metadata": {},
   "outputs": [
    {
     "data": {
      "text/plain": [
       "array([[0., 1., 0.],\n",
       "       [1., 0., 0.],\n",
       "       [0., 0., 0.]])"
      ]
     },
     "execution_count": 72,
     "metadata": {},
     "output_type": "execute_result"
    }
   ],
   "source": [
    "M = np.array([\n",
    "    [0.0, 0.5, 0.1],\n",
    "    [0.4, 0.0, 0.1],\n",
    "    [0.4, 0.0, 0.2],\n",
    "])\n",
    "\n",
    "low_threshold = 0.15\n",
    "high_threshold = 0.45\n",
    "\n",
    "two_stage_hysteresis(M, low_threshold, high_threshold) "
   ]
  },
  {
   "cell_type": "markdown",
   "metadata": {
    "id": "PHneX2WIQY_M"
   },
   "source": [
    "### Two Stage Hysteresis Demo"
   ]
  },
  {
   "cell_type": "markdown",
   "metadata": {
    "id": "xdONskRyc_xx"
   },
   "source": [
    "After implementing all of the above functions, you can experiment with / visualize the effects of two-stage hysteresis. Feel free to provide a `url` link to an image or a google drive link to an image (make sure the permission is set to view access to anyone with the link; [steps can be found here](https://support.google.com/docs/answer/2494822?hl=en&co=GENIE.Platform%3DDesktop)). The `low_threshold` and `high_threshold` should be between 0 to 1 inclusive and the `low_threshold` should less than the `high_threshold`. Note: the gradient visualizations pre-processes the original image with a gaussian kernel of size $5 \\times 5$ with $\\sigma = 3$ and determines the gradients with the Sobel operator. **Note**: the below cell does not run automatically - you'll need to press play each time."
   ]
  },
  {
   "cell_type": "code",
   "execution_count": 19,
   "metadata": {
    "cellView": "form",
    "colab": {
     "base_uri": "https://localhost:8080/",
     "height": 274
    },
    "id": "MVE1QL7Bc_yB",
    "outputId": "81bc1a45-ea3f-4ebb-87d9-c05c01263a79"
   },
   "outputs": [
    {
     "ename": "ModuleNotFoundError",
     "evalue": "No module named 'wget'",
     "output_type": "error",
     "traceback": [
      "\u001b[0;31m---------------------------------------------------------------------------\u001b[0m",
      "\u001b[0;31mModuleNotFoundError\u001b[0m                       Traceback (most recent call last)",
      "\u001b[0;32m/tmp/ipykernel_4531/2321367696.py\u001b[0m in \u001b[0;36m<module>\u001b[0;34m\u001b[0m\n\u001b[1;32m     13\u001b[0m     \u001b[0mcheck_and_install_library\u001b[0m\u001b[0;34m(\u001b[0m\u001b[0;34m\"wget\"\u001b[0m\u001b[0;34m)\u001b[0m\u001b[0;34m\u001b[0m\u001b[0;34m\u001b[0m\u001b[0m\n\u001b[1;32m     14\u001b[0m \u001b[0;34m\u001b[0m\u001b[0m\n\u001b[0;32m---> 15\u001b[0;31m     \u001b[0;32mimport\u001b[0m \u001b[0mwget\u001b[0m\u001b[0;34m\u001b[0m\u001b[0;34m\u001b[0m\u001b[0m\n\u001b[0m\u001b[1;32m     16\u001b[0m     \u001b[0;32mimport\u001b[0m \u001b[0mgdown\u001b[0m\u001b[0;34m\u001b[0m\u001b[0;34m\u001b[0m\u001b[0m\n\u001b[1;32m     17\u001b[0m     \u001b[0;32mimport\u001b[0m \u001b[0mmatplotlib\u001b[0m\u001b[0;34m.\u001b[0m\u001b[0mpyplot\u001b[0m \u001b[0;32mas\u001b[0m \u001b[0mplt\u001b[0m\u001b[0;34m\u001b[0m\u001b[0;34m\u001b[0m\u001b[0m\n",
      "\u001b[0;31mModuleNotFoundError\u001b[0m: No module named 'wget'"
     ]
    }
   ],
   "source": [
    "### DO NOT CHANGE ###\n",
    "#@title Experiment with Two Stage Hysteresis\n",
    "if __name__ == \"__main__\":\n",
    "\n",
    "    import importlib\n",
    "    import subprocess\n",
    "    def check_and_install_library(library_name):\n",
    "        try:\n",
    "            importlib.import_module(library_name)\n",
    "        except ImportError:\n",
    "            subprocess.call([\"pip\", \"-q\", \"install\", library_name])\n",
    "\n",
    "    check_and_install_library(\"wget\")\n",
    "\n",
    "    import wget\n",
    "    import gdown\n",
    "    import matplotlib.pyplot as plt\n",
    "    import time\n",
    "    import cv2\n",
    "    import re\n",
    "    from urllib.error import HTTPError\n",
    "\n",
    "    class StopExecution(Exception):\n",
    "        def _render_traceback_(self):\n",
    "            pass\n",
    "\n",
    "    url = \"https://drive.google.com/file/d/15HWhYP_Kjbsz5AusTuuZtLi9nmTGiviY/view?usp=drive_link\" #@param { type: \"string\" }\n",
    "    s = 3\n",
    "    n = 5\n",
    "    gradient_kernel = \"Sobel\"\n",
    "    low_threshold = 0.4 #@param {type:\"number\"}\n",
    "    high_threshold = 0.5 #@param {type:\"number\"}\n",
    "\n",
    "    if not (0 <= low_threshold <= 1):\n",
    "        print(f\"ERROR: Input `low_threshold` not valid number between 0 to 1; found `low_threshold` = {low_threshold}\")\n",
    "        raise StopExecution\n",
    "\n",
    "    if not (0 <= high_threshold <= 1):\n",
    "        print(f\"ERROR: Input `high_threshold` not valid number between 0 to 1; found `high_threshold` = {high_threshold}\")\n",
    "        raise StopExecution\n",
    "\n",
    "    if low_threshold > high_threshold:\n",
    "        print(f\"ERROR: Input `low_threshold` is higher than `high_threshold`; found `low_threshold` = {low_threshold} and `high_threshold` = {high_threshold}\")\n",
    "        raise StopExecution\n",
    "\n",
    "    now = time.strftime(\"%Y%m%d-%H%M%S\")\n",
    "    file_name = f\"img_{now}.jpeg\"\n",
    "\n",
    "    if \"drive.google.com\" in url:\n",
    "        id_match = re.search(r'/d/([a-zA-Z0-9_-]+)', url)\n",
    "        if id_match:\n",
    "            extracted_id = id_match.group(1)\n",
    "        else:\n",
    "            print(f\"ERROR: Invalid Google Drive URL - provide another URL\")\n",
    "            raise StopExecution\n",
    "\n",
    "        try:\n",
    "            gdown.download(f\"https://drive.google.com/uc?id={extracted_id}\", file_name, quiet=True)\n",
    "        except gdown.exceptions.FileURLRetrievalError:\n",
    "            print(f\"ERROR: Invalid Google Drive URL - please check the access permission or that the file exists or provide another URL\")\n",
    "            raise StopExecution\n",
    "        except Exception as e:\n",
    "            print(f\"ERROR: Please contact course staff; failed to perform wget on image URL due to: {e}\")\n",
    "            raise StopExecution\n",
    "    else:\n",
    "        try:\n",
    "            wget.download(url, file_name)\n",
    "        except TypeError:\n",
    "            print(f\"ERROR: Invalid Image URL - provide another URL\")\n",
    "            raise StopExecution\n",
    "        except HTTPError:\n",
    "            print(f\"ERROR: Failed make HTTP request to Image URL - provide another URL\")\n",
    "            raise StopExecution\n",
    "        except Exception as e:\n",
    "            print(f\"ERROR: Please contact course staff; failed to perform wget on image URL due to: {e}\")\n",
    "            raise StopExecution\n",
    "\n",
    "    try:\n",
    "        img = cv2.imread(file_name, cv2.IMREAD_COLOR)\n",
    "        img = cv2.cvtColor(img, cv2.COLOR_BGR2GRAY)\n",
    "        gaussian_filtered_img = convolve(img, gaussian_kernel(s, n))\n",
    "        if gradient_kernel == \"Sobel\":\n",
    "            Ix, Iy = gradients_xy_sobel(gaussian_filtered_img)\n",
    "        elif gradient_kernel == \"Prewitt\":\n",
    "            Ix, Iy = gradients_xy_prewitt(gaussian_filtered_img)\n",
    "        elif gradient_kernel == \"Roberts\":\n",
    "            Ix, Iy = gradients_xy_roberts(gaussian_filtered_img)\n",
    "\n",
    "        G_magnitude = gradient_magnitude(Ix, Iy)\n",
    "        G_angle = prep_for_NMS(gradient_direction(Ix, Iy))\n",
    "\n",
    "        G_magnitude_NMS = NMS(G_magnitude, G_angle)\n",
    "        G_magnitude_NMS_scaled = rescale_matrix(G_magnitude_NMS)\n",
    "        edges = two_stage_hysteresis(G_magnitude_NMS_scaled, low_threshold, high_threshold)\n",
    "\n",
    "        fig, ax = plt.subplots(1, 4, figsize=(21, 5))\n",
    "        ax[0].imshow(img, cmap=\"gray\")\n",
    "        ax[0].set_title(\"Original Image\")\n",
    "        ax[1].imshow(G_magnitude, cmap=\"gray\")\n",
    "        ax[1].set_title(f\"Gradient ({gradient_kernel})\")\n",
    "        ax[2].imshow(G_magnitude_NMS, cmap=\"gray\")\n",
    "        ax[2].set_title(f\"Gradient NMS ({gradient_kernel})\")\n",
    "        ax[3].imshow(edges, cmap=\"gray\")\n",
    "        ax[3].set_title(f\"Edges (low_threshold = {low_threshold:.2f}, high_threshold = {high_threshold:.2f})\")\n",
    "        for index, a in enumerate(ax):\n",
    "            a.set_xticks([])\n",
    "            a.set_yticks([])\n",
    "        plt.tight_layout()\n",
    "        plt.show()\n",
    "    except NameError as e:\n",
    "        print(f\"ERROR: It appears some of the above code cells were not ran; please run the above code cell(s): {e}\")\n",
    "        raise StopExecution\n",
    "    except Exception:\n",
    "        print(f\"ERROR: Required implementation is incorrect or incomplete\")\n",
    "        raise StopExecution"
   ]
  },
  {
   "cell_type": "markdown",
   "metadata": {
    "id": "xTABWU_Oi_cT"
   },
   "source": [
    "## Canny Edge Detection Demo (0 pts)"
   ]
  },
  {
   "cell_type": "markdown",
   "metadata": {
    "id": "3P3bm84YjCvB"
   },
   "source": [
    "**Congrats on implementing the Canny Edge Detection algorithm**. In this section, you can experiment / demo with the algorithm by tuning / changing all the available parameters. Feel free to provide a `url` link to an image or a google drive link to an image (make sure the permission is set to view access to anyone with the link; [steps can be found here](https://support.google.com/docs/answer/2494822?hl=en&co=GENIE.Platform%3DDesktop)). **Note**: the below cell does not run automatically - you'll need to press play each time."
   ]
  },
  {
   "cell_type": "code",
   "execution_count": null,
   "metadata": {
    "cellView": "form",
    "colab": {
     "base_uri": "https://localhost:8080/",
     "height": 274
    },
    "id": "R_4aHV6KjoZZ",
    "outputId": "01204560-5d14-4c44-deff-7a561421c81d"
   },
   "outputs": [],
   "source": [
    "### DO NOT CHANGE ###\n",
    "#@title Experiment with the Canny Edge Detection Algorithm\n",
    "if __name__ == \"__main__\":\n",
    "\n",
    "    import importlib\n",
    "    import subprocess\n",
    "    def check_and_install_library(library_name):\n",
    "        try:\n",
    "            importlib.import_module(library_name)\n",
    "        except ImportError:\n",
    "            subprocess.call([\"pip\", \"-q\", \"install\", library_name])\n",
    "\n",
    "    check_and_install_library(\"wget\")\n",
    "\n",
    "    import wget\n",
    "    import gdown\n",
    "    import matplotlib.pyplot as plt\n",
    "    import time\n",
    "    import cv2\n",
    "    import re\n",
    "    from urllib.error import HTTPError\n",
    "\n",
    "    class StopExecution(Exception):\n",
    "        def _render_traceback_(self):\n",
    "            pass\n",
    "\n",
    "    url = \"https://drive.google.com/file/d/15HWhYP_Kjbsz5AusTuuZtLi9nmTGiviY/view?usp=drive_link\" #@param { type: \"string\" }\n",
    "    s = 3 #@param { type: \"slider\", min: 1, max: 20, step: 1}\n",
    "    n = 5 #@param { type: \"slider\", min: 3, max: 25, step: 2}\n",
    "    gradient_kernel = \"Sobel\" #@param [\"Sobel\", \"Prewitt\", \"Roberts\"]\n",
    "    low_threshold = 0.12 #@param {type:\"number\"}\n",
    "    high_threshold = 0.17 #@param {type:\"number\"}\n",
    "\n",
    "    if not (0 <= low_threshold <= 1):\n",
    "        print(f\"ERROR: Input `low_threshold` not valid number between 0 to 1; found `low_threshold` = {low_threshold}\")\n",
    "        raise StopExecution\n",
    "\n",
    "    if not (0 <= high_threshold <= 1):\n",
    "        print(f\"ERROR: Input `high_threshold` not valid number between 0 to 1; found `high_threshold` = {high_threshold}\")\n",
    "        raise StopExecution\n",
    "\n",
    "    if low_threshold > high_threshold:\n",
    "        print(f\"ERROR: Input `low_threshold` is higher than `high_threshold`; found `low_threshold` = {low_threshold} and `high_threshold` = {high_threshold}\")\n",
    "        raise StopExecution\n",
    "\n",
    "    now = time.strftime(\"%Y%m%d-%H%M%S\")\n",
    "    file_name = f\"img_{now}.jpeg\"\n",
    "\n",
    "    if \"drive.google.com\" in url:\n",
    "        id_match = re.search(r'/d/([a-zA-Z0-9_-]+)', url)\n",
    "        if id_match:\n",
    "            extracted_id = id_match.group(1)\n",
    "        else:\n",
    "            print(f\"ERROR: Invalid Google Drive URL - provide another URL\")\n",
    "            raise StopExecution\n",
    "\n",
    "        try:\n",
    "            gdown.download(f\"https://drive.google.com/uc?id={extracted_id}\", file_name, quiet=True)\n",
    "        except gdown.exceptions.FileURLRetrievalError:\n",
    "            print(f\"ERROR: Invalid Google Drive URL - please check the access permission or that the file exists or provide another URL\")\n",
    "            raise StopExecution\n",
    "        except Exception as e:\n",
    "            print(f\"ERROR: Please contact course staff; failed to perform wget on image URL due to: {e}\")\n",
    "            raise StopExecution\n",
    "    else:\n",
    "        try:\n",
    "            wget.download(url, file_name)\n",
    "        except TypeError:\n",
    "            print(f\"ERROR: Invalid Image URL - provide another URL\")\n",
    "            raise StopExecution\n",
    "        except HTTPError:\n",
    "            print(f\"ERROR: Failed make HTTP request to Image URL - provide another URL\")\n",
    "            raise StopExecution\n",
    "        except Exception as e:\n",
    "            print(f\"ERROR: Please contact course staff; failed to perform wget on image URL due to: {e}\")\n",
    "            raise StopExecution\n",
    "\n",
    "    try:\n",
    "        img = cv2.imread(file_name, cv2.IMREAD_COLOR)\n",
    "        img = cv2.cvtColor(img, cv2.COLOR_BGR2GRAY)\n",
    "        gaussian_filtered_img = convolve(img, gaussian_kernel(s, n))\n",
    "        if gradient_kernel == \"Sobel\":\n",
    "            Ix, Iy = gradients_xy_sobel(gaussian_filtered_img)\n",
    "        elif gradient_kernel == \"Prewitt\":\n",
    "            Ix, Iy = gradients_xy_prewitt(gaussian_filtered_img)\n",
    "        elif gradient_kernel == \"Roberts\":\n",
    "            Ix, Iy = gradients_xy_roberts(gaussian_filtered_img)\n",
    "\n",
    "        G_magnitude = gradient_magnitude(Ix, Iy)\n",
    "        G_angle = prep_for_NMS(gradient_direction(Ix, Iy))\n",
    "\n",
    "        G_magnitude_NMS = NMS(G_magnitude, G_angle)\n",
    "        G_magnitude_NMS_scaled = rescale_matrix(G_magnitude_NMS)\n",
    "        edges = two_stage_hysteresis(G_magnitude_NMS_scaled, low_threshold, high_threshold)\n",
    "\n",
    "        fig, ax = plt.subplots(1, 4, figsize=(21, 5))\n",
    "        ax[0].imshow(img, cmap=\"gray\")\n",
    "        ax[0].set_title(\"Original Image\")\n",
    "        ax[1].imshow(G_magnitude, cmap=\"gray\")\n",
    "        ax[1].set_title(f\"Gradient ({gradient_kernel})\")\n",
    "        ax[2].imshow(G_magnitude_NMS, cmap=\"gray\")\n",
    "        ax[2].set_title(f\"Gradient NMS ({gradient_kernel})\")\n",
    "        ax[3].imshow(edges, cmap=\"gray\")\n",
    "        ax[3].set_title(f\"Edges (low_threshold = {low_threshold:.2f}, high_threshold = {high_threshold:.2f})\")\n",
    "        for index, a in enumerate(ax):\n",
    "            a.set_xticks([])\n",
    "            a.set_yticks([])\n",
    "        plt.tight_layout()\n",
    "        plt.show()\n",
    "    except NameError as e:\n",
    "        print(f\"ERROR: It appears some of the above code cells were not ran; please run the above code cell(s): {e}\")\n",
    "        raise StopExecution\n",
    "    except Exception:\n",
    "        print(f\"ERROR: Required implementation is incorrect or incomplete\")\n",
    "        raise StopExecution"
   ]
  },
  {
   "cell_type": "markdown",
   "metadata": {
    "id": "cvE8wURv0CEY"
   },
   "source": [
    "## Problem Set Survey (5 pts)"
   ]
  },
  {
   "cell_type": "markdown",
   "metadata": {
    "id": "DYBVThdS0CEZ"
   },
   "source": [
    "Please fill out the survey questions (the first five are each worth 1 point; the last one is optional).\n",
    "\n",
    "\n",
    "1.   `TIME` (1 pt): approximately how many hours did you spend on the problem set? Please use decimals to express partial hours (e.g., a value of `2.5` means two and half hours).\n",
    "2.   `DIFFICULTY` (1 pt): on a scale of 1-10, how difficult was this problem set with 1 being very easy and 10 being very hard?\n",
    "3.   `FAVORITE_PART` (1 pt): What was your favorite topic / learning from the unit (i.e., between the last pset and this pset)? This should contain at least 10 words.\n",
    "4.   `WENT_WELL` (1 pt): What went well? Describe what went well with the course so far (this can be about the lecture, assignments, and/or other course content). This should contain at least 10 words.\n",
    "5.   `CHALLENGING` (1 pt): What was challenging? Describe what was challenging or didn't go well with the course so far (this can be about the lecture, assignments, and/or other course content). This should contain at least 10 words.\n",
    "6.   `COMMENTARY` (0 pt): If there is anything else you'd like to share with course staff, please add it here. If not, no need to change / edit the default string.\n"
   ]
  },
  {
   "cell_type": "code",
   "execution_count": null,
   "metadata": {
    "cellView": "form",
    "id": "kuAR1OTW0CEZ"
   },
   "outputs": [],
   "source": [
    "#@title Problem Set Survey Questions\n",
    "TIME = \"8\" #@param {type:\"string\"}\n",
    "\n",
    "DIFFICULTY = \"6\" #@param [\"\", \"1\", \"2\", \"3\", \"4\", \"5\", \"6\", \"7\", \"8\", \"9\", \"10\"]\n",
    "\n",
    "FAVORITE_PART = \"Trying to understand the effect of each of the four steps of Canny Edge Detection\" #@param {type:\"string\"}\n",
    "\n",
    "WENT_WELL = \"This assignment was a good refresher on matrix and array operations\" #@param {type:\"string\"}\n",
    "\n",
    "CHALLENGING = \"Trying to visualize convolution operators and effect on images in an intuitive way\" #@param {type:\"string\"}\n",
    "\n",
    "COMMENTARY = \"\" #@param {type:\"string\"}"
   ]
  },
  {
   "cell_type": "markdown",
   "metadata": {
    "id": "d1WZy8w10CEZ"
   },
   "source": [
    "**<font color='red'>To submit, please download as a Python (.py) file and submit on Gradescope (navigate to File > Download > Download .py). Please use the correct file name and comment out any test / extraneous code to avoid any compile and parser issues </font>**"
   ]
  }
 ],
 "metadata": {
  "colab": {
   "provenance": []
  },
  "kernelspec": {
   "display_name": "Python 3 (ipykernel)",
   "language": "python",
   "name": "python3"
  },
  "language_info": {
   "codemirror_mode": {
    "name": "ipython",
    "version": 3
   },
   "file_extension": ".py",
   "mimetype": "text/x-python",
   "name": "python",
   "nbconvert_exporter": "python",
   "pygments_lexer": "ipython3",
   "version": "3.11.7"
  }
 },
 "nbformat": 4,
 "nbformat_minor": 4
}
